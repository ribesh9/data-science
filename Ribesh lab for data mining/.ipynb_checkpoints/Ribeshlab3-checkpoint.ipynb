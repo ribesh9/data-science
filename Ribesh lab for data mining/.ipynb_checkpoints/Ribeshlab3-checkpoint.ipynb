{
 "cells": [
  {
   "cell_type": "code",
   "execution_count": 3,
   "id": "9faf7f31-1cb6-436f-8f95-6d8278598b60",
   "metadata": {},
   "outputs": [],
   "source": [
    "import numpy as np\n",
    "import pandas as pd\n",
    "import matplotlib.pyplot as plt\n",
    "import seaborn as sns\n",
    "from sklearn.tree import DecisionTreeClassifier, plot_tree\n",
    "from sklearn.model_selection import train_test_split\n",
    "from sklearn import tree\n",
    "from sklearn.preprocessing import LabelEncoder, OneHotEncoder, StandardScaler\n",
    "import warnings\n",
    "warnings.filterwarnings('ignore')"
   ]
  },
  {
   "cell_type": "code",
   "execution_count": 97,
   "id": "5ea726db-4ad6-44c2-bb55-701a1f4f93c3",
   "metadata": {},
   "outputs": [],
   "source": [
    "data = pd.read_csv(r\"D:\\Data Mining\\Data sets for lab report\\Heart Attack\\heart_attack_risk_dataset.csv\")\n",
    "df = pd.read_csv(r\"D:\\Data Mining\\Data sets for lab report\\Heart Attack\\heart_attack_risk_dataset.csv\")"
   ]
  },
  {
   "cell_type": "code",
   "execution_count": 5,
   "id": "addeac4f-ae82-4364-82c7-1562f1601734",
   "metadata": {},
   "outputs": [
    {
     "data": {
      "text/plain": [
       "Index(['Age', 'Gender', 'Smoking', 'Alcohol_Consumption',\n",
       "       'Physical_Activity_Level', 'BMI', 'Diabetes', 'Hypertension',\n",
       "       'Cholesterol_Level', 'Resting_BP', 'Heart_Rate', 'Family_History',\n",
       "       'Stress_Level', 'Chest_Pain_Type', 'Thalassemia', 'Fasting_Blood_Sugar',\n",
       "       'ECG_Results', 'Exercise_Induced_Angina', 'Max_Heart_Rate_Achieved',\n",
       "       'Heart_Attack_Risk'],\n",
       "      dtype='object')"
      ]
     },
     "execution_count": 5,
     "metadata": {},
     "output_type": "execute_result"
    }
   ],
   "source": [
    "data.columns"
   ]
  },
  {
   "cell_type": "code",
   "execution_count": 6,
   "id": "2a25d351-a3ee-4b19-ac66-2c073bbd0075",
   "metadata": {},
   "outputs": [
    {
     "name": "stdout",
     "output_type": "stream",
     "text": [
      "<class 'pandas.core.frame.DataFrame'>\n",
      "RangeIndex: 50000 entries, 0 to 49999\n",
      "Data columns (total 20 columns):\n",
      " #   Column                   Non-Null Count  Dtype  \n",
      "---  ------                   --------------  -----  \n",
      " 0   Age                      49926 non-null  float64\n",
      " 1   Gender                   50000 non-null  object \n",
      " 2   Smoking                  50000 non-null  int64  \n",
      " 3   Alcohol_Consumption      50000 non-null  int64  \n",
      " 4   Physical_Activity_Level  50000 non-null  object \n",
      " 5   BMI                      50000 non-null  float64\n",
      " 6   Diabetes                 50000 non-null  int64  \n",
      " 7   Hypertension             50000 non-null  int64  \n",
      " 8   Cholesterol_Level        50000 non-null  float64\n",
      " 9   Resting_BP               50000 non-null  int64  \n",
      " 10  Heart_Rate               50000 non-null  int64  \n",
      " 11  Family_History           50000 non-null  int64  \n",
      " 12  Stress_Level             50000 non-null  object \n",
      " 13  Chest_Pain_Type          50000 non-null  object \n",
      " 14  Thalassemia              50000 non-null  object \n",
      " 15  Fasting_Blood_Sugar      50000 non-null  int64  \n",
      " 16  ECG_Results              50000 non-null  object \n",
      " 17  Exercise_Induced_Angina  50000 non-null  int64  \n",
      " 18  Max_Heart_Rate_Achieved  50000 non-null  int64  \n",
      " 19  Heart_Attack_Risk        50000 non-null  object \n",
      "dtypes: float64(3), int64(10), object(7)\n",
      "memory usage: 7.6+ MB\n"
     ]
    },
    {
     "data": {
      "text/html": [
       "<div>\n",
       "<style scoped>\n",
       "    .dataframe tbody tr th:only-of-type {\n",
       "        vertical-align: middle;\n",
       "    }\n",
       "\n",
       "    .dataframe tbody tr th {\n",
       "        vertical-align: top;\n",
       "    }\n",
       "\n",
       "    .dataframe thead th {\n",
       "        text-align: right;\n",
       "    }\n",
       "</style>\n",
       "<table border=\"1\" class=\"dataframe\">\n",
       "  <thead>\n",
       "    <tr style=\"text-align: right;\">\n",
       "      <th></th>\n",
       "      <th>Age</th>\n",
       "      <th>Gender</th>\n",
       "      <th>Smoking</th>\n",
       "      <th>Alcohol_Consumption</th>\n",
       "      <th>Physical_Activity_Level</th>\n",
       "      <th>BMI</th>\n",
       "      <th>Diabetes</th>\n",
       "      <th>Hypertension</th>\n",
       "      <th>Cholesterol_Level</th>\n",
       "      <th>Resting_BP</th>\n",
       "      <th>Heart_Rate</th>\n",
       "      <th>Family_History</th>\n",
       "      <th>Stress_Level</th>\n",
       "      <th>Chest_Pain_Type</th>\n",
       "      <th>Thalassemia</th>\n",
       "      <th>Fasting_Blood_Sugar</th>\n",
       "      <th>ECG_Results</th>\n",
       "      <th>Exercise_Induced_Angina</th>\n",
       "      <th>Max_Heart_Rate_Achieved</th>\n",
       "      <th>Heart_Attack_Risk</th>\n",
       "    </tr>\n",
       "  </thead>\n",
       "  <tbody>\n",
       "    <tr>\n",
       "      <th>0</th>\n",
       "      <td>69.0</td>\n",
       "      <td>Female</td>\n",
       "      <td>1</td>\n",
       "      <td>0</td>\n",
       "      <td>Moderate</td>\n",
       "      <td>34.61</td>\n",
       "      <td>1</td>\n",
       "      <td>0</td>\n",
       "      <td>152.1</td>\n",
       "      <td>171</td>\n",
       "      <td>85</td>\n",
       "      <td>0</td>\n",
       "      <td>Moderate</td>\n",
       "      <td>Non-anginal</td>\n",
       "      <td>Reversible defect</td>\n",
       "      <td>0</td>\n",
       "      <td>Normal</td>\n",
       "      <td>0</td>\n",
       "      <td>114</td>\n",
       "      <td>Low</td>\n",
       "    </tr>\n",
       "    <tr>\n",
       "      <th>1</th>\n",
       "      <td>32.0</td>\n",
       "      <td>Male</td>\n",
       "      <td>0</td>\n",
       "      <td>0</td>\n",
       "      <td>Moderate</td>\n",
       "      <td>22.75</td>\n",
       "      <td>0</td>\n",
       "      <td>0</td>\n",
       "      <td>166.8</td>\n",
       "      <td>126</td>\n",
       "      <td>103</td>\n",
       "      <td>0</td>\n",
       "      <td>Low</td>\n",
       "      <td>Asymptomatic</td>\n",
       "      <td>Normal</td>\n",
       "      <td>0</td>\n",
       "      <td>ST-T abnormality</td>\n",
       "      <td>0</td>\n",
       "      <td>173</td>\n",
       "      <td>Moderate</td>\n",
       "    </tr>\n",
       "    <tr>\n",
       "      <th>2</th>\n",
       "      <td>89.0</td>\n",
       "      <td>Male</td>\n",
       "      <td>0</td>\n",
       "      <td>1</td>\n",
       "      <td>Moderate</td>\n",
       "      <td>35.32</td>\n",
       "      <td>0</td>\n",
       "      <td>0</td>\n",
       "      <td>272.3</td>\n",
       "      <td>123</td>\n",
       "      <td>127</td>\n",
       "      <td>0</td>\n",
       "      <td>Low</td>\n",
       "      <td>Typical</td>\n",
       "      <td>Reversible defect</td>\n",
       "      <td>0</td>\n",
       "      <td>ST-T abnormality</td>\n",
       "      <td>0</td>\n",
       "      <td>109</td>\n",
       "      <td>Low</td>\n",
       "    </tr>\n",
       "    <tr>\n",
       "      <th>3</th>\n",
       "      <td>78.0</td>\n",
       "      <td>Male</td>\n",
       "      <td>0</td>\n",
       "      <td>1</td>\n",
       "      <td>Moderate</td>\n",
       "      <td>18.23</td>\n",
       "      <td>1</td>\n",
       "      <td>0</td>\n",
       "      <td>237.7</td>\n",
       "      <td>144</td>\n",
       "      <td>125</td>\n",
       "      <td>0</td>\n",
       "      <td>Low</td>\n",
       "      <td>Typical</td>\n",
       "      <td>Fixed defect</td>\n",
       "      <td>1</td>\n",
       "      <td>Left Ventricular Hypertrophy</td>\n",
       "      <td>0</td>\n",
       "      <td>129</td>\n",
       "      <td>Low</td>\n",
       "    </tr>\n",
       "    <tr>\n",
       "      <th>4</th>\n",
       "      <td>38.0</td>\n",
       "      <td>Female</td>\n",
       "      <td>1</td>\n",
       "      <td>0</td>\n",
       "      <td>Moderate</td>\n",
       "      <td>19.82</td>\n",
       "      <td>0</td>\n",
       "      <td>0</td>\n",
       "      <td>207.7</td>\n",
       "      <td>123</td>\n",
       "      <td>107</td>\n",
       "      <td>0</td>\n",
       "      <td>High</td>\n",
       "      <td>Asymptomatic</td>\n",
       "      <td>Reversible defect</td>\n",
       "      <td>0</td>\n",
       "      <td>ST-T abnormality</td>\n",
       "      <td>0</td>\n",
       "      <td>124</td>\n",
       "      <td>Moderate</td>\n",
       "    </tr>\n",
       "  </tbody>\n",
       "</table>\n",
       "</div>"
      ],
      "text/plain": [
       "    Age  Gender  Smoking  Alcohol_Consumption Physical_Activity_Level    BMI  \\\n",
       "0  69.0  Female        1                    0                Moderate  34.61   \n",
       "1  32.0    Male        0                    0                Moderate  22.75   \n",
       "2  89.0    Male        0                    1                Moderate  35.32   \n",
       "3  78.0    Male        0                    1                Moderate  18.23   \n",
       "4  38.0  Female        1                    0                Moderate  19.82   \n",
       "\n",
       "   Diabetes  Hypertension  Cholesterol_Level  Resting_BP  Heart_Rate  \\\n",
       "0         1             0              152.1         171          85   \n",
       "1         0             0              166.8         126         103   \n",
       "2         0             0              272.3         123         127   \n",
       "3         1             0              237.7         144         125   \n",
       "4         0             0              207.7         123         107   \n",
       "\n",
       "   Family_History Stress_Level Chest_Pain_Type        Thalassemia  \\\n",
       "0               0     Moderate     Non-anginal  Reversible defect   \n",
       "1               0          Low    Asymptomatic             Normal   \n",
       "2               0          Low         Typical  Reversible defect   \n",
       "3               0          Low         Typical       Fixed defect   \n",
       "4               0         High    Asymptomatic  Reversible defect   \n",
       "\n",
       "   Fasting_Blood_Sugar                   ECG_Results  Exercise_Induced_Angina  \\\n",
       "0                    0                        Normal                        0   \n",
       "1                    0              ST-T abnormality                        0   \n",
       "2                    0              ST-T abnormality                        0   \n",
       "3                    1  Left Ventricular Hypertrophy                        0   \n",
       "4                    0              ST-T abnormality                        0   \n",
       "\n",
       "   Max_Heart_Rate_Achieved Heart_Attack_Risk  \n",
       "0                      114               Low  \n",
       "1                      173          Moderate  \n",
       "2                      109               Low  \n",
       "3                      129               Low  \n",
       "4                      124          Moderate  "
      ]
     },
     "execution_count": 6,
     "metadata": {},
     "output_type": "execute_result"
    }
   ],
   "source": [
    "data.info()\n",
    "data.describe()\n",
    "data.head()"
   ]
  },
  {
   "cell_type": "code",
   "execution_count": 99,
   "id": "6458f659-da81-4fd9-8222-920fda69bac7",
   "metadata": {},
   "outputs": [
    {
     "data": {
      "text/plain": [
       "Age                        74\n",
       "Gender                      0\n",
       "Smoking                     0\n",
       "Alcohol_Consumption         0\n",
       "Physical_Activity_Level     0\n",
       "BMI                         0\n",
       "Diabetes                    0\n",
       "Hypertension                0\n",
       "Cholesterol_Level           0\n",
       "Resting_BP                  0\n",
       "Heart_Rate                  0\n",
       "Family_History              0\n",
       "Stress_Level                0\n",
       "Chest_Pain_Type             0\n",
       "Thalassemia                 0\n",
       "Fasting_Blood_Sugar         0\n",
       "ECG_Results                 0\n",
       "Exercise_Induced_Angina     0\n",
       "Max_Heart_Rate_Achieved     0\n",
       "Heart_Attack_Risk           0\n",
       "dtype: int64"
      ]
     },
     "execution_count": 99,
     "metadata": {},
     "output_type": "execute_result"
    }
   ],
   "source": [
    "data.isna().sum()\n",
    "df.isna().sum()"
   ]
  },
  {
   "cell_type": "markdown",
   "id": "5a9eddc7-d38c-46f8-8e71-4bfe09b6bc1d",
   "metadata": {},
   "source": [
    "### Filling the null values"
   ]
  },
  {
   "cell_type": "code",
   "execution_count": 101,
   "id": "35bea58b-cc07-4948-b0cf-538941ea8cc5",
   "metadata": {},
   "outputs": [],
   "source": [
    "df['Age'].fillna(data['Age'].median(), inplace=True)"
   ]
  },
  {
   "cell_type": "code",
   "execution_count": 9,
   "id": "c360d915-f14d-43d5-88e1-7bf3fae77ccb",
   "metadata": {},
   "outputs": [],
   "source": [
    "data['Age'].fillna(data['Age'].median(), inplace=True)"
   ]
  },
  {
   "cell_type": "code",
   "execution_count": 10,
   "id": "458a781b-8d6a-452e-b9fb-36359a6eb8d1",
   "metadata": {},
   "outputs": [
    {
     "data": {
      "text/plain": [
       "Age                        0\n",
       "Gender                     0\n",
       "Smoking                    0\n",
       "Alcohol_Consumption        0\n",
       "Physical_Activity_Level    0\n",
       "BMI                        0\n",
       "Diabetes                   0\n",
       "Hypertension               0\n",
       "Cholesterol_Level          0\n",
       "Resting_BP                 0\n",
       "Heart_Rate                 0\n",
       "Family_History             0\n",
       "Stress_Level               0\n",
       "Chest_Pain_Type            0\n",
       "Thalassemia                0\n",
       "Fasting_Blood_Sugar        0\n",
       "ECG_Results                0\n",
       "Exercise_Induced_Angina    0\n",
       "Max_Heart_Rate_Achieved    0\n",
       "Heart_Attack_Risk          0\n",
       "dtype: int64"
      ]
     },
     "execution_count": 10,
     "metadata": {},
     "output_type": "execute_result"
    }
   ],
   "source": [
    "data.isna().sum()"
   ]
  },
  {
   "cell_type": "code",
   "execution_count": 103,
   "id": "6a7e3f32-a1cc-4487-a7a6-cd8b061fc190",
   "metadata": {},
   "outputs": [
    {
     "data": {
      "text/plain": [
       "Age                        0\n",
       "Gender                     0\n",
       "Smoking                    0\n",
       "Alcohol_Consumption        0\n",
       "Physical_Activity_Level    0\n",
       "BMI                        0\n",
       "Diabetes                   0\n",
       "Hypertension               0\n",
       "Cholesterol_Level          0\n",
       "Resting_BP                 0\n",
       "Heart_Rate                 0\n",
       "Family_History             0\n",
       "Stress_Level               0\n",
       "Chest_Pain_Type            0\n",
       "Thalassemia                0\n",
       "Fasting_Blood_Sugar        0\n",
       "ECG_Results                0\n",
       "Exercise_Induced_Angina    0\n",
       "Max_Heart_Rate_Achieved    0\n",
       "Heart_Attack_Risk          0\n",
       "dtype: int64"
      ]
     },
     "execution_count": 103,
     "metadata": {},
     "output_type": "execute_result"
    }
   ],
   "source": [
    "df.isna().sum()"
   ]
  },
  {
   "cell_type": "markdown",
   "id": "67c1bfcb-7716-4048-a0cf-df76ffad3c5b",
   "metadata": {},
   "source": [
    "### Checking for duplicated values"
   ]
  },
  {
   "cell_type": "code",
   "execution_count": 105,
   "id": "6d9acde0-4ba5-434b-85b8-5440f15b6154",
   "metadata": {},
   "outputs": [
    {
     "data": {
      "text/plain": [
       "0"
      ]
     },
     "execution_count": 105,
     "metadata": {},
     "output_type": "execute_result"
    }
   ],
   "source": [
    "data.duplicated().sum()"
   ]
  },
  {
   "cell_type": "markdown",
   "id": "068e542b-6676-40d0-beee-5cdab9a2c0b0",
   "metadata": {},
   "source": [
    "### Data Visualization"
   ]
  },
  {
   "cell_type": "code",
   "execution_count": 14,
   "id": "ad71dc9f-6e45-4041-947c-9a5ce10c520b",
   "metadata": {},
   "outputs": [
    {
     "data": {
      "image/png": "[encoded data removed]",
      "text/plain": [
       "<Figure size 1000x600 with 1 Axes>"
      ]
     },
     "metadata": {},
     "output_type": "display_data"
    }
   ],
   "source": [
    "# Histogram of Age\n",
    "plt.figure(figsize=(10, 6))\n",
    "sns.histplot(data['Age'], bins=30)\n",
    "plt.title('Histogram of age')\n",
    "plt.xlabel('Age')\n",
    "plt.ylabel('Frequency')\n",
    "plt.show()"
   ]
  },
  {
   "cell_type": "code",
   "execution_count": 15,
   "id": "fb3ec53d-e611-4aad-8360-d1c8a90391a8",
   "metadata": {},
   "outputs": [
    {
     "data": {
      "image/png": "[encoded data removed]",
      "text/plain": [
       "<Figure size 1000x600 with 1 Axes>"
      ]
     },
     "metadata": {},
     "output_type": "display_data"
    }
   ],
   "source": [
    "# Bar plot for \n",
    "plt.figure(figsize=(10, 6))\n",
    "sns.countplot(x=data['Physical_Activity_Level'])\n",
    "plt.title('Bar Chart of Physical Activity Level')\n",
    "plt.xlabel('Physical_Activity_Level')\n",
    "plt.ylabel('Frequency')\n",
    "plt.xticks(rotation=45)\n",
    "plt.show()"
   ]
  },
  {
   "cell_type": "code",
   "execution_count": 16,
   "id": "228e8281-5c2a-405c-a519-edfcb7ff3408",
   "metadata": {},
   "outputs": [
    {
     "data": {
      "image/png": "[encoded data removed]",
      "text/plain": [
       "<Figure size 800x600 with 1 Axes>"
      ]
     },
     "metadata": {},
     "output_type": "display_data"
    }
   ],
   "source": [
    "plt.figure(figsize=(8, 6))\n",
    "sns.scatterplot(x='Fasting_Blood_Sugar', y='Cholesterol_Level', data=data, hue='Heart_Attack_Risk')\n",
    "plt.title('Fasting_Blood_Sugar vs. Cholesterol_Level (Colored by Heart_Attack_Risk)')\n",
    "plt.xlabel('Fasting_Blood_Sugar')\n",
    "plt.ylabel('Cholesterol_Level')\n",
    "plt.show()"
   ]
  },
  {
   "cell_type": "code",
   "execution_count": 107,
   "id": "cb0ce6df-ce70-433c-b5f7-97ef4a28650d",
   "metadata": {},
   "outputs": [
    {
     "data": {
      "text/plain": [
       "Index(['Age', 'Gender', 'Smoking', 'Alcohol_Consumption',\n",
       "       'Physical_Activity_Level', 'BMI', 'Diabetes', 'Hypertension',\n",
       "       'Cholesterol_Level', 'Resting_BP', 'Heart_Rate', 'Family_History',\n",
       "       'Stress_Level', 'Chest_Pain_Type', 'Thalassemia', 'Fasting_Blood_Sugar',\n",
       "       'ECG_Results', 'Exercise_Induced_Angina', 'Max_Heart_Rate_Achieved',\n",
       "       'Heart_Attack_Risk'],\n",
       "      dtype='object')"
      ]
     },
     "execution_count": 107,
     "metadata": {},
     "output_type": "execute_result"
    }
   ],
   "source": [
    "df.columns"
   ]
  },
  {
   "cell_type": "code",
   "execution_count": 109,
   "id": "82945d38-7942-4f0a-aa10-462c9ceb4f76",
   "metadata": {},
   "outputs": [],
   "source": [
    "# Clean column names by stripping spaces\n",
    "df.columns = df.columns.str.strip()"
   ]
  },
  {
   "cell_type": "code",
   "execution_count": 111,
   "id": "af22a82d-2d05-441d-8561-99247a88a715",
   "metadata": {},
   "outputs": [],
   "source": [
    "dtype = {\n",
    "    'Age': 'int64',\n",
    "'BMI': 'int64',\n",
    "'Cholesterol_Level':'int64',\n",
    "'Resting_BP':'int64',\n",
    "'Heart_Rate':'int64',\n",
    "'Stress_Level':'category',\n",
    "'Fasting_Blood_Sugar':'int64',\n",
    "'Max_Heart_Rate_Achieved':'int64',\n",
    "'Gender':'category',\n",
    "'Smoking':'category',\n",
    "'Alcohol_Consumption':'category',\n",
    "'Physical_Activity_Level':'category',\n",
    "'Diabetes':'category',\n",
    "'Hypertension':'category',\n",
    "'Family_History':'category',\n",
    "'Chest_Pain_Type':'category',\n",
    "'Thalassemia':'category',\n",
    "'ECG_Results':'category',\n",
    "'Exercise_Induced_Angina':'category',\n",
    "'Heart_Attack_Risk':'category'\n",
    "}"
   ]
  },
  {
   "cell_type": "code",
   "execution_count": 113,
   "id": "0f5bfa9c-e97e-403b-9a47-0188607d898d",
   "metadata": {},
   "outputs": [],
   "source": [
    "df = df.astype(dtype)"
   ]
  },
  {
   "cell_type": "markdown",
   "id": "eb55a1a0-d83b-447e-a845-f741d9ee9501",
   "metadata": {},
   "source": [
    "### Analyzing categorical columns"
   ]
  },
  {
   "cell_type": "code",
   "execution_count": 115,
   "id": "0f81829d-96ac-423c-a736-b7e85cd268cd",
   "metadata": {},
   "outputs": [
    {
     "data": {
      "text/plain": [
       "Index(['Gender', 'Smoking', 'Alcohol_Consumption', 'Physical_Activity_Level',\n",
       "       'Diabetes', 'Hypertension', 'Family_History', 'Stress_Level',\n",
       "       'Chest_Pain_Type', 'Thalassemia', 'ECG_Results',\n",
       "       'Exercise_Induced_Angina', 'Heart_Attack_Risk'],\n",
       "      dtype='object')"
      ]
     },
     "execution_count": 115,
     "metadata": {},
     "output_type": "execute_result"
    }
   ],
   "source": [
    "categorical_cols = df.describe(include='category').columns\n",
    "categorical_cols"
   ]
  },
  {
   "cell_type": "code",
   "execution_count": 117,
   "id": "3cab5520-9684-43dc-ad47-aa27a492df2a",
   "metadata": {},
   "outputs": [],
   "source": [
    "# Initialize LabelEncoder\n",
    "label_encoder = LabelEncoder()\n",
    "\n",
    "# Apply label encoding to categorical columns\n",
    "for column in df.select_dtypes(include=['category']).columns:\n",
    "    df[column] = label_encoder.fit_transform(df[column])"
   ]
  },
  {
   "cell_type": "markdown",
   "id": "fc2899be-53d8-42d2-adb7-5e3b199548db",
   "metadata": {},
   "source": [
    "### Data Normalization"
   ]
  },
  {
   "cell_type": "code",
   "execution_count": 120,
   "id": "e064634c-0c6b-4193-bbcd-60353d7624bc",
   "metadata": {},
   "outputs": [],
   "source": [
    "from sklearn.preprocessing import MinMaxScaler\n",
    "\n",
    "# Define numerical columns to normalize\n",
    "numerical_columns = [\n",
    "    'Age', 'BMI', 'Cholesterol_Level', 'Resting_BP', \n",
    "    'Heart_Rate', 'Fasting_Blood_Sugar', \n",
    "    'Max_Heart_Rate_Achieved'\n",
    "]\n",
    "\n",
    "# Initialize the MinMaxScaler\n",
    "scaler = MinMaxScaler()\n",
    "\n",
    "# Normalize the numerical columns\n",
    "df[numerical_columns] = scaler.fit_transform(df[numerical_columns])"
   ]
  },
  {
   "cell_type": "markdown",
   "id": "774dd04e-26fd-47b3-aded-99941b16448f",
   "metadata": {},
   "source": [
    "### Performing KNN"
   ]
  },
  {
   "cell_type": "code",
   "execution_count": 123,
   "id": "1b5dc7ad-d6a4-4e66-8878-98869c149c3b",
   "metadata": {},
   "outputs": [
    {
     "data": {
      "text/plain": [
       "Heart_Attack_Risk\n",
       "Low         25024\n",
       "Moderate    14904\n",
       "High        10072\n",
       "Name: count, dtype: int64"
      ]
     },
     "execution_count": 123,
     "metadata": {},
     "output_type": "execute_result"
    }
   ],
   "source": [
    "data['Heart_Attack_Risk'].value_counts()"
   ]
  },
  {
   "cell_type": "code",
   "execution_count": 146,
   "id": "c936d322-df82-443d-a218-2a0a03b92299",
   "metadata": {},
   "outputs": [],
   "source": [
    "# Encode categorical variables\n",
    "for col in df.select_dtypes(include=['object']).columns:\n",
    "    df[col] = LabelEncoder().fit_transform(df[col])"
   ]
  },
  {
   "cell_type": "code",
   "execution_count": null,
   "id": "f037f581-2925-437c-b091-6314de779e76",
   "metadata": {},
   "outputs": [],
   "source": [
    "# Encode categorical variables\n",
    "for col in data.select_dtypes(include=['object']).columns:\n",
    "    data[col] = LabelEncoder().fit_transform(data[col])"
   ]
  },
  {
   "cell_type": "code",
   "execution_count": 176,
   "id": "1f130a8e-ed59-4ecd-9e21-e751ee2de6bf",
   "metadata": {},
   "outputs": [
    {
     "name": "stdout",
     "output_type": "stream",
     "text": [
      "Original class distribution: Counter({1: 25024, 2: 14904, 0: 10072})\n",
      "Resampled class distribution: Counter({1: 25024, 2: 25024, 0: 25024})\n",
      "Heart_Attack_Risk\n",
      "1    25024\n",
      "2    25024\n",
      "0    25024\n",
      "Name: count, dtype: int64\n"
     ]
    }
   ],
   "source": [
    "from imblearn.over_sampling import RandomOverSampler\n",
    "from collections import Counter\n",
    "\n",
    "# Check the class distribution\n",
    "print(\"Original class distribution:\", Counter(df['Heart_Attack_Risk']))\n",
    "\n",
    "# Separate features and target\n",
    "# X = df[['Heart_Attack_Risk']]  # Features (dummy feature for demonstration)\n",
    "X = df.drop(columns=['Heart_Attack_Risk']) \n",
    "y = df['Heart_Attack_Risk']    # Target\n",
    "\n",
    "# Apply RandomOverSampler to balance the data\n",
    "ros = RandomOverSampler(random_state=42)\n",
    "X_resampled, y_resampled = ros.fit_resample(X, y)\n",
    "\n",
    "# Check the new class distribution\n",
    "print(\"Resampled class distribution:\", Counter(y_resampled))\n",
    "\n",
    "# Create a balanced DataFrame\n",
    "df_resampled = pd.DataFrame(X_resampled, columns=['Heart_Attack_Risk'])\n",
    "df_resampled['Heart_Attack_Risk'] = y_resampled\n",
    "\n",
    "# Display the balanced dataset\n",
    "print(df_resampled['Heart_Attack_Risk'].value_counts())"
   ]
  },
  {
   "cell_type": "code",
   "execution_count": 178,
   "id": "fa795bea-4b54-4293-8895-b0f99aa881f0",
   "metadata": {},
   "outputs": [
    {
     "name": "stdout",
     "output_type": "stream",
     "text": [
      "Train set: (40000, 0) (40000,)\n",
      "\n",
      "Test set: (10000, 0) (10000,)\n"
     ]
    }
   ],
   "source": [
    "from sklearn.model_selection import train_test_split\n",
    "\n",
    "# Define features (X) and target (y)\n",
    "# X = data.drop(columns=['Heart_Attack_Risk'],axis = 1)  # Features (all columns except the target)\n",
    "# y = data['Heart_Attack_Risk']  # Target variable\n",
    "\n",
    "# Perform train-test split (80% training, 20% testing)\n",
    "X_train, X_test, y_train, y_test = train_test_split(X, y, test_size=0.2, random_state=42)\n",
    "\n",
    "# Display the split datasets\n",
    "print(\"Train set:\",X_train.shape,y_train.shape)\n",
    "print(\"\\nTest set:\",X_test.shape,y_test.shape)"
   ]
  },
  {
   "cell_type": "code",
   "execution_count": 180,
   "id": "0fbb1efd-6979-4e2e-9878-ace09d20dcf4",
   "metadata": {},
   "outputs": [
    {
     "data": {
      "text/plain": [
       "0"
      ]
     },
     "execution_count": 180,
     "metadata": {},
     "output_type": "execute_result"
    }
   ],
   "source": [
    "X_train.size"
   ]
  },
  {
   "cell_type": "code",
   "execution_count": 168,
   "id": "2262089a-0386-4ef3-82fa-2daf672ba670",
   "metadata": {},
   "outputs": [],
   "source": [
    "for col in X_train.select_dtypes(include=['object']).columns:\n",
    "    X_train[col] = LabelEncoder().fit_transform(X_train[col])"
   ]
  },
  {
   "cell_type": "code",
   "execution_count": 172,
   "id": "b51875c6-e4db-498b-8529-669a8de2d1aa",
   "metadata": {},
   "outputs": [
    {
     "name": "stdout",
     "output_type": "stream",
     "text": [
      "Error: Train set is empty! Check dataset preprocessing.\n"
     ]
    }
   ],
   "source": [
    "if X_train.size == 0 or y_train.size == 0:\n",
    "    print(\"Error: Train set is empty! Check dataset preprocessing.\")\n",
    "else:\n",
    "    knn = KNeighborsClassifier(n_neighbors=5)\n",
    "    knn.fit(X_train, y_train)"
   ]
  },
  {
   "cell_type": "code",
   "execution_count": 170,
   "id": "5e003a5d-e07c-4d47-a29d-2aa6ffe8ee3c",
   "metadata": {},
   "outputs": [
    {
     "ename": "ValueError",
     "evalue": "at least one array or dtype is required",
     "output_type": "error",
     "traceback": [
      "\u001b[1;31m---------------------------------------------------------------------------\u001b[0m",
      "\u001b[1;31mValueError\u001b[0m                                Traceback (most recent call last)",
      "Cell \u001b[1;32mIn[170], line 7\u001b[0m\n\u001b[0;32m      4\u001b[0m knn \u001b[38;5;241m=\u001b[39m KNeighborsClassifier(n_neighbors\u001b[38;5;241m=\u001b[39m\u001b[38;5;241m5\u001b[39m)  \u001b[38;5;66;03m# Use 5 neighbors (you can tune this)\u001b[39;00m\n\u001b[0;32m      6\u001b[0m \u001b[38;5;66;03m# Train the model\u001b[39;00m\n\u001b[1;32m----> 7\u001b[0m knn\u001b[38;5;241m.\u001b[39mfit(X_train, y_train)\n",
      "File \u001b[1;32mC:\\Anaconda\\Lib\\site-packages\\sklearn\\base.py:1389\u001b[0m, in \u001b[0;36m_fit_context.<locals>.decorator.<locals>.wrapper\u001b[1;34m(estimator, *args, **kwargs)\u001b[0m\n\u001b[0;32m   1382\u001b[0m     estimator\u001b[38;5;241m.\u001b[39m_validate_params()\n\u001b[0;32m   1384\u001b[0m \u001b[38;5;28;01mwith\u001b[39;00m config_context(\n\u001b[0;32m   1385\u001b[0m     skip_parameter_validation\u001b[38;5;241m=\u001b[39m(\n\u001b[0;32m   1386\u001b[0m         prefer_skip_nested_validation \u001b[38;5;129;01mor\u001b[39;00m global_skip_validation\n\u001b[0;32m   1387\u001b[0m     )\n\u001b[0;32m   1388\u001b[0m ):\n\u001b[1;32m-> 1389\u001b[0m     \u001b[38;5;28;01mreturn\u001b[39;00m fit_method(estimator, \u001b[38;5;241m*\u001b[39margs, \u001b[38;5;241m*\u001b[39m\u001b[38;5;241m*\u001b[39mkwargs)\n",
      "File \u001b[1;32mC:\\Anaconda\\Lib\\site-packages\\sklearn\\neighbors\\_classification.py:239\u001b[0m, in \u001b[0;36mKNeighborsClassifier.fit\u001b[1;34m(self, X, y)\u001b[0m\n\u001b[0;32m    217\u001b[0m \u001b[38;5;129m@_fit_context\u001b[39m(\n\u001b[0;32m    218\u001b[0m     \u001b[38;5;66;03m# KNeighborsClassifier.metric is not validated yet\u001b[39;00m\n\u001b[0;32m    219\u001b[0m     prefer_skip_nested_validation\u001b[38;5;241m=\u001b[39m\u001b[38;5;28;01mFalse\u001b[39;00m\n\u001b[0;32m    220\u001b[0m )\n\u001b[0;32m    221\u001b[0m \u001b[38;5;28;01mdef\u001b[39;00m \u001b[38;5;21mfit\u001b[39m(\u001b[38;5;28mself\u001b[39m, X, y):\n\u001b[0;32m    222\u001b[0m \u001b[38;5;250m    \u001b[39m\u001b[38;5;124;03m\"\"\"Fit the k-nearest neighbors classifier from the training dataset.\u001b[39;00m\n\u001b[0;32m    223\u001b[0m \n\u001b[0;32m    224\u001b[0m \u001b[38;5;124;03m    Parameters\u001b[39;00m\n\u001b[1;32m   (...)\u001b[0m\n\u001b[0;32m    237\u001b[0m \u001b[38;5;124;03m        The fitted k-nearest neighbors classifier.\u001b[39;00m\n\u001b[0;32m    238\u001b[0m \u001b[38;5;124;03m    \"\"\"\u001b[39;00m\n\u001b[1;32m--> 239\u001b[0m     \u001b[38;5;28;01mreturn\u001b[39;00m \u001b[38;5;28mself\u001b[39m\u001b[38;5;241m.\u001b[39m_fit(X, y)\n",
      "File \u001b[1;32mC:\\Anaconda\\Lib\\site-packages\\sklearn\\neighbors\\_base.py:478\u001b[0m, in \u001b[0;36mNeighborsBase._fit\u001b[1;34m(self, X, y)\u001b[0m\n\u001b[0;32m    476\u001b[0m \u001b[38;5;28;01mif\u001b[39;00m \u001b[38;5;28mself\u001b[39m\u001b[38;5;241m.\u001b[39m__sklearn_tags__()\u001b[38;5;241m.\u001b[39mtarget_tags\u001b[38;5;241m.\u001b[39mrequired:\n\u001b[0;32m    477\u001b[0m     \u001b[38;5;28;01mif\u001b[39;00m \u001b[38;5;129;01mnot\u001b[39;00m \u001b[38;5;28misinstance\u001b[39m(X, (KDTree, BallTree, NeighborsBase)):\n\u001b[1;32m--> 478\u001b[0m         X, y \u001b[38;5;241m=\u001b[39m validate_data(\n\u001b[0;32m    479\u001b[0m             \u001b[38;5;28mself\u001b[39m,\n\u001b[0;32m    480\u001b[0m             X,\n\u001b[0;32m    481\u001b[0m             y,\n\u001b[0;32m    482\u001b[0m             accept_sparse\u001b[38;5;241m=\u001b[39m\u001b[38;5;124m\"\u001b[39m\u001b[38;5;124mcsr\u001b[39m\u001b[38;5;124m\"\u001b[39m,\n\u001b[0;32m    483\u001b[0m             multi_output\u001b[38;5;241m=\u001b[39m\u001b[38;5;28;01mTrue\u001b[39;00m,\n\u001b[0;32m    484\u001b[0m             order\u001b[38;5;241m=\u001b[39m\u001b[38;5;124m\"\u001b[39m\u001b[38;5;124mC\u001b[39m\u001b[38;5;124m\"\u001b[39m,\n\u001b[0;32m    485\u001b[0m             ensure_all_finite\u001b[38;5;241m=\u001b[39mensure_all_finite,\n\u001b[0;32m    486\u001b[0m         )\n\u001b[0;32m    488\u001b[0m     \u001b[38;5;28;01mif\u001b[39;00m is_classifier(\u001b[38;5;28mself\u001b[39m):\n\u001b[0;32m    489\u001b[0m         \u001b[38;5;66;03m# Classification targets require a specific format\u001b[39;00m\n\u001b[0;32m    490\u001b[0m         \u001b[38;5;28;01mif\u001b[39;00m y\u001b[38;5;241m.\u001b[39mndim \u001b[38;5;241m==\u001b[39m \u001b[38;5;241m1\u001b[39m \u001b[38;5;129;01mor\u001b[39;00m y\u001b[38;5;241m.\u001b[39mndim \u001b[38;5;241m==\u001b[39m \u001b[38;5;241m2\u001b[39m \u001b[38;5;129;01mand\u001b[39;00m y\u001b[38;5;241m.\u001b[39mshape[\u001b[38;5;241m1\u001b[39m] \u001b[38;5;241m==\u001b[39m \u001b[38;5;241m1\u001b[39m:\n",
      "File \u001b[1;32mC:\\Anaconda\\Lib\\site-packages\\sklearn\\utils\\validation.py:2961\u001b[0m, in \u001b[0;36mvalidate_data\u001b[1;34m(_estimator, X, y, reset, validate_separately, skip_check_array, **check_params)\u001b[0m\n\u001b[0;32m   2959\u001b[0m         y \u001b[38;5;241m=\u001b[39m check_array(y, input_name\u001b[38;5;241m=\u001b[39m\u001b[38;5;124m\"\u001b[39m\u001b[38;5;124my\u001b[39m\u001b[38;5;124m\"\u001b[39m, \u001b[38;5;241m*\u001b[39m\u001b[38;5;241m*\u001b[39mcheck_y_params)\n\u001b[0;32m   2960\u001b[0m     \u001b[38;5;28;01melse\u001b[39;00m:\n\u001b[1;32m-> 2961\u001b[0m         X, y \u001b[38;5;241m=\u001b[39m check_X_y(X, y, \u001b[38;5;241m*\u001b[39m\u001b[38;5;241m*\u001b[39mcheck_params)\n\u001b[0;32m   2962\u001b[0m     out \u001b[38;5;241m=\u001b[39m X, y\n\u001b[0;32m   2964\u001b[0m \u001b[38;5;28;01mif\u001b[39;00m \u001b[38;5;129;01mnot\u001b[39;00m no_val_X \u001b[38;5;129;01mand\u001b[39;00m check_params\u001b[38;5;241m.\u001b[39mget(\u001b[38;5;124m\"\u001b[39m\u001b[38;5;124mensure_2d\u001b[39m\u001b[38;5;124m\"\u001b[39m, \u001b[38;5;28;01mTrue\u001b[39;00m):\n",
      "File \u001b[1;32mC:\\Anaconda\\Lib\\site-packages\\sklearn\\utils\\validation.py:1370\u001b[0m, in \u001b[0;36mcheck_X_y\u001b[1;34m(X, y, accept_sparse, accept_large_sparse, dtype, order, copy, force_writeable, force_all_finite, ensure_all_finite, ensure_2d, allow_nd, multi_output, ensure_min_samples, ensure_min_features, y_numeric, estimator)\u001b[0m\n\u001b[0;32m   1364\u001b[0m     \u001b[38;5;28;01mraise\u001b[39;00m \u001b[38;5;167;01mValueError\u001b[39;00m(\n\u001b[0;32m   1365\u001b[0m         \u001b[38;5;124mf\u001b[39m\u001b[38;5;124m\"\u001b[39m\u001b[38;5;132;01m{\u001b[39;00mestimator_name\u001b[38;5;132;01m}\u001b[39;00m\u001b[38;5;124m requires y to be passed, but the target y is None\u001b[39m\u001b[38;5;124m\"\u001b[39m\n\u001b[0;32m   1366\u001b[0m     )\n\u001b[0;32m   1368\u001b[0m ensure_all_finite \u001b[38;5;241m=\u001b[39m _deprecate_force_all_finite(force_all_finite, ensure_all_finite)\n\u001b[1;32m-> 1370\u001b[0m X \u001b[38;5;241m=\u001b[39m check_array(\n\u001b[0;32m   1371\u001b[0m     X,\n\u001b[0;32m   1372\u001b[0m     accept_sparse\u001b[38;5;241m=\u001b[39maccept_sparse,\n\u001b[0;32m   1373\u001b[0m     accept_large_sparse\u001b[38;5;241m=\u001b[39maccept_large_sparse,\n\u001b[0;32m   1374\u001b[0m     dtype\u001b[38;5;241m=\u001b[39mdtype,\n\u001b[0;32m   1375\u001b[0m     order\u001b[38;5;241m=\u001b[39morder,\n\u001b[0;32m   1376\u001b[0m     copy\u001b[38;5;241m=\u001b[39mcopy,\n\u001b[0;32m   1377\u001b[0m     force_writeable\u001b[38;5;241m=\u001b[39mforce_writeable,\n\u001b[0;32m   1378\u001b[0m     ensure_all_finite\u001b[38;5;241m=\u001b[39mensure_all_finite,\n\u001b[0;32m   1379\u001b[0m     ensure_2d\u001b[38;5;241m=\u001b[39mensure_2d,\n\u001b[0;32m   1380\u001b[0m     allow_nd\u001b[38;5;241m=\u001b[39mallow_nd,\n\u001b[0;32m   1381\u001b[0m     ensure_min_samples\u001b[38;5;241m=\u001b[39mensure_min_samples,\n\u001b[0;32m   1382\u001b[0m     ensure_min_features\u001b[38;5;241m=\u001b[39mensure_min_features,\n\u001b[0;32m   1383\u001b[0m     estimator\u001b[38;5;241m=\u001b[39mestimator,\n\u001b[0;32m   1384\u001b[0m     input_name\u001b[38;5;241m=\u001b[39m\u001b[38;5;124m\"\u001b[39m\u001b[38;5;124mX\u001b[39m\u001b[38;5;124m\"\u001b[39m,\n\u001b[0;32m   1385\u001b[0m )\n\u001b[0;32m   1387\u001b[0m y \u001b[38;5;241m=\u001b[39m _check_y(y, multi_output\u001b[38;5;241m=\u001b[39mmulti_output, y_numeric\u001b[38;5;241m=\u001b[39my_numeric, estimator\u001b[38;5;241m=\u001b[39mestimator)\n\u001b[0;32m   1389\u001b[0m check_consistent_length(X, y)\n",
      "File \u001b[1;32mC:\\Anaconda\\Lib\\site-packages\\sklearn\\utils\\validation.py:931\u001b[0m, in \u001b[0;36mcheck_array\u001b[1;34m(array, accept_sparse, accept_large_sparse, dtype, order, copy, force_writeable, force_all_finite, ensure_all_finite, ensure_non_negative, ensure_2d, allow_nd, ensure_min_samples, ensure_min_features, estimator, input_name)\u001b[0m\n\u001b[0;32m    927\u001b[0m pandas_requires_conversion \u001b[38;5;241m=\u001b[39m \u001b[38;5;28many\u001b[39m(\n\u001b[0;32m    928\u001b[0m     _pandas_dtype_needs_early_conversion(i) \u001b[38;5;28;01mfor\u001b[39;00m i \u001b[38;5;129;01min\u001b[39;00m dtypes_orig\n\u001b[0;32m    929\u001b[0m )\n\u001b[0;32m    930\u001b[0m \u001b[38;5;28;01mif\u001b[39;00m \u001b[38;5;28mall\u001b[39m(\u001b[38;5;28misinstance\u001b[39m(dtype_iter, np\u001b[38;5;241m.\u001b[39mdtype) \u001b[38;5;28;01mfor\u001b[39;00m dtype_iter \u001b[38;5;129;01min\u001b[39;00m dtypes_orig):\n\u001b[1;32m--> 931\u001b[0m     dtype_orig \u001b[38;5;241m=\u001b[39m np\u001b[38;5;241m.\u001b[39mresult_type(\u001b[38;5;241m*\u001b[39mdtypes_orig)\n\u001b[0;32m    932\u001b[0m \u001b[38;5;28;01melif\u001b[39;00m pandas_requires_conversion \u001b[38;5;129;01mand\u001b[39;00m \u001b[38;5;28many\u001b[39m(d \u001b[38;5;241m==\u001b[39m \u001b[38;5;28mobject\u001b[39m \u001b[38;5;28;01mfor\u001b[39;00m d \u001b[38;5;129;01min\u001b[39;00m dtypes_orig):\n\u001b[0;32m    933\u001b[0m     \u001b[38;5;66;03m# Force object if any of the dtypes is an object\u001b[39;00m\n\u001b[0;32m    934\u001b[0m     dtype_orig \u001b[38;5;241m=\u001b[39m \u001b[38;5;28mobject\u001b[39m\n",
      "\u001b[1;31mValueError\u001b[0m: at least one array or dtype is required"
     ]
    }
   ],
   "source": [
    "from sklearn.neighbors import KNeighborsClassifier\n",
    "\n",
    "# Initialize the KNN classifier\n",
    "knn = KNeighborsClassifier(n_neighbors=5)  # Use 5 neighbors (you can tune this)\n",
    "\n",
    "# Train the model\n",
    "knn.fit(X_train, y_train)"
   ]
  },
  {
   "cell_type": "code",
   "execution_count": 131,
   "id": "9853a0be-10a4-48cb-b263-c31ec83454fc",
   "metadata": {},
   "outputs": [
    {
     "ename": "NotFittedError",
     "evalue": "This KNeighborsClassifier instance is not fitted yet. Call 'fit' with appropriate arguments before using this estimator.",
     "output_type": "error",
     "traceback": [
      "\u001b[1;31m---------------------------------------------------------------------------\u001b[0m",
      "\u001b[1;31mNotFittedError\u001b[0m                            Traceback (most recent call last)",
      "Cell \u001b[1;32mIn[131], line 4\u001b[0m\n\u001b[0;32m      1\u001b[0m \u001b[38;5;28;01mfrom\u001b[39;00m \u001b[38;5;21;01msklearn\u001b[39;00m\u001b[38;5;21;01m.\u001b[39;00m\u001b[38;5;21;01mmetrics\u001b[39;00m \u001b[38;5;28;01mimport\u001b[39;00m accuracy_score, classification_report, confusion_matrix\n\u001b[0;32m      3\u001b[0m \u001b[38;5;66;03m# Make predictions on the test set\u001b[39;00m\n\u001b[1;32m----> 4\u001b[0m y_pred \u001b[38;5;241m=\u001b[39m knn\u001b[38;5;241m.\u001b[39mpredict(X_test)\n\u001b[0;32m      6\u001b[0m \u001b[38;5;66;03m# Calculate accuracy\u001b[39;00m\n\u001b[0;32m      7\u001b[0m accuracy \u001b[38;5;241m=\u001b[39m accuracy_score(y_test, y_pred)\n",
      "File \u001b[1;32mC:\\Anaconda\\Lib\\site-packages\\sklearn\\neighbors\\_classification.py:257\u001b[0m, in \u001b[0;36mKNeighborsClassifier.predict\u001b[1;34m(self, X)\u001b[0m\n\u001b[0;32m    241\u001b[0m \u001b[38;5;28;01mdef\u001b[39;00m \u001b[38;5;21mpredict\u001b[39m(\u001b[38;5;28mself\u001b[39m, X):\n\u001b[0;32m    242\u001b[0m \u001b[38;5;250m    \u001b[39m\u001b[38;5;124;03m\"\"\"Predict the class labels for the provided data.\u001b[39;00m\n\u001b[0;32m    243\u001b[0m \n\u001b[0;32m    244\u001b[0m \u001b[38;5;124;03m    Parameters\u001b[39;00m\n\u001b[1;32m   (...)\u001b[0m\n\u001b[0;32m    255\u001b[0m \u001b[38;5;124;03m        Class labels for each data sample.\u001b[39;00m\n\u001b[0;32m    256\u001b[0m \u001b[38;5;124;03m    \"\"\"\u001b[39;00m\n\u001b[1;32m--> 257\u001b[0m     check_is_fitted(\u001b[38;5;28mself\u001b[39m, \u001b[38;5;124m\"\u001b[39m\u001b[38;5;124m_fit_method\u001b[39m\u001b[38;5;124m\"\u001b[39m)\n\u001b[0;32m    258\u001b[0m     \u001b[38;5;28;01mif\u001b[39;00m \u001b[38;5;28mself\u001b[39m\u001b[38;5;241m.\u001b[39mweights \u001b[38;5;241m==\u001b[39m \u001b[38;5;124m\"\u001b[39m\u001b[38;5;124muniform\u001b[39m\u001b[38;5;124m\"\u001b[39m:\n\u001b[0;32m    259\u001b[0m         \u001b[38;5;28;01mif\u001b[39;00m \u001b[38;5;28mself\u001b[39m\u001b[38;5;241m.\u001b[39m_fit_method \u001b[38;5;241m==\u001b[39m \u001b[38;5;124m\"\u001b[39m\u001b[38;5;124mbrute\u001b[39m\u001b[38;5;124m\"\u001b[39m \u001b[38;5;129;01mand\u001b[39;00m ArgKminClassMode\u001b[38;5;241m.\u001b[39mis_usable_for(\n\u001b[0;32m    260\u001b[0m             X, \u001b[38;5;28mself\u001b[39m\u001b[38;5;241m.\u001b[39m_fit_X, \u001b[38;5;28mself\u001b[39m\u001b[38;5;241m.\u001b[39mmetric\n\u001b[0;32m    261\u001b[0m         ):\n",
      "File \u001b[1;32mC:\\Anaconda\\Lib\\site-packages\\sklearn\\utils\\validation.py:1757\u001b[0m, in \u001b[0;36mcheck_is_fitted\u001b[1;34m(estimator, attributes, msg, all_or_any)\u001b[0m\n\u001b[0;32m   1754\u001b[0m     \u001b[38;5;28;01mreturn\u001b[39;00m\n\u001b[0;32m   1756\u001b[0m \u001b[38;5;28;01mif\u001b[39;00m \u001b[38;5;129;01mnot\u001b[39;00m _is_fitted(estimator, attributes, all_or_any):\n\u001b[1;32m-> 1757\u001b[0m     \u001b[38;5;28;01mraise\u001b[39;00m NotFittedError(msg \u001b[38;5;241m%\u001b[39m {\u001b[38;5;124m\"\u001b[39m\u001b[38;5;124mname\u001b[39m\u001b[38;5;124m\"\u001b[39m: \u001b[38;5;28mtype\u001b[39m(estimator)\u001b[38;5;241m.\u001b[39m\u001b[38;5;18m__name__\u001b[39m})\n",
      "\u001b[1;31mNotFittedError\u001b[0m: This KNeighborsClassifier instance is not fitted yet. Call 'fit' with appropriate arguments before using this estimator."
     ]
    }
   ],
   "source": [
    "from sklearn.metrics import accuracy_score, classification_report, confusion_matrix\n",
    "\n",
    "# Make predictions on the test set\n",
    "y_pred = knn.predict(X_test)\n",
    "\n",
    "# Calculate accuracy\n",
    "accuracy = accuracy_score(y_test, y_pred)\n",
    "print(f\"Accuracy: {accuracy:.2f}\")\n",
    "\n",
    "# Classification report\n",
    "print(\"Classification Report:\")\n",
    "print(classification_report(y_test, y_pred))\n",
    "\n",
    "# Confusion matrix\n",
    "print(\"Confusion Matrix:\")\n",
    "print(confusion_matrix(y_test, y_pred))"
   ]
  },
  {
   "cell_type": "code",
   "execution_count": null,
   "id": "864fe696-2086-4355-98e8-d6708605b0a9",
   "metadata": {},
   "outputs": [],
   "source": []
  },
  {
   "cell_type": "code",
   "execution_count": null,
   "id": "4d704072-d386-40b8-84cb-a9f1597d0011",
   "metadata": {},
   "outputs": [],
   "source": []
  }
 ],
 "metadata": {
  "kernelspec": {
   "display_name": "Python [conda env:base] *",
   "language": "python",
   "name": "conda-base-py"
  },
  "language_info": {
   "codemirror_mode": {
    "name": "ipython",
    "version": 3
   },
   "file_extension": ".py",
   "mimetype": "text/x-python",
   "name": "python",
   "nbconvert_exporter": "python",
   "pygments_lexer": "ipython3",
   "version": "3.11.7"
  }
 },
 "nbformat": 4,
 "nbformat_minor": 5
}
