{
 "cells": [
  {
   "cell_type": "code",
   "execution_count": 1,
   "id": "81d4ef71-9e8c-464b-820e-f8ed892c54ca",
   "metadata": {},
   "outputs": [],
   "source": [
    "import numpy as np\n",
    "import pandas as pd"
   ]
  },
  {
   "cell_type": "code",
   "execution_count": 16,
   "id": "d30e81c4-29fc-4cdc-9da7-615f3af01fd2",
   "metadata": {},
   "outputs": [],
   "source": [
    "dataset = pd.read_csv(r\"D:\\DS\\titanic_train.csv\")"
   ]
  },
  {
   "cell_type": "code",
   "execution_count": null,
   "id": "1804b300-a902-4a35-8b4f-aaa276ff0711",
   "metadata": {},
   "outputs": [],
   "source": [
    "dataset.shape"
   ]
  },
  {
   "cell_type": "code",
   "execution_count": null,
   "id": "ac509db7-f7ba-4b0b-863d-4654f7c50683",
   "metadata": {},
   "outputs": [],
   "source": [
    "dataset_dropped = dataset.dropna()"
   ]
  },
  {
   "cell_type": "code",
   "execution_count": null,
   "id": "801c27cb-42f3-4cc4-b64e-031c16c3781c",
   "metadata": {},
   "outputs": [],
   "source": [
    "dataset_dropped.shape"
   ]
  },
  {
   "cell_type": "code",
   "execution_count": null,
   "id": "658021a6-0f5f-4a25-b70f-be35e738219e",
   "metadata": {},
   "outputs": [],
   "source": [
    "dataset.isna().sum()"
   ]
  },
  {
   "cell_type": "code",
   "execution_count": null,
   "id": "b084e944-650e-4c6f-86ed-86a09ee361c7",
   "metadata": {},
   "outputs": [],
   "source": [
    "dataset_with_scalar_filled = dataset.fillna('0')"
   ]
  },
  {
   "cell_type": "code",
   "execution_count": null,
   "id": "50a93957-a0d7-4ffe-9254-7b48cde1e72c",
   "metadata": {},
   "outputs": [],
   "source": [
    "dataset_with_scalar_filled('Age').unique()"
   ]
  },
  {
   "cell_type": "code",
   "execution_count": null,
   "id": "33f762fe-6ff6-4837-8b2b-a674e36fdb05",
   "metadata": {},
   "outputs": [],
   "source": [
    "#dataset_with_mean_filling = dataset.copy()"
   ]
  },
  {
   "cell_type": "code",
   "execution_count": null,
   "id": "fcd67197-ee74-4b9e-841f-cf986d979e8d",
   "metadata": {},
   "outputs": [],
   "source": [
    "dataset_with_mean_fill"
   ]
  },
  {
   "cell_type": "code",
   "execution_count": null,
   "id": "2086fa8b-26bd-49d8-bc1e-9ecff61135b7",
   "metadata": {},
   "outputs": [],
   "source": []
  }
 ],
 "metadata": {
  "kernelspec": {
   "display_name": "Python 3 (ipykernel)",
   "language": "python",
   "name": "python3"
  },
  "language_info": {
   "codemirror_mode": {
    "name": "ipython",
    "version": 3
   },
   "file_extension": ".py",
   "mimetype": "text/x-python",
   "name": "python",
   "nbconvert_exporter": "python",
   "pygments_lexer": "ipython3",
   "version": "3.11.7"
  }
 },
 "nbformat": 4,
 "nbformat_minor": 5
}
