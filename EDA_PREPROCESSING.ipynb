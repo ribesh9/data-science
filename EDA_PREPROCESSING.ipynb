{
 "cells": [
  {
   "cell_type": "markdown",
   "id": "7f1ab4c1-54a7-47b7-b1b9-3aa59a090c70",
   "metadata": {},
   "source": [
    "### Import the necessary libraries"
   ]
  },
  {
   "cell_type": "code",
   "execution_count": 1,
   "id": "eca80be2-a042-4f6e-b83f-6ced11fc2eb7",
   "metadata": {},
   "outputs": [],
   "source": [
    "import numpy as np \n",
    "import pandas as pd\n",
    "import matplotlib.pyplot as plt\n",
    "import seaborn as sns"
   ]
  },
  {
   "cell_type": "code",
   "execution_count": 2,
   "id": "293767f7-2e5a-46a4-ae91-482bc4821231",
   "metadata": {},
   "outputs": [
    {
     "name": "stdout",
     "output_type": "stream",
     "text": [
      "Running without warnings!\n"
     ]
    }
   ],
   "source": [
    "import warnings\n",
    "\n",
    "warnings.filterwarnings(\"ignore\", category=DeprecationWarning)\n",
    "\n",
    "# Deprecated code here\n",
    "print(\"Running without warnings!\")\n"
   ]
  },
  {
   "cell_type": "markdown",
   "id": "8ab0092d-bcf1-4b94-b6c2-9bac63ec45c3",
   "metadata": {},
   "source": [
    "### Read The data"
   ]
  },
  {
   "cell_type": "code",
   "execution_count": 4,
   "id": "69e9106f-049e-4ca4-9150-3ee2c3aae846",
   "metadata": {},
   "outputs": [
    {
     "name": "stderr",
     "output_type": "stream",
     "text": [
      "C:\\Users\\Ribesh Shrestha\\AppData\\Local\\Temp\\ipykernel_15904\\2368218961.py:1: DtypeWarning: Columns (7,8) have mixed types. Specify dtype option on import or set low_memory=False.\n",
      "  airline_flight_data = pd.read_csv(r\"D:\\Data Mining\\flights.csv\")\n"
     ]
    }
   ],
   "source": [
    "airline_flight_data = pd.read_csv(r\"D:\\Data Mining\\flights.csv\")"
   ]
  },
  {
   "cell_type": "markdown",
   "id": "b1916d19-3f2a-43de-a228-47ef2faa56a9",
   "metadata": {},
   "source": [
    "The warning says the the data types in columns **7** and **8** are of mixed types. Let us first explore the columns and data."
   ]
  },
  {
   "cell_type": "code",
   "execution_count": 6,
   "id": "7f32ac0e-43a3-4c44-a1a1-33db4f82a1e2",
   "metadata": {},
   "outputs": [
    {
     "data": {
      "text/plain": [
       "pandas.core.frame.DataFrame"
      ]
     },
     "execution_count": 6,
     "metadata": {},
     "output_type": "execute_result"
    }
   ],
   "source": [
    "type(airline_flight_data)"
   ]
  },
  {
   "cell_type": "code",
   "execution_count": 7,
   "id": "404ad5b6-d3bd-4b5c-874f-26ffbc8f7c7d",
   "metadata": {},
   "outputs": [
    {
     "data": {
      "text/html": [
       "<div>\n",
       "<style scoped>\n",
       "    .dataframe tbody tr th:only-of-type {\n",
       "        vertical-align: middle;\n",
       "    }\n",
       "\n",
       "    .dataframe tbody tr th {\n",
       "        vertical-align: top;\n",
       "    }\n",
       "\n",
       "    .dataframe thead th {\n",
       "        text-align: right;\n",
       "    }\n",
       "</style>\n",
       "<table border=\"1\" class=\"dataframe\">\n",
       "  <thead>\n",
       "    <tr style=\"text-align: right;\">\n",
       "      <th></th>\n",
       "      <th>YEAR</th>\n",
       "      <th>MONTH</th>\n",
       "      <th>DAY</th>\n",
       "      <th>DAY_OF_WEEK</th>\n",
       "      <th>AIRLINE</th>\n",
       "      <th>FLIGHT_NUMBER</th>\n",
       "      <th>TAIL_NUMBER</th>\n",
       "      <th>ORIGIN_AIRPORT</th>\n",
       "      <th>DESTINATION_AIRPORT</th>\n",
       "      <th>SCHEDULED_DEPARTURE</th>\n",
       "      <th>...</th>\n",
       "      <th>ARRIVAL_TIME</th>\n",
       "      <th>ARRIVAL_DELAY</th>\n",
       "      <th>DIVERTED</th>\n",
       "      <th>CANCELLED</th>\n",
       "      <th>CANCELLATION_REASON</th>\n",
       "      <th>AIR_SYSTEM_DELAY</th>\n",
       "      <th>SECURITY_DELAY</th>\n",
       "      <th>AIRLINE_DELAY</th>\n",
       "      <th>LATE_AIRCRAFT_DELAY</th>\n",
       "      <th>WEATHER_DELAY</th>\n",
       "    </tr>\n",
       "  </thead>\n",
       "  <tbody>\n",
       "    <tr>\n",
       "      <th>0</th>\n",
       "      <td>2015</td>\n",
       "      <td>1</td>\n",
       "      <td>1</td>\n",
       "      <td>4</td>\n",
       "      <td>AS</td>\n",
       "      <td>98</td>\n",
       "      <td>N407AS</td>\n",
       "      <td>ANC</td>\n",
       "      <td>SEA</td>\n",
       "      <td>5</td>\n",
       "      <td>...</td>\n",
       "      <td>408.0</td>\n",
       "      <td>-22.0</td>\n",
       "      <td>0</td>\n",
       "      <td>0</td>\n",
       "      <td>NaN</td>\n",
       "      <td>NaN</td>\n",
       "      <td>NaN</td>\n",
       "      <td>NaN</td>\n",
       "      <td>NaN</td>\n",
       "      <td>NaN</td>\n",
       "    </tr>\n",
       "    <tr>\n",
       "      <th>1</th>\n",
       "      <td>2015</td>\n",
       "      <td>1</td>\n",
       "      <td>1</td>\n",
       "      <td>4</td>\n",
       "      <td>AA</td>\n",
       "      <td>2336</td>\n",
       "      <td>N3KUAA</td>\n",
       "      <td>LAX</td>\n",
       "      <td>PBI</td>\n",
       "      <td>10</td>\n",
       "      <td>...</td>\n",
       "      <td>741.0</td>\n",
       "      <td>-9.0</td>\n",
       "      <td>0</td>\n",
       "      <td>0</td>\n",
       "      <td>NaN</td>\n",
       "      <td>NaN</td>\n",
       "      <td>NaN</td>\n",
       "      <td>NaN</td>\n",
       "      <td>NaN</td>\n",
       "      <td>NaN</td>\n",
       "    </tr>\n",
       "    <tr>\n",
       "      <th>2</th>\n",
       "      <td>2015</td>\n",
       "      <td>1</td>\n",
       "      <td>1</td>\n",
       "      <td>4</td>\n",
       "      <td>US</td>\n",
       "      <td>840</td>\n",
       "      <td>N171US</td>\n",
       "      <td>SFO</td>\n",
       "      <td>CLT</td>\n",
       "      <td>20</td>\n",
       "      <td>...</td>\n",
       "      <td>811.0</td>\n",
       "      <td>5.0</td>\n",
       "      <td>0</td>\n",
       "      <td>0</td>\n",
       "      <td>NaN</td>\n",
       "      <td>NaN</td>\n",
       "      <td>NaN</td>\n",
       "      <td>NaN</td>\n",
       "      <td>NaN</td>\n",
       "      <td>NaN</td>\n",
       "    </tr>\n",
       "    <tr>\n",
       "      <th>3</th>\n",
       "      <td>2015</td>\n",
       "      <td>1</td>\n",
       "      <td>1</td>\n",
       "      <td>4</td>\n",
       "      <td>AA</td>\n",
       "      <td>258</td>\n",
       "      <td>N3HYAA</td>\n",
       "      <td>LAX</td>\n",
       "      <td>MIA</td>\n",
       "      <td>20</td>\n",
       "      <td>...</td>\n",
       "      <td>756.0</td>\n",
       "      <td>-9.0</td>\n",
       "      <td>0</td>\n",
       "      <td>0</td>\n",
       "      <td>NaN</td>\n",
       "      <td>NaN</td>\n",
       "      <td>NaN</td>\n",
       "      <td>NaN</td>\n",
       "      <td>NaN</td>\n",
       "      <td>NaN</td>\n",
       "    </tr>\n",
       "    <tr>\n",
       "      <th>4</th>\n",
       "      <td>2015</td>\n",
       "      <td>1</td>\n",
       "      <td>1</td>\n",
       "      <td>4</td>\n",
       "      <td>AS</td>\n",
       "      <td>135</td>\n",
       "      <td>N527AS</td>\n",
       "      <td>SEA</td>\n",
       "      <td>ANC</td>\n",
       "      <td>25</td>\n",
       "      <td>...</td>\n",
       "      <td>259.0</td>\n",
       "      <td>-21.0</td>\n",
       "      <td>0</td>\n",
       "      <td>0</td>\n",
       "      <td>NaN</td>\n",
       "      <td>NaN</td>\n",
       "      <td>NaN</td>\n",
       "      <td>NaN</td>\n",
       "      <td>NaN</td>\n",
       "      <td>NaN</td>\n",
       "    </tr>\n",
       "  </tbody>\n",
       "</table>\n",
       "<p>5 rows × 31 columns</p>\n",
       "</div>"
      ],
      "text/plain": [
       "   YEAR  MONTH  DAY  DAY_OF_WEEK AIRLINE  FLIGHT_NUMBER TAIL_NUMBER  \\\n",
       "0  2015      1    1            4      AS             98      N407AS   \n",
       "1  2015      1    1            4      AA           2336      N3KUAA   \n",
       "2  2015      1    1            4      US            840      N171US   \n",
       "3  2015      1    1            4      AA            258      N3HYAA   \n",
       "4  2015      1    1            4      AS            135      N527AS   \n",
       "\n",
       "  ORIGIN_AIRPORT DESTINATION_AIRPORT  SCHEDULED_DEPARTURE  ...  ARRIVAL_TIME  \\\n",
       "0            ANC                 SEA                    5  ...         408.0   \n",
       "1            LAX                 PBI                   10  ...         741.0   \n",
       "2            SFO                 CLT                   20  ...         811.0   \n",
       "3            LAX                 MIA                   20  ...         756.0   \n",
       "4            SEA                 ANC                   25  ...         259.0   \n",
       "\n",
       "   ARRIVAL_DELAY  DIVERTED  CANCELLED  CANCELLATION_REASON  AIR_SYSTEM_DELAY  \\\n",
       "0          -22.0         0          0                  NaN               NaN   \n",
       "1           -9.0         0          0                  NaN               NaN   \n",
       "2            5.0         0          0                  NaN               NaN   \n",
       "3           -9.0         0          0                  NaN               NaN   \n",
       "4          -21.0         0          0                  NaN               NaN   \n",
       "\n",
       "   SECURITY_DELAY  AIRLINE_DELAY  LATE_AIRCRAFT_DELAY  WEATHER_DELAY  \n",
       "0             NaN            NaN                  NaN            NaN  \n",
       "1             NaN            NaN                  NaN            NaN  \n",
       "2             NaN            NaN                  NaN            NaN  \n",
       "3             NaN            NaN                  NaN            NaN  \n",
       "4             NaN            NaN                  NaN            NaN  \n",
       "\n",
       "[5 rows x 31 columns]"
      ]
     },
     "execution_count": 7,
     "metadata": {},
     "output_type": "execute_result"
    }
   ],
   "source": [
    "airline_flight_data.head()"
   ]
  },
  {
   "cell_type": "code",
   "execution_count": 8,
   "id": "4fa18a1c-82a2-43d5-8682-4da58d0955d1",
   "metadata": {},
   "outputs": [],
   "source": [
    "b = airline_flight_data[['YEAR','DAY']]"
   ]
  },
  {
   "cell_type": "code",
   "execution_count": 9,
   "id": "16d47d10-6e59-4a98-a33a-d6dd11bf5158",
   "metadata": {},
   "outputs": [
    {
     "data": {
      "text/plain": [
       "pandas.core.frame.DataFrame"
      ]
     },
     "execution_count": 9,
     "metadata": {},
     "output_type": "execute_result"
    }
   ],
   "source": [
    "type(b)"
   ]
  },
  {
   "cell_type": "code",
   "execution_count": 10,
   "id": "8e45d27a-3e84-4cc3-870f-ae3189742d3f",
   "metadata": {},
   "outputs": [],
   "source": [
    "columns = airline_flight_data.columns"
   ]
  },
  {
   "cell_type": "code",
   "execution_count": 11,
   "id": "a9299d3e-1c1b-42d3-b762-d9a6ea69e0d8",
   "metadata": {},
   "outputs": [
    {
     "data": {
      "text/plain": [
       "Index(['YEAR', 'MONTH', 'DAY', 'DAY_OF_WEEK', 'AIRLINE', 'FLIGHT_NUMBER',\n",
       "       'TAIL_NUMBER', 'ORIGIN_AIRPORT', 'DESTINATION_AIRPORT',\n",
       "       'SCHEDULED_DEPARTURE', 'DEPARTURE_TIME', 'DEPARTURE_DELAY', 'TAXI_OUT',\n",
       "       'WHEELS_OFF', 'SCHEDULED_TIME', 'ELAPSED_TIME', 'AIR_TIME', 'DISTANCE',\n",
       "       'WHEELS_ON', 'TAXI_IN', 'SCHEDULED_ARRIVAL', 'ARRIVAL_TIME',\n",
       "       'ARRIVAL_DELAY', 'DIVERTED', 'CANCELLED', 'CANCELLATION_REASON',\n",
       "       'AIR_SYSTEM_DELAY', 'SECURITY_DELAY', 'AIRLINE_DELAY',\n",
       "       'LATE_AIRCRAFT_DELAY', 'WEATHER_DELAY'],\n",
       "      dtype='object')"
      ]
     },
     "execution_count": 11,
     "metadata": {},
     "output_type": "execute_result"
    }
   ],
   "source": [
    "columns"
   ]
  },
  {
   "cell_type": "code",
   "execution_count": 12,
   "id": "43ee7544-62c9-4338-a5d3-4d3ca67dd7dc",
   "metadata": {},
   "outputs": [],
   "source": [
    "columns = airline_flight_data.columns.tolist()"
   ]
  },
  {
   "cell_type": "markdown",
   "id": "f10c35ac-af1d-439f-930f-a35ba73fff73",
   "metadata": {},
   "source": [
    "Now let us select the **7** and **8** column based on above column list."
   ]
  },
  {
   "cell_type": "code",
   "execution_count": 14,
   "id": "9381df4f-2b09-4bd0-81dc-798e6809ee13",
   "metadata": {},
   "outputs": [
    {
     "data": {
      "text/html": [
       "<div>\n",
       "<style scoped>\n",
       "    .dataframe tbody tr th:only-of-type {\n",
       "        vertical-align: middle;\n",
       "    }\n",
       "\n",
       "    .dataframe tbody tr th {\n",
       "        vertical-align: top;\n",
       "    }\n",
       "\n",
       "    .dataframe thead th {\n",
       "        text-align: right;\n",
       "    }\n",
       "</style>\n",
       "<table border=\"1\" class=\"dataframe\">\n",
       "  <thead>\n",
       "    <tr style=\"text-align: right;\">\n",
       "      <th></th>\n",
       "      <th>ORIGIN_AIRPORT</th>\n",
       "      <th>DESTINATION_AIRPORT</th>\n",
       "    </tr>\n",
       "  </thead>\n",
       "  <tbody>\n",
       "    <tr>\n",
       "      <th>0</th>\n",
       "      <td>ANC</td>\n",
       "      <td>SEA</td>\n",
       "    </tr>\n",
       "    <tr>\n",
       "      <th>1</th>\n",
       "      <td>LAX</td>\n",
       "      <td>PBI</td>\n",
       "    </tr>\n",
       "    <tr>\n",
       "      <th>2</th>\n",
       "      <td>SFO</td>\n",
       "      <td>CLT</td>\n",
       "    </tr>\n",
       "    <tr>\n",
       "      <th>3</th>\n",
       "      <td>LAX</td>\n",
       "      <td>MIA</td>\n",
       "    </tr>\n",
       "    <tr>\n",
       "      <th>4</th>\n",
       "      <td>SEA</td>\n",
       "      <td>ANC</td>\n",
       "    </tr>\n",
       "    <tr>\n",
       "      <th>...</th>\n",
       "      <td>...</td>\n",
       "      <td>...</td>\n",
       "    </tr>\n",
       "    <tr>\n",
       "      <th>5819074</th>\n",
       "      <td>LAX</td>\n",
       "      <td>BOS</td>\n",
       "    </tr>\n",
       "    <tr>\n",
       "      <th>5819075</th>\n",
       "      <td>JFK</td>\n",
       "      <td>PSE</td>\n",
       "    </tr>\n",
       "    <tr>\n",
       "      <th>5819076</th>\n",
       "      <td>JFK</td>\n",
       "      <td>SJU</td>\n",
       "    </tr>\n",
       "    <tr>\n",
       "      <th>5819077</th>\n",
       "      <td>MCO</td>\n",
       "      <td>SJU</td>\n",
       "    </tr>\n",
       "    <tr>\n",
       "      <th>5819078</th>\n",
       "      <td>JFK</td>\n",
       "      <td>BQN</td>\n",
       "    </tr>\n",
       "  </tbody>\n",
       "</table>\n",
       "<p>5819079 rows × 2 columns</p>\n",
       "</div>"
      ],
      "text/plain": [
       "        ORIGIN_AIRPORT DESTINATION_AIRPORT\n",
       "0                  ANC                 SEA\n",
       "1                  LAX                 PBI\n",
       "2                  SFO                 CLT\n",
       "3                  LAX                 MIA\n",
       "4                  SEA                 ANC\n",
       "...                ...                 ...\n",
       "5819074            LAX                 BOS\n",
       "5819075            JFK                 PSE\n",
       "5819076            JFK                 SJU\n",
       "5819077            MCO                 SJU\n",
       "5819078            JFK                 BQN\n",
       "\n",
       "[5819079 rows x 2 columns]"
      ]
     },
     "execution_count": 14,
     "metadata": {},
     "output_type": "execute_result"
    }
   ],
   "source": [
    "airline_flight_data[[columns[7],columns[8]]]"
   ]
  },
  {
   "cell_type": "markdown",
   "id": "ccba38d0-b482-4259-8406-85a5735f4778",
   "metadata": {},
   "source": [
    "Let's re-read the data with consistent data type."
   ]
  },
  {
   "cell_type": "code",
   "execution_count": 16,
   "id": "91de31c0-c870-4424-9b2e-f931a825fd1c",
   "metadata": {},
   "outputs": [],
   "source": [
    "airline_flight_data = pd.read_csv(r\"D:\\Data Mining\\flights.csv\",  dtype = {'ORIGIN_AIRPORT':str,'DESTINATION_AIRPORT':str})"
   ]
  },
  {
   "cell_type": "markdown",
   "id": "bee0138c-4a62-4758-b023-e9ebd19f8720",
   "metadata": {},
   "source": [
    "We can see that the warning has been mitigated now."
   ]
  },
  {
   "cell_type": "markdown",
   "id": "f6cb2e12-37d5-41c6-b467-fea2aeffa241",
   "metadata": {},
   "source": [
    "### Basic Statistics on Data"
   ]
  },
  {
   "cell_type": "code",
   "execution_count": 19,
   "id": "09072fc1-01db-4483-afcb-c85754ecc190",
   "metadata": {},
   "outputs": [
    {
     "name": "stdout",
     "output_type": "stream",
     "text": [
      "<class 'pandas.core.frame.DataFrame'>\n",
      "RangeIndex: 5819079 entries, 0 to 5819078\n",
      "Data columns (total 31 columns):\n",
      " #   Column               Dtype  \n",
      "---  ------               -----  \n",
      " 0   YEAR                 int64  \n",
      " 1   MONTH                int64  \n",
      " 2   DAY                  int64  \n",
      " 3   DAY_OF_WEEK          int64  \n",
      " 4   AIRLINE              object \n",
      " 5   FLIGHT_NUMBER        int64  \n",
      " 6   TAIL_NUMBER          object \n",
      " 7   ORIGIN_AIRPORT       object \n",
      " 8   DESTINATION_AIRPORT  object \n",
      " 9   SCHEDULED_DEPARTURE  int64  \n",
      " 10  DEPARTURE_TIME       float64\n",
      " 11  DEPARTURE_DELAY      float64\n",
      " 12  TAXI_OUT             float64\n",
      " 13  WHEELS_OFF           float64\n",
      " 14  SCHEDULED_TIME       float64\n",
      " 15  ELAPSED_TIME         float64\n",
      " 16  AIR_TIME             float64\n",
      " 17  DISTANCE             int64  \n",
      " 18  WHEELS_ON            float64\n",
      " 19  TAXI_IN              float64\n",
      " 20  SCHEDULED_ARRIVAL    int64  \n",
      " 21  ARRIVAL_TIME         float64\n",
      " 22  ARRIVAL_DELAY        float64\n",
      " 23  DIVERTED             int64  \n",
      " 24  CANCELLED            int64  \n",
      " 25  CANCELLATION_REASON  object \n",
      " 26  AIR_SYSTEM_DELAY     float64\n",
      " 27  SECURITY_DELAY       float64\n",
      " 28  AIRLINE_DELAY        float64\n",
      " 29  LATE_AIRCRAFT_DELAY  float64\n",
      " 30  WEATHER_DELAY        float64\n",
      "dtypes: float64(16), int64(10), object(5)\n",
      "memory usage: 1.3+ GB\n"
     ]
    }
   ],
   "source": [
    "airline_flight_data.info()"
   ]
  },
  {
   "cell_type": "markdown",
   "id": "79b0b5eb-9c80-4430-a348-b549d1b952c5",
   "metadata": {},
   "source": [
    "From the above information, we can conclude that most of the columns are numeric and there are few categorical variable in the columns. The **dtype** **object** here represents categorical variable i.e. in the form of string."
   ]
  },
  {
   "cell_type": "code",
   "execution_count": 21,
   "id": "1eb2ff5c-8a3f-49d4-a4f2-1f1203effdfe",
   "metadata": {},
   "outputs": [
    {
     "data": {
      "text/html": [
       "<div>\n",
       "<style scoped>\n",
       "    .dataframe tbody tr th:only-of-type {\n",
       "        vertical-align: middle;\n",
       "    }\n",
       "\n",
       "    .dataframe tbody tr th {\n",
       "        vertical-align: top;\n",
       "    }\n",
       "\n",
       "    .dataframe thead th {\n",
       "        text-align: right;\n",
       "    }\n",
       "</style>\n",
       "<table border=\"1\" class=\"dataframe\">\n",
       "  <thead>\n",
       "    <tr style=\"text-align: right;\">\n",
       "      <th></th>\n",
       "      <th>YEAR</th>\n",
       "      <th>MONTH</th>\n",
       "      <th>DAY</th>\n",
       "      <th>DAY_OF_WEEK</th>\n",
       "      <th>FLIGHT_NUMBER</th>\n",
       "      <th>SCHEDULED_DEPARTURE</th>\n",
       "      <th>DEPARTURE_TIME</th>\n",
       "      <th>DEPARTURE_DELAY</th>\n",
       "      <th>TAXI_OUT</th>\n",
       "      <th>WHEELS_OFF</th>\n",
       "      <th>...</th>\n",
       "      <th>SCHEDULED_ARRIVAL</th>\n",
       "      <th>ARRIVAL_TIME</th>\n",
       "      <th>ARRIVAL_DELAY</th>\n",
       "      <th>DIVERTED</th>\n",
       "      <th>CANCELLED</th>\n",
       "      <th>AIR_SYSTEM_DELAY</th>\n",
       "      <th>SECURITY_DELAY</th>\n",
       "      <th>AIRLINE_DELAY</th>\n",
       "      <th>LATE_AIRCRAFT_DELAY</th>\n",
       "      <th>WEATHER_DELAY</th>\n",
       "    </tr>\n",
       "  </thead>\n",
       "  <tbody>\n",
       "    <tr>\n",
       "      <th>count</th>\n",
       "      <td>5819079.0</td>\n",
       "      <td>5.819079e+06</td>\n",
       "      <td>5.819079e+06</td>\n",
       "      <td>5.819079e+06</td>\n",
       "      <td>5.819079e+06</td>\n",
       "      <td>5.819079e+06</td>\n",
       "      <td>5.732926e+06</td>\n",
       "      <td>5.732926e+06</td>\n",
       "      <td>5.730032e+06</td>\n",
       "      <td>5.730032e+06</td>\n",
       "      <td>...</td>\n",
       "      <td>5.819079e+06</td>\n",
       "      <td>5.726566e+06</td>\n",
       "      <td>5.714008e+06</td>\n",
       "      <td>5.819079e+06</td>\n",
       "      <td>5.819079e+06</td>\n",
       "      <td>1.063439e+06</td>\n",
       "      <td>1.063439e+06</td>\n",
       "      <td>1.063439e+06</td>\n",
       "      <td>1.063439e+06</td>\n",
       "      <td>1.063439e+06</td>\n",
       "    </tr>\n",
       "    <tr>\n",
       "      <th>mean</th>\n",
       "      <td>2015.0</td>\n",
       "      <td>6.524085e+00</td>\n",
       "      <td>1.570459e+01</td>\n",
       "      <td>3.926941e+00</td>\n",
       "      <td>2.173093e+03</td>\n",
       "      <td>1.329602e+03</td>\n",
       "      <td>1.335204e+03</td>\n",
       "      <td>9.370158e+00</td>\n",
       "      <td>1.607166e+01</td>\n",
       "      <td>1.357171e+03</td>\n",
       "      <td>...</td>\n",
       "      <td>1.493808e+03</td>\n",
       "      <td>1.476491e+03</td>\n",
       "      <td>4.407057e+00</td>\n",
       "      <td>2.609863e-03</td>\n",
       "      <td>1.544643e-02</td>\n",
       "      <td>1.348057e+01</td>\n",
       "      <td>7.615387e-02</td>\n",
       "      <td>1.896955e+01</td>\n",
       "      <td>2.347284e+01</td>\n",
       "      <td>2.915290e+00</td>\n",
       "    </tr>\n",
       "    <tr>\n",
       "      <th>std</th>\n",
       "      <td>0.0</td>\n",
       "      <td>3.405137e+00</td>\n",
       "      <td>8.783425e+00</td>\n",
       "      <td>1.988845e+00</td>\n",
       "      <td>1.757064e+03</td>\n",
       "      <td>4.837518e+02</td>\n",
       "      <td>4.964233e+02</td>\n",
       "      <td>3.708094e+01</td>\n",
       "      <td>8.895574e+00</td>\n",
       "      <td>4.980094e+02</td>\n",
       "      <td>...</td>\n",
       "      <td>5.071647e+02</td>\n",
       "      <td>5.263197e+02</td>\n",
       "      <td>3.927130e+01</td>\n",
       "      <td>5.102012e-02</td>\n",
       "      <td>1.233201e-01</td>\n",
       "      <td>2.800368e+01</td>\n",
       "      <td>2.143460e+00</td>\n",
       "      <td>4.816164e+01</td>\n",
       "      <td>4.319702e+01</td>\n",
       "      <td>2.043334e+01</td>\n",
       "    </tr>\n",
       "    <tr>\n",
       "      <th>min</th>\n",
       "      <td>2015.0</td>\n",
       "      <td>1.000000e+00</td>\n",
       "      <td>1.000000e+00</td>\n",
       "      <td>1.000000e+00</td>\n",
       "      <td>1.000000e+00</td>\n",
       "      <td>1.000000e+00</td>\n",
       "      <td>1.000000e+00</td>\n",
       "      <td>-8.200000e+01</td>\n",
       "      <td>1.000000e+00</td>\n",
       "      <td>1.000000e+00</td>\n",
       "      <td>...</td>\n",
       "      <td>1.000000e+00</td>\n",
       "      <td>1.000000e+00</td>\n",
       "      <td>-8.700000e+01</td>\n",
       "      <td>0.000000e+00</td>\n",
       "      <td>0.000000e+00</td>\n",
       "      <td>0.000000e+00</td>\n",
       "      <td>0.000000e+00</td>\n",
       "      <td>0.000000e+00</td>\n",
       "      <td>0.000000e+00</td>\n",
       "      <td>0.000000e+00</td>\n",
       "    </tr>\n",
       "    <tr>\n",
       "      <th>25%</th>\n",
       "      <td>2015.0</td>\n",
       "      <td>4.000000e+00</td>\n",
       "      <td>8.000000e+00</td>\n",
       "      <td>2.000000e+00</td>\n",
       "      <td>7.300000e+02</td>\n",
       "      <td>9.170000e+02</td>\n",
       "      <td>9.210000e+02</td>\n",
       "      <td>-5.000000e+00</td>\n",
       "      <td>1.100000e+01</td>\n",
       "      <td>9.350000e+02</td>\n",
       "      <td>...</td>\n",
       "      <td>1.110000e+03</td>\n",
       "      <td>1.059000e+03</td>\n",
       "      <td>-1.300000e+01</td>\n",
       "      <td>0.000000e+00</td>\n",
       "      <td>0.000000e+00</td>\n",
       "      <td>0.000000e+00</td>\n",
       "      <td>0.000000e+00</td>\n",
       "      <td>0.000000e+00</td>\n",
       "      <td>0.000000e+00</td>\n",
       "      <td>0.000000e+00</td>\n",
       "    </tr>\n",
       "    <tr>\n",
       "      <th>50%</th>\n",
       "      <td>2015.0</td>\n",
       "      <td>7.000000e+00</td>\n",
       "      <td>1.600000e+01</td>\n",
       "      <td>4.000000e+00</td>\n",
       "      <td>1.690000e+03</td>\n",
       "      <td>1.325000e+03</td>\n",
       "      <td>1.330000e+03</td>\n",
       "      <td>-2.000000e+00</td>\n",
       "      <td>1.400000e+01</td>\n",
       "      <td>1.343000e+03</td>\n",
       "      <td>...</td>\n",
       "      <td>1.520000e+03</td>\n",
       "      <td>1.512000e+03</td>\n",
       "      <td>-5.000000e+00</td>\n",
       "      <td>0.000000e+00</td>\n",
       "      <td>0.000000e+00</td>\n",
       "      <td>2.000000e+00</td>\n",
       "      <td>0.000000e+00</td>\n",
       "      <td>2.000000e+00</td>\n",
       "      <td>3.000000e+00</td>\n",
       "      <td>0.000000e+00</td>\n",
       "    </tr>\n",
       "    <tr>\n",
       "      <th>75%</th>\n",
       "      <td>2015.0</td>\n",
       "      <td>9.000000e+00</td>\n",
       "      <td>2.300000e+01</td>\n",
       "      <td>6.000000e+00</td>\n",
       "      <td>3.230000e+03</td>\n",
       "      <td>1.730000e+03</td>\n",
       "      <td>1.740000e+03</td>\n",
       "      <td>7.000000e+00</td>\n",
       "      <td>1.900000e+01</td>\n",
       "      <td>1.754000e+03</td>\n",
       "      <td>...</td>\n",
       "      <td>1.918000e+03</td>\n",
       "      <td>1.917000e+03</td>\n",
       "      <td>8.000000e+00</td>\n",
       "      <td>0.000000e+00</td>\n",
       "      <td>0.000000e+00</td>\n",
       "      <td>1.800000e+01</td>\n",
       "      <td>0.000000e+00</td>\n",
       "      <td>1.900000e+01</td>\n",
       "      <td>2.900000e+01</td>\n",
       "      <td>0.000000e+00</td>\n",
       "    </tr>\n",
       "    <tr>\n",
       "      <th>max</th>\n",
       "      <td>2015.0</td>\n",
       "      <td>1.200000e+01</td>\n",
       "      <td>3.100000e+01</td>\n",
       "      <td>7.000000e+00</td>\n",
       "      <td>9.855000e+03</td>\n",
       "      <td>2.359000e+03</td>\n",
       "      <td>2.400000e+03</td>\n",
       "      <td>1.988000e+03</td>\n",
       "      <td>2.250000e+02</td>\n",
       "      <td>2.400000e+03</td>\n",
       "      <td>...</td>\n",
       "      <td>2.400000e+03</td>\n",
       "      <td>2.400000e+03</td>\n",
       "      <td>1.971000e+03</td>\n",
       "      <td>1.000000e+00</td>\n",
       "      <td>1.000000e+00</td>\n",
       "      <td>1.134000e+03</td>\n",
       "      <td>5.730000e+02</td>\n",
       "      <td>1.971000e+03</td>\n",
       "      <td>1.331000e+03</td>\n",
       "      <td>1.211000e+03</td>\n",
       "    </tr>\n",
       "  </tbody>\n",
       "</table>\n",
       "<p>8 rows × 26 columns</p>\n",
       "</div>"
      ],
      "text/plain": [
       "            YEAR         MONTH           DAY   DAY_OF_WEEK  FLIGHT_NUMBER  \\\n",
       "count  5819079.0  5.819079e+06  5.819079e+06  5.819079e+06   5.819079e+06   \n",
       "mean      2015.0  6.524085e+00  1.570459e+01  3.926941e+00   2.173093e+03   \n",
       "std          0.0  3.405137e+00  8.783425e+00  1.988845e+00   1.757064e+03   \n",
       "min       2015.0  1.000000e+00  1.000000e+00  1.000000e+00   1.000000e+00   \n",
       "25%       2015.0  4.000000e+00  8.000000e+00  2.000000e+00   7.300000e+02   \n",
       "50%       2015.0  7.000000e+00  1.600000e+01  4.000000e+00   1.690000e+03   \n",
       "75%       2015.0  9.000000e+00  2.300000e+01  6.000000e+00   3.230000e+03   \n",
       "max       2015.0  1.200000e+01  3.100000e+01  7.000000e+00   9.855000e+03   \n",
       "\n",
       "       SCHEDULED_DEPARTURE  DEPARTURE_TIME  DEPARTURE_DELAY      TAXI_OUT  \\\n",
       "count         5.819079e+06    5.732926e+06     5.732926e+06  5.730032e+06   \n",
       "mean          1.329602e+03    1.335204e+03     9.370158e+00  1.607166e+01   \n",
       "std           4.837518e+02    4.964233e+02     3.708094e+01  8.895574e+00   \n",
       "min           1.000000e+00    1.000000e+00    -8.200000e+01  1.000000e+00   \n",
       "25%           9.170000e+02    9.210000e+02    -5.000000e+00  1.100000e+01   \n",
       "50%           1.325000e+03    1.330000e+03    -2.000000e+00  1.400000e+01   \n",
       "75%           1.730000e+03    1.740000e+03     7.000000e+00  1.900000e+01   \n",
       "max           2.359000e+03    2.400000e+03     1.988000e+03  2.250000e+02   \n",
       "\n",
       "         WHEELS_OFF  ...  SCHEDULED_ARRIVAL  ARRIVAL_TIME  ARRIVAL_DELAY  \\\n",
       "count  5.730032e+06  ...       5.819079e+06  5.726566e+06   5.714008e+06   \n",
       "mean   1.357171e+03  ...       1.493808e+03  1.476491e+03   4.407057e+00   \n",
       "std    4.980094e+02  ...       5.071647e+02  5.263197e+02   3.927130e+01   \n",
       "min    1.000000e+00  ...       1.000000e+00  1.000000e+00  -8.700000e+01   \n",
       "25%    9.350000e+02  ...       1.110000e+03  1.059000e+03  -1.300000e+01   \n",
       "50%    1.343000e+03  ...       1.520000e+03  1.512000e+03  -5.000000e+00   \n",
       "75%    1.754000e+03  ...       1.918000e+03  1.917000e+03   8.000000e+00   \n",
       "max    2.400000e+03  ...       2.400000e+03  2.400000e+03   1.971000e+03   \n",
       "\n",
       "           DIVERTED     CANCELLED  AIR_SYSTEM_DELAY  SECURITY_DELAY  \\\n",
       "count  5.819079e+06  5.819079e+06      1.063439e+06    1.063439e+06   \n",
       "mean   2.609863e-03  1.544643e-02      1.348057e+01    7.615387e-02   \n",
       "std    5.102012e-02  1.233201e-01      2.800368e+01    2.143460e+00   \n",
       "min    0.000000e+00  0.000000e+00      0.000000e+00    0.000000e+00   \n",
       "25%    0.000000e+00  0.000000e+00      0.000000e+00    0.000000e+00   \n",
       "50%    0.000000e+00  0.000000e+00      2.000000e+00    0.000000e+00   \n",
       "75%    0.000000e+00  0.000000e+00      1.800000e+01    0.000000e+00   \n",
       "max    1.000000e+00  1.000000e+00      1.134000e+03    5.730000e+02   \n",
       "\n",
       "       AIRLINE_DELAY  LATE_AIRCRAFT_DELAY  WEATHER_DELAY  \n",
       "count   1.063439e+06         1.063439e+06   1.063439e+06  \n",
       "mean    1.896955e+01         2.347284e+01   2.915290e+00  \n",
       "std     4.816164e+01         4.319702e+01   2.043334e+01  \n",
       "min     0.000000e+00         0.000000e+00   0.000000e+00  \n",
       "25%     0.000000e+00         0.000000e+00   0.000000e+00  \n",
       "50%     2.000000e+00         3.000000e+00   0.000000e+00  \n",
       "75%     1.900000e+01         2.900000e+01   0.000000e+00  \n",
       "max     1.971000e+03         1.331000e+03   1.211000e+03  \n",
       "\n",
       "[8 rows x 26 columns]"
      ]
     },
     "execution_count": 21,
     "metadata": {},
     "output_type": "execute_result"
    }
   ],
   "source": [
    "airline_flight_data.describe()"
   ]
  },
  {
   "cell_type": "markdown",
   "id": "eaeb5414-b1db-4789-9c5c-1fcb13946e92",
   "metadata": {},
   "source": [
    "The statistical computations of **numerical** columns are presented above. However, the number of occurances and the presence of **categorical** variable is also an important factor. We can use the same method as above to include the statistics of **categorical** variable as well."
   ]
  },
  {
   "cell_type": "code",
   "execution_count": 23,
   "id": "4222ee89-e880-45df-b113-a85501f9d3c8",
   "metadata": {},
   "outputs": [
    {
     "data": {
      "text/html": [
       "<div>\n",
       "<style scoped>\n",
       "    .dataframe tbody tr th:only-of-type {\n",
       "        vertical-align: middle;\n",
       "    }\n",
       "\n",
       "    .dataframe tbody tr th {\n",
       "        vertical-align: top;\n",
       "    }\n",
       "\n",
       "    .dataframe thead th {\n",
       "        text-align: right;\n",
       "    }\n",
       "</style>\n",
       "<table border=\"1\" class=\"dataframe\">\n",
       "  <thead>\n",
       "    <tr style=\"text-align: right;\">\n",
       "      <th></th>\n",
       "      <th>AIRLINE</th>\n",
       "      <th>TAIL_NUMBER</th>\n",
       "      <th>ORIGIN_AIRPORT</th>\n",
       "      <th>DESTINATION_AIRPORT</th>\n",
       "      <th>CANCELLATION_REASON</th>\n",
       "    </tr>\n",
       "  </thead>\n",
       "  <tbody>\n",
       "    <tr>\n",
       "      <th>count</th>\n",
       "      <td>5819079</td>\n",
       "      <td>5804358</td>\n",
       "      <td>5819079</td>\n",
       "      <td>5819079</td>\n",
       "      <td>89884</td>\n",
       "    </tr>\n",
       "    <tr>\n",
       "      <th>unique</th>\n",
       "      <td>14</td>\n",
       "      <td>4897</td>\n",
       "      <td>628</td>\n",
       "      <td>629</td>\n",
       "      <td>4</td>\n",
       "    </tr>\n",
       "    <tr>\n",
       "      <th>top</th>\n",
       "      <td>WN</td>\n",
       "      <td>N480HA</td>\n",
       "      <td>ATL</td>\n",
       "      <td>ATL</td>\n",
       "      <td>B</td>\n",
       "    </tr>\n",
       "    <tr>\n",
       "      <th>freq</th>\n",
       "      <td>1261855</td>\n",
       "      <td>3768</td>\n",
       "      <td>346836</td>\n",
       "      <td>346904</td>\n",
       "      <td>48851</td>\n",
       "    </tr>\n",
       "  </tbody>\n",
       "</table>\n",
       "</div>"
      ],
      "text/plain": [
       "        AIRLINE TAIL_NUMBER ORIGIN_AIRPORT DESTINATION_AIRPORT  \\\n",
       "count   5819079     5804358        5819079             5819079   \n",
       "unique       14        4897            628                 629   \n",
       "top          WN      N480HA            ATL                 ATL   \n",
       "freq    1261855        3768         346836              346904   \n",
       "\n",
       "       CANCELLATION_REASON  \n",
       "count                89884  \n",
       "unique                   4  \n",
       "top                      B  \n",
       "freq                 48851  "
      ]
     },
     "execution_count": 23,
     "metadata": {},
     "output_type": "execute_result"
    }
   ],
   "source": [
    "airline_flight_data.describe(include='object')"
   ]
  },
  {
   "cell_type": "markdown",
   "id": "76cdc1b4-b4d1-49b7-a6a1-2645919b76b0",
   "metadata": {},
   "source": [
    "### Null Value Identification and Mitigation"
   ]
  },
  {
   "cell_type": "code",
   "execution_count": 25,
   "id": "0135bc2f-4ef9-49a5-ae42-3b916eeaca51",
   "metadata": {},
   "outputs": [
    {
     "data": {
      "text/plain": [
       "YEAR                         0\n",
       "MONTH                        0\n",
       "DAY                          0\n",
       "DAY_OF_WEEK                  0\n",
       "AIRLINE                      0\n",
       "FLIGHT_NUMBER                0\n",
       "TAIL_NUMBER              14721\n",
       "ORIGIN_AIRPORT               0\n",
       "DESTINATION_AIRPORT          0\n",
       "SCHEDULED_DEPARTURE          0\n",
       "DEPARTURE_TIME           86153\n",
       "DEPARTURE_DELAY          86153\n",
       "TAXI_OUT                 89047\n",
       "WHEELS_OFF               89047\n",
       "SCHEDULED_TIME               6\n",
       "ELAPSED_TIME            105071\n",
       "AIR_TIME                105071\n",
       "DISTANCE                     0\n",
       "WHEELS_ON                92513\n",
       "TAXI_IN                  92513\n",
       "SCHEDULED_ARRIVAL            0\n",
       "ARRIVAL_TIME             92513\n",
       "ARRIVAL_DELAY           105071\n",
       "DIVERTED                     0\n",
       "CANCELLED                    0\n",
       "CANCELLATION_REASON    5729195\n",
       "AIR_SYSTEM_DELAY       4755640\n",
       "SECURITY_DELAY         4755640\n",
       "AIRLINE_DELAY          4755640\n",
       "LATE_AIRCRAFT_DELAY    4755640\n",
       "WEATHER_DELAY          4755640\n",
       "dtype: int64"
      ]
     },
     "execution_count": 25,
     "metadata": {},
     "output_type": "execute_result"
    }
   ],
   "source": [
    "airline_flight_data.isna().sum()"
   ]
  },
  {
   "cell_type": "markdown",
   "id": "5b6dd78b-1588-40df-a03f-50a7561d4463",
   "metadata": {},
   "source": [
    "The above section shows the number of missing values in each columns. These missing values can be treated using different approaches like **filling them with a constant value**, **filling them with some statistical value** and so on."
   ]
  },
  {
   "cell_type": "markdown",
   "id": "87f328cc-d8cf-4c77-9bc0-472c433d333c",
   "metadata": {},
   "source": [
    "### Filling Numerical Value with a constant number"
   ]
  },
  {
   "cell_type": "markdown",
   "id": "78da10f9-37b1-4741-a429-1687b3acce23",
   "metadata": {},
   "source": [
    "Let us start with **WHEELS_OFF** variable. Let's explore the basic statistics of the variable first."
   ]
  },
  {
   "cell_type": "code",
   "execution_count": 29,
   "id": "0fbaa1b3-13cd-4466-93f4-5f00eb4a4dd3",
   "metadata": {},
   "outputs": [],
   "source": [
    "wheels_off_desc = airline_flight_data['WHEELS_OFF'].describe()"
   ]
  },
  {
   "cell_type": "code",
   "execution_count": 30,
   "id": "3c97589c-e2bc-4f5f-806a-15f90abd4994",
   "metadata": {},
   "outputs": [
    {
     "data": {
      "text/plain": [
       "count    5.730032e+06\n",
       "mean     1.357171e+03\n",
       "std      4.980094e+02\n",
       "min      1.000000e+00\n",
       "25%      9.350000e+02\n",
       "50%      1.343000e+03\n",
       "75%      1.754000e+03\n",
       "max      2.400000e+03\n",
       "Name: WHEELS_OFF, dtype: float64"
      ]
     },
     "execution_count": 30,
     "metadata": {},
     "output_type": "execute_result"
    }
   ],
   "source": [
    "wheels_off_desc"
   ]
  },
  {
   "cell_type": "code",
   "execution_count": 31,
   "id": "647dc1a3-cd6a-4033-b42e-cdd48f5a32c6",
   "metadata": {},
   "outputs": [],
   "source": [
    "# Convert scientific notation to a more readable format\n",
    "wheels_off_desc = wheels_off_desc.apply(lambda x: '{:.2f}'.format(x))"
   ]
  },
  {
   "cell_type": "code",
   "execution_count": 32,
   "id": "68a656da-8871-4037-bad5-7baf6c044203",
   "metadata": {},
   "outputs": [
    {
     "data": {
      "text/plain": [
       "count    5730032.00\n",
       "mean        1357.17\n",
       "std          498.01\n",
       "min            1.00\n",
       "25%          935.00\n",
       "50%         1343.00\n",
       "75%         1754.00\n",
       "max         2400.00\n",
       "Name: WHEELS_OFF, dtype: object"
      ]
     },
     "execution_count": 32,
     "metadata": {},
     "output_type": "execute_result"
    }
   ],
   "source": [
    "wheels_off_desc"
   ]
  },
  {
   "cell_type": "markdown",
   "id": "127d7768-0439-4a01-a332-1c64db57eb8f",
   "metadata": {},
   "source": [
    "Here, we observe that the minimum and maximum value of the variable are **1** and **2400**. Let us fill the missing values with any arbitrary number, say **1515**."
   ]
  },
  {
   "cell_type": "code",
   "execution_count": 34,
   "id": "b8dcc190-796e-40d5-b9bb-dc5576685a75",
   "metadata": {},
   "outputs": [],
   "source": [
    "airline_flight_data['WHEELS_OFF'].fillna(1515, inplace=True)"
   ]
  },
  {
   "cell_type": "code",
   "execution_count": 35,
   "id": "8ca878fb-64c4-4526-8060-c526803353c9",
   "metadata": {},
   "outputs": [
    {
     "data": {
      "text/plain": [
       "0"
      ]
     },
     "execution_count": 35,
     "metadata": {},
     "output_type": "execute_result"
    }
   ],
   "source": [
    "airline_flight_data['WHEELS_OFF'].isna().sum()"
   ]
  },
  {
   "cell_type": "markdown",
   "id": "8882e5e7-18b3-43b7-ac0d-d31f9fdbc756",
   "metadata": {},
   "source": [
    "The other equivaluent command to obtain this is: **airline_flight_data['WHEELS_OFF']= airline_flight_data['WHEELS_OFF'].fillna(1515)**"
   ]
  },
  {
   "cell_type": "code",
   "execution_count": 37,
   "id": "1cb73a21-df1f-4418-8469-0d419fef6dde",
   "metadata": {},
   "outputs": [
    {
     "data": {
      "text/plain": [
       "0"
      ]
     },
     "execution_count": 37,
     "metadata": {},
     "output_type": "execute_result"
    }
   ],
   "source": [
    "airline_flight_data['WHEELS_OFF'].isna().sum()"
   ]
  },
  {
   "cell_type": "markdown",
   "id": "631c47ad-d5c6-488a-a3b6-8d2d905279fa",
   "metadata": {},
   "source": [
    "### Filling the missing value with Statistical value like Mean and Median"
   ]
  },
  {
   "cell_type": "markdown",
   "id": "a5e9438b-61a7-421d-b759-413e8fe34a70",
   "metadata": {},
   "source": [
    "Let us start with **ARRIVAL_DELAY** variable. Let's explore the basic statistics of the variable first."
   ]
  },
  {
   "cell_type": "code",
   "execution_count": 40,
   "id": "1d792f72-d5c9-474f-a5d9-26ca892778e3",
   "metadata": {},
   "outputs": [],
   "source": [
    "arrival_delay_desc = airline_flight_data['ARRIVAL_DELAY'].describe()"
   ]
  },
  {
   "cell_type": "code",
   "execution_count": 41,
   "id": "80453497-70d1-4ccc-b9d9-5ee40094aaa0",
   "metadata": {},
   "outputs": [
    {
     "data": {
      "text/plain": [
       "count    5.714008e+06\n",
       "mean     4.407057e+00\n",
       "std      3.927130e+01\n",
       "min     -8.700000e+01\n",
       "25%     -1.300000e+01\n",
       "50%     -5.000000e+00\n",
       "75%      8.000000e+00\n",
       "max      1.971000e+03\n",
       "Name: ARRIVAL_DELAY, dtype: float64"
      ]
     },
     "execution_count": 41,
     "metadata": {},
     "output_type": "execute_result"
    }
   ],
   "source": [
    "arrival_delay_desc"
   ]
  },
  {
   "cell_type": "code",
   "execution_count": 42,
   "id": "a6db6d4b-aa95-449b-ae70-e0c4680db244",
   "metadata": {},
   "outputs": [],
   "source": [
    "# Convert scientific notation to a more readable format\n",
    "arrival_delay_desc = arrival_delay_desc.apply(lambda x: '{:.2f}'.format(x))"
   ]
  },
  {
   "cell_type": "code",
   "execution_count": 43,
   "id": "f4b9d544-83f4-45e9-b598-6c3cb9883c4e",
   "metadata": {},
   "outputs": [
    {
     "data": {
      "text/plain": [
       "count    5714008.00\n",
       "mean           4.41\n",
       "std           39.27\n",
       "min          -87.00\n",
       "25%          -13.00\n",
       "50%           -5.00\n",
       "75%            8.00\n",
       "max         1971.00\n",
       "Name: ARRIVAL_DELAY, dtype: object"
      ]
     },
     "execution_count": 43,
     "metadata": {},
     "output_type": "execute_result"
    }
   ],
   "source": [
    "arrival_delay_desc"
   ]
  },
  {
   "cell_type": "markdown",
   "id": "0eacc885-95ac-4302-af36-561525b0b3db",
   "metadata": {},
   "source": [
    "Here, we observe that the minimum and maximum value of the variable are **-87** and **1971**. Let us fill the missing values with either **mean** or **median**"
   ]
  },
  {
   "cell_type": "code",
   "execution_count": 45,
   "id": "8be15022-7abb-4b57-b8e1-5c2c58ec42d2",
   "metadata": {},
   "outputs": [],
   "source": [
    "mean_arrival_dealy = airline_flight_data['ARRIVAL_DELAY'].mean()"
   ]
  },
  {
   "cell_type": "code",
   "execution_count": 46,
   "id": "3d52a644-e524-4e00-bbce-826b8791f12f",
   "metadata": {},
   "outputs": [
    {
     "data": {
      "text/plain": [
       "4.407057357987598"
      ]
     },
     "execution_count": 46,
     "metadata": {},
     "output_type": "execute_result"
    }
   ],
   "source": [
    "mean_arrival_dealy"
   ]
  },
  {
   "cell_type": "code",
   "execution_count": 47,
   "id": "5f141651-32ec-4ce4-9679-ebaef2f7300c",
   "metadata": {},
   "outputs": [],
   "source": [
    "median_arrival_dealy = airline_flight_data['ARRIVAL_DELAY'].median()"
   ]
  },
  {
   "cell_type": "code",
   "execution_count": 48,
   "id": "874a8ecf-f4b8-4496-a6b8-797e6243f81a",
   "metadata": {},
   "outputs": [
    {
     "data": {
      "text/plain": [
       "-5.0"
      ]
     },
     "execution_count": 48,
     "metadata": {},
     "output_type": "execute_result"
    }
   ],
   "source": [
    "median_arrival_dealy"
   ]
  },
  {
   "cell_type": "markdown",
   "id": "56b2f9e2-c3ba-4c75-8c6f-1a49eb807140",
   "metadata": {},
   "source": [
    "Here mean value seems more real than median one, so let's fill the missing values with mean value."
   ]
  },
  {
   "cell_type": "code",
   "execution_count": 50,
   "id": "9e9626ca-b094-472e-aaad-4f6ddcd8539d",
   "metadata": {},
   "outputs": [],
   "source": [
    "airline_flight_data['ARRIVAL_DELAY'].fillna(mean_arrival_dealy, inplace=True)"
   ]
  },
  {
   "cell_type": "markdown",
   "id": "f3a515a6-a92a-42a9-842b-3b339b09e84a",
   "metadata": {},
   "source": [
    "The equivalent direct code is: **airline_flight_data['ARRIVAL_DELAY'].fillna(airline_flight_data['ARRIVAL_DELAY'].mean(), inplace=True)**"
   ]
  },
  {
   "cell_type": "code",
   "execution_count": 52,
   "id": "102d691d-b360-4455-8c06-d1263ed715b2",
   "metadata": {},
   "outputs": [
    {
     "data": {
      "text/plain": [
       "0"
      ]
     },
     "execution_count": 52,
     "metadata": {},
     "output_type": "execute_result"
    }
   ],
   "source": [
    "airline_flight_data['ARRIVAL_DELAY'].isna().sum()"
   ]
  },
  {
   "cell_type": "markdown",
   "id": "b97416fc-67d7-445f-b0f0-befc30efc11e",
   "metadata": {},
   "source": [
    "### Filling Categorical Variable with Arbitrary Category."
   ]
  },
  {
   "cell_type": "markdown",
   "id": "210c20a6-6c51-4e00-a0f6-a03483f40e4f",
   "metadata": {},
   "source": [
    "Let us start with **TAIL_NUMBER**"
   ]
  },
  {
   "cell_type": "code",
   "execution_count": 55,
   "id": "4cb2e19b-31b0-4eaa-9bbd-2a3e1953bb86",
   "metadata": {},
   "outputs": [
    {
     "data": {
      "text/plain": [
       "TAIL_NUMBER\n",
       "N480HA    3768\n",
       "N488HA    3723\n",
       "N484HA    3723\n",
       "N493HA    3585\n",
       "N478HA    3577\n",
       "          ... \n",
       "N175UA       1\n",
       "N852NW       1\n",
       "N7LBAA       1\n",
       "N7LEAA       1\n",
       "N180UA       1\n",
       "Name: count, Length: 4897, dtype: int64"
      ]
     },
     "execution_count": 55,
     "metadata": {},
     "output_type": "execute_result"
    }
   ],
   "source": [
    "airline_flight_data['TAIL_NUMBER'].value_counts()"
   ]
  },
  {
   "cell_type": "markdown",
   "id": "b7baf779-6c8b-48de-9caf-fce7dd29cc10",
   "metadata": {},
   "source": [
    "We observe that, in our data the tail number category **N480HA** is used most of the times. For now, let's fill the missing value with **UNK**, short form for **UNKNOWN**"
   ]
  },
  {
   "cell_type": "code",
   "execution_count": 57,
   "id": "43180bfd-c426-4065-99b0-d72d020faaaf",
   "metadata": {},
   "outputs": [],
   "source": [
    "airline_flight_data['TAIL_NUMBER'].fillna('UNK', inplace = True)"
   ]
  },
  {
   "cell_type": "code",
   "execution_count": 58,
   "id": "921edb13-4994-4f59-b572-e146e041574f",
   "metadata": {},
   "outputs": [
    {
     "data": {
      "text/plain": [
       "0"
      ]
     },
     "execution_count": 58,
     "metadata": {},
     "output_type": "execute_result"
    }
   ],
   "source": [
    "airline_flight_data['TAIL_NUMBER'].isna().sum()"
   ]
  },
  {
   "cell_type": "code",
   "execution_count": 59,
   "id": "266d8925-5958-4a68-af20-d3c97a734a0d",
   "metadata": {},
   "outputs": [
    {
     "data": {
      "text/html": [
       "<div>\n",
       "<style scoped>\n",
       "    .dataframe tbody tr th:only-of-type {\n",
       "        vertical-align: middle;\n",
       "    }\n",
       "\n",
       "    .dataframe tbody tr th {\n",
       "        vertical-align: top;\n",
       "    }\n",
       "\n",
       "    .dataframe thead th {\n",
       "        text-align: right;\n",
       "    }\n",
       "</style>\n",
       "<table border=\"1\" class=\"dataframe\">\n",
       "  <thead>\n",
       "    <tr style=\"text-align: right;\">\n",
       "      <th></th>\n",
       "      <th>YEAR</th>\n",
       "      <th>MONTH</th>\n",
       "      <th>DAY</th>\n",
       "      <th>DAY_OF_WEEK</th>\n",
       "      <th>AIRLINE</th>\n",
       "      <th>FLIGHT_NUMBER</th>\n",
       "      <th>TAIL_NUMBER</th>\n",
       "      <th>ORIGIN_AIRPORT</th>\n",
       "      <th>DESTINATION_AIRPORT</th>\n",
       "      <th>SCHEDULED_DEPARTURE</th>\n",
       "      <th>...</th>\n",
       "      <th>ARRIVAL_TIME</th>\n",
       "      <th>ARRIVAL_DELAY</th>\n",
       "      <th>DIVERTED</th>\n",
       "      <th>CANCELLED</th>\n",
       "      <th>CANCELLATION_REASON</th>\n",
       "      <th>AIR_SYSTEM_DELAY</th>\n",
       "      <th>SECURITY_DELAY</th>\n",
       "      <th>AIRLINE_DELAY</th>\n",
       "      <th>LATE_AIRCRAFT_DELAY</th>\n",
       "      <th>WEATHER_DELAY</th>\n",
       "    </tr>\n",
       "  </thead>\n",
       "  <tbody>\n",
       "    <tr>\n",
       "      <th>297</th>\n",
       "      <td>2015</td>\n",
       "      <td>1</td>\n",
       "      <td>1</td>\n",
       "      <td>4</td>\n",
       "      <td>F9</td>\n",
       "      <td>865</td>\n",
       "      <td>UNK</td>\n",
       "      <td>MSO</td>\n",
       "      <td>DEN</td>\n",
       "      <td>600</td>\n",
       "      <td>...</td>\n",
       "      <td>NaN</td>\n",
       "      <td>4.407057</td>\n",
       "      <td>0</td>\n",
       "      <td>1</td>\n",
       "      <td>A</td>\n",
       "      <td>NaN</td>\n",
       "      <td>NaN</td>\n",
       "      <td>NaN</td>\n",
       "      <td>NaN</td>\n",
       "      <td>NaN</td>\n",
       "    </tr>\n",
       "    <tr>\n",
       "      <th>298</th>\n",
       "      <td>2015</td>\n",
       "      <td>1</td>\n",
       "      <td>1</td>\n",
       "      <td>4</td>\n",
       "      <td>F9</td>\n",
       "      <td>1256</td>\n",
       "      <td>UNK</td>\n",
       "      <td>ORD</td>\n",
       "      <td>MIA</td>\n",
       "      <td>600</td>\n",
       "      <td>...</td>\n",
       "      <td>NaN</td>\n",
       "      <td>4.407057</td>\n",
       "      <td>0</td>\n",
       "      <td>1</td>\n",
       "      <td>A</td>\n",
       "      <td>NaN</td>\n",
       "      <td>NaN</td>\n",
       "      <td>NaN</td>\n",
       "      <td>NaN</td>\n",
       "      <td>NaN</td>\n",
       "    </tr>\n",
       "    <tr>\n",
       "      <th>2216</th>\n",
       "      <td>2015</td>\n",
       "      <td>1</td>\n",
       "      <td>1</td>\n",
       "      <td>4</td>\n",
       "      <td>UA</td>\n",
       "      <td>641</td>\n",
       "      <td>UNK</td>\n",
       "      <td>LAX</td>\n",
       "      <td>HNL</td>\n",
       "      <td>845</td>\n",
       "      <td>...</td>\n",
       "      <td>NaN</td>\n",
       "      <td>4.407057</td>\n",
       "      <td>0</td>\n",
       "      <td>1</td>\n",
       "      <td>A</td>\n",
       "      <td>NaN</td>\n",
       "      <td>NaN</td>\n",
       "      <td>NaN</td>\n",
       "      <td>NaN</td>\n",
       "      <td>NaN</td>\n",
       "    </tr>\n",
       "    <tr>\n",
       "      <th>3490</th>\n",
       "      <td>2015</td>\n",
       "      <td>1</td>\n",
       "      <td>1</td>\n",
       "      <td>4</td>\n",
       "      <td>UA</td>\n",
       "      <td>1412</td>\n",
       "      <td>UNK</td>\n",
       "      <td>ORD</td>\n",
       "      <td>PHL</td>\n",
       "      <td>1010</td>\n",
       "      <td>...</td>\n",
       "      <td>NaN</td>\n",
       "      <td>4.407057</td>\n",
       "      <td>0</td>\n",
       "      <td>1</td>\n",
       "      <td>A</td>\n",
       "      <td>NaN</td>\n",
       "      <td>NaN</td>\n",
       "      <td>NaN</td>\n",
       "      <td>NaN</td>\n",
       "      <td>NaN</td>\n",
       "    </tr>\n",
       "    <tr>\n",
       "      <th>3763</th>\n",
       "      <td>2015</td>\n",
       "      <td>1</td>\n",
       "      <td>1</td>\n",
       "      <td>4</td>\n",
       "      <td>US</td>\n",
       "      <td>1883</td>\n",
       "      <td>UNK</td>\n",
       "      <td>SLC</td>\n",
       "      <td>PHL</td>\n",
       "      <td>1030</td>\n",
       "      <td>...</td>\n",
       "      <td>NaN</td>\n",
       "      <td>4.407057</td>\n",
       "      <td>0</td>\n",
       "      <td>1</td>\n",
       "      <td>A</td>\n",
       "      <td>NaN</td>\n",
       "      <td>NaN</td>\n",
       "      <td>NaN</td>\n",
       "      <td>NaN</td>\n",
       "      <td>NaN</td>\n",
       "    </tr>\n",
       "    <tr>\n",
       "      <th>...</th>\n",
       "      <td>...</td>\n",
       "      <td>...</td>\n",
       "      <td>...</td>\n",
       "      <td>...</td>\n",
       "      <td>...</td>\n",
       "      <td>...</td>\n",
       "      <td>...</td>\n",
       "      <td>...</td>\n",
       "      <td>...</td>\n",
       "      <td>...</td>\n",
       "      <td>...</td>\n",
       "      <td>...</td>\n",
       "      <td>...</td>\n",
       "      <td>...</td>\n",
       "      <td>...</td>\n",
       "      <td>...</td>\n",
       "      <td>...</td>\n",
       "      <td>...</td>\n",
       "      <td>...</td>\n",
       "      <td>...</td>\n",
       "      <td>...</td>\n",
       "    </tr>\n",
       "    <tr>\n",
       "      <th>5811608</th>\n",
       "      <td>2015</td>\n",
       "      <td>12</td>\n",
       "      <td>31</td>\n",
       "      <td>4</td>\n",
       "      <td>UA</td>\n",
       "      <td>598</td>\n",
       "      <td>UNK</td>\n",
       "      <td>SMF</td>\n",
       "      <td>DEN</td>\n",
       "      <td>1134</td>\n",
       "      <td>...</td>\n",
       "      <td>NaN</td>\n",
       "      <td>4.407057</td>\n",
       "      <td>0</td>\n",
       "      <td>1</td>\n",
       "      <td>A</td>\n",
       "      <td>NaN</td>\n",
       "      <td>NaN</td>\n",
       "      <td>NaN</td>\n",
       "      <td>NaN</td>\n",
       "      <td>NaN</td>\n",
       "    </tr>\n",
       "    <tr>\n",
       "      <th>5813418</th>\n",
       "      <td>2015</td>\n",
       "      <td>12</td>\n",
       "      <td>31</td>\n",
       "      <td>4</td>\n",
       "      <td>UA</td>\n",
       "      <td>338</td>\n",
       "      <td>UNK</td>\n",
       "      <td>PDX</td>\n",
       "      <td>SFO</td>\n",
       "      <td>1339</td>\n",
       "      <td>...</td>\n",
       "      <td>NaN</td>\n",
       "      <td>4.407057</td>\n",
       "      <td>0</td>\n",
       "      <td>1</td>\n",
       "      <td>A</td>\n",
       "      <td>NaN</td>\n",
       "      <td>NaN</td>\n",
       "      <td>NaN</td>\n",
       "      <td>NaN</td>\n",
       "      <td>NaN</td>\n",
       "    </tr>\n",
       "    <tr>\n",
       "      <th>5813861</th>\n",
       "      <td>2015</td>\n",
       "      <td>12</td>\n",
       "      <td>31</td>\n",
       "      <td>4</td>\n",
       "      <td>UA</td>\n",
       "      <td>1828</td>\n",
       "      <td>UNK</td>\n",
       "      <td>SEA</td>\n",
       "      <td>IAH</td>\n",
       "      <td>1405</td>\n",
       "      <td>...</td>\n",
       "      <td>NaN</td>\n",
       "      <td>4.407057</td>\n",
       "      <td>0</td>\n",
       "      <td>1</td>\n",
       "      <td>A</td>\n",
       "      <td>NaN</td>\n",
       "      <td>NaN</td>\n",
       "      <td>NaN</td>\n",
       "      <td>NaN</td>\n",
       "      <td>NaN</td>\n",
       "    </tr>\n",
       "    <tr>\n",
       "      <th>5818090</th>\n",
       "      <td>2015</td>\n",
       "      <td>12</td>\n",
       "      <td>31</td>\n",
       "      <td>4</td>\n",
       "      <td>UA</td>\n",
       "      <td>1789</td>\n",
       "      <td>UNK</td>\n",
       "      <td>IAH</td>\n",
       "      <td>TPA</td>\n",
       "      <td>1955</td>\n",
       "      <td>...</td>\n",
       "      <td>NaN</td>\n",
       "      <td>4.407057</td>\n",
       "      <td>0</td>\n",
       "      <td>1</td>\n",
       "      <td>A</td>\n",
       "      <td>NaN</td>\n",
       "      <td>NaN</td>\n",
       "      <td>NaN</td>\n",
       "      <td>NaN</td>\n",
       "      <td>NaN</td>\n",
       "    </tr>\n",
       "    <tr>\n",
       "      <th>5818157</th>\n",
       "      <td>2015</td>\n",
       "      <td>12</td>\n",
       "      <td>31</td>\n",
       "      <td>4</td>\n",
       "      <td>UA</td>\n",
       "      <td>222</td>\n",
       "      <td>UNK</td>\n",
       "      <td>SFO</td>\n",
       "      <td>LAX</td>\n",
       "      <td>2000</td>\n",
       "      <td>...</td>\n",
       "      <td>NaN</td>\n",
       "      <td>4.407057</td>\n",
       "      <td>0</td>\n",
       "      <td>1</td>\n",
       "      <td>A</td>\n",
       "      <td>NaN</td>\n",
       "      <td>NaN</td>\n",
       "      <td>NaN</td>\n",
       "      <td>NaN</td>\n",
       "      <td>NaN</td>\n",
       "    </tr>\n",
       "  </tbody>\n",
       "</table>\n",
       "<p>14721 rows × 31 columns</p>\n",
       "</div>"
      ],
      "text/plain": [
       "         YEAR  MONTH  DAY  DAY_OF_WEEK AIRLINE  FLIGHT_NUMBER TAIL_NUMBER  \\\n",
       "297      2015      1    1            4      F9            865         UNK   \n",
       "298      2015      1    1            4      F9           1256         UNK   \n",
       "2216     2015      1    1            4      UA            641         UNK   \n",
       "3490     2015      1    1            4      UA           1412         UNK   \n",
       "3763     2015      1    1            4      US           1883         UNK   \n",
       "...       ...    ...  ...          ...     ...            ...         ...   \n",
       "5811608  2015     12   31            4      UA            598         UNK   \n",
       "5813418  2015     12   31            4      UA            338         UNK   \n",
       "5813861  2015     12   31            4      UA           1828         UNK   \n",
       "5818090  2015     12   31            4      UA           1789         UNK   \n",
       "5818157  2015     12   31            4      UA            222         UNK   \n",
       "\n",
       "        ORIGIN_AIRPORT DESTINATION_AIRPORT  SCHEDULED_DEPARTURE  ...  \\\n",
       "297                MSO                 DEN                  600  ...   \n",
       "298                ORD                 MIA                  600  ...   \n",
       "2216               LAX                 HNL                  845  ...   \n",
       "3490               ORD                 PHL                 1010  ...   \n",
       "3763               SLC                 PHL                 1030  ...   \n",
       "...                ...                 ...                  ...  ...   \n",
       "5811608            SMF                 DEN                 1134  ...   \n",
       "5813418            PDX                 SFO                 1339  ...   \n",
       "5813861            SEA                 IAH                 1405  ...   \n",
       "5818090            IAH                 TPA                 1955  ...   \n",
       "5818157            SFO                 LAX                 2000  ...   \n",
       "\n",
       "         ARRIVAL_TIME  ARRIVAL_DELAY  DIVERTED  CANCELLED  \\\n",
       "297               NaN       4.407057         0          1   \n",
       "298               NaN       4.407057         0          1   \n",
       "2216              NaN       4.407057         0          1   \n",
       "3490              NaN       4.407057         0          1   \n",
       "3763              NaN       4.407057         0          1   \n",
       "...               ...            ...       ...        ...   \n",
       "5811608           NaN       4.407057         0          1   \n",
       "5813418           NaN       4.407057         0          1   \n",
       "5813861           NaN       4.407057         0          1   \n",
       "5818090           NaN       4.407057         0          1   \n",
       "5818157           NaN       4.407057         0          1   \n",
       "\n",
       "         CANCELLATION_REASON  AIR_SYSTEM_DELAY  SECURITY_DELAY  AIRLINE_DELAY  \\\n",
       "297                        A               NaN             NaN            NaN   \n",
       "298                        A               NaN             NaN            NaN   \n",
       "2216                       A               NaN             NaN            NaN   \n",
       "3490                       A               NaN             NaN            NaN   \n",
       "3763                       A               NaN             NaN            NaN   \n",
       "...                      ...               ...             ...            ...   \n",
       "5811608                    A               NaN             NaN            NaN   \n",
       "5813418                    A               NaN             NaN            NaN   \n",
       "5813861                    A               NaN             NaN            NaN   \n",
       "5818090                    A               NaN             NaN            NaN   \n",
       "5818157                    A               NaN             NaN            NaN   \n",
       "\n",
       "         LATE_AIRCRAFT_DELAY  WEATHER_DELAY  \n",
       "297                      NaN            NaN  \n",
       "298                      NaN            NaN  \n",
       "2216                     NaN            NaN  \n",
       "3490                     NaN            NaN  \n",
       "3763                     NaN            NaN  \n",
       "...                      ...            ...  \n",
       "5811608                  NaN            NaN  \n",
       "5813418                  NaN            NaN  \n",
       "5813861                  NaN            NaN  \n",
       "5818090                  NaN            NaN  \n",
       "5818157                  NaN            NaN  \n",
       "\n",
       "[14721 rows x 31 columns]"
      ]
     },
     "execution_count": 59,
     "metadata": {},
     "output_type": "execute_result"
    }
   ],
   "source": [
    "airline_flight_data[airline_flight_data['TAIL_NUMBER']=='UNK']"
   ]
  },
  {
   "cell_type": "markdown",
   "id": "f15fc57b-4574-4f10-9421-6b8d16ddbdc8",
   "metadata": {},
   "source": [
    "### Filling Categorical Variable with Frequent Category i.e. Mode"
   ]
  },
  {
   "cell_type": "markdown",
   "id": "16aa2775-e413-4fc3-b88f-854ff6952d62",
   "metadata": {},
   "source": [
    "Let us start with **CANCELLATION_REASON**"
   ]
  },
  {
   "cell_type": "code",
   "execution_count": 62,
   "id": "4adbaa7c-0fb5-40cf-92b0-999aede6b955",
   "metadata": {},
   "outputs": [],
   "source": [
    "frequent_reason_of_cancellation = airline_flight_data['CANCELLATION_REASON'].mode()[0]"
   ]
  },
  {
   "cell_type": "code",
   "execution_count": 63,
   "id": "8fafdf73-3565-4be6-ae28-55192680cbe1",
   "metadata": {},
   "outputs": [
    {
     "data": {
      "text/plain": [
       "'B'"
      ]
     },
     "execution_count": 63,
     "metadata": {},
     "output_type": "execute_result"
    }
   ],
   "source": [
    "frequent_reason_of_cancellation"
   ]
  },
  {
   "cell_type": "markdown",
   "id": "e55aeb2b-da30-454a-a3f8-dfddff544e2d",
   "metadata": {},
   "source": [
    "The reason **B** is repeated frequently. Let us cross verify the data."
   ]
  },
  {
   "cell_type": "code",
   "execution_count": 65,
   "id": "3513f3af-61bd-49a5-86fa-d9df514098ef",
   "metadata": {},
   "outputs": [
    {
     "data": {
      "text/plain": [
       "CANCELLATION_REASON\n",
       "B    48851\n",
       "A    25262\n",
       "C    15749\n",
       "D       22\n",
       "Name: count, dtype: int64"
      ]
     },
     "execution_count": 65,
     "metadata": {},
     "output_type": "execute_result"
    }
   ],
   "source": [
    "airline_flight_data['CANCELLATION_REASON'].value_counts()"
   ]
  },
  {
   "cell_type": "code",
   "execution_count": 66,
   "id": "88034155-0e76-42e6-9950-29e6ada41e4c",
   "metadata": {},
   "outputs": [],
   "source": [
    " airline_flight_data['CANCELLATION_REASON'].fillna(frequent_reason_of_cancellation, inplace=True)"
   ]
  },
  {
   "cell_type": "code",
   "execution_count": 67,
   "id": "2603569b-3e4f-41ec-96a1-0a9447c0e14f",
   "metadata": {},
   "outputs": [
    {
     "data": {
      "text/plain": [
       "0"
      ]
     },
     "execution_count": 67,
     "metadata": {},
     "output_type": "execute_result"
    }
   ],
   "source": [
    "airline_flight_data['CANCELLATION_REASON'].isna().sum()"
   ]
  },
  {
   "cell_type": "markdown",
   "id": "9e900a54-7116-42f2-8954-fbbac4902101",
   "metadata": {},
   "source": [
    "More refernce at: https://fritz.ai/hands-on-with-feature-engineering-techniques-imputing-missing-values/"
   ]
  },
  {
   "cell_type": "markdown",
   "id": "c3a3fff1-c33a-427d-834e-18daba3b96fc",
   "metadata": {},
   "source": [
    "### Encoding Categorial Variables"
   ]
  },
  {
   "cell_type": "markdown",
   "id": "a08232a9-c950-4460-9c31-45fa71eac436",
   "metadata": {},
   "source": [
    "The categorical values of varibales should be converted to numeric value before applying any machine learning algorithm. There are generally two approaches to convert the **categorical variable** TO **numeric variable**. Let us begin with **Label Encoding**."
   ]
  },
  {
   "cell_type": "markdown",
   "id": "99086c71-59ce-416e-9056-aa063b569ae4",
   "metadata": {},
   "source": [
    "#### Import necessary library to encode the data"
   ]
  },
  {
   "cell_type": "code",
   "execution_count": 72,
   "id": "9e869e2a-e6bb-4d23-b991-6f014cd551bb",
   "metadata": {},
   "outputs": [],
   "source": [
    "from sklearn.preprocessing import LabelEncoder"
   ]
  },
  {
   "cell_type": "markdown",
   "id": "5f1578e8-08b1-4220-a79d-7c33eb92095f",
   "metadata": {},
   "source": [
    "#### Create an object/instance of the Encoder"
   ]
  },
  {
   "cell_type": "code",
   "execution_count": 74,
   "id": "f866f17f-2d8f-4ef0-bacc-ce9fe8ab5f6d",
   "metadata": {},
   "outputs": [],
   "source": [
    "label_encoder = LabelEncoder()"
   ]
  },
  {
   "cell_type": "markdown",
   "id": "adee98e9-c303-4d0f-b6ef-04ee0367b179",
   "metadata": {},
   "source": [
    "Let us first begin with **CANCELLATION_REASON** column to encode. Let's check the unique values of the column first."
   ]
  },
  {
   "cell_type": "code",
   "execution_count": 76,
   "id": "3b1585fd-9f81-4043-a9b1-8b53a83604ec",
   "metadata": {},
   "outputs": [
    {
     "data": {
      "text/plain": [
       "array(['B', 'A', 'C', 'D'], dtype=object)"
      ]
     },
     "execution_count": 76,
     "metadata": {},
     "output_type": "execute_result"
    }
   ],
   "source": [
    "airline_flight_data['CANCELLATION_REASON'].unique()"
   ]
  },
  {
   "cell_type": "markdown",
   "id": "ea72d950-2048-411a-a706-47d99922193f",
   "metadata": {},
   "source": [
    "These values should be encoded using the instance of **LabelEncoder** created above. Let's create a new column to store the encoded value and name it as **CANCELLATION_REASON_ENC**"
   ]
  },
  {
   "cell_type": "code",
   "execution_count": 78,
   "id": "4a6366a5-bcac-4c43-8766-9abbb72dd862",
   "metadata": {},
   "outputs": [],
   "source": [
    "airline_flight_data['CANCELLATION_REASON_ENC']=label_encoder.fit_transform(airline_flight_data['CANCELLATION_REASON'])"
   ]
  },
  {
   "cell_type": "code",
   "execution_count": 79,
   "id": "b1b1d2cb-1839-43df-afd7-737762365543",
   "metadata": {},
   "outputs": [
    {
     "data": {
      "text/html": [
       "<div>\n",
       "<style scoped>\n",
       "    .dataframe tbody tr th:only-of-type {\n",
       "        vertical-align: middle;\n",
       "    }\n",
       "\n",
       "    .dataframe tbody tr th {\n",
       "        vertical-align: top;\n",
       "    }\n",
       "\n",
       "    .dataframe thead th {\n",
       "        text-align: right;\n",
       "    }\n",
       "</style>\n",
       "<table border=\"1\" class=\"dataframe\">\n",
       "  <thead>\n",
       "    <tr style=\"text-align: right;\">\n",
       "      <th></th>\n",
       "      <th>YEAR</th>\n",
       "      <th>MONTH</th>\n",
       "      <th>DAY</th>\n",
       "      <th>DAY_OF_WEEK</th>\n",
       "      <th>AIRLINE</th>\n",
       "      <th>FLIGHT_NUMBER</th>\n",
       "      <th>TAIL_NUMBER</th>\n",
       "      <th>ORIGIN_AIRPORT</th>\n",
       "      <th>DESTINATION_AIRPORT</th>\n",
       "      <th>SCHEDULED_DEPARTURE</th>\n",
       "      <th>...</th>\n",
       "      <th>ARRIVAL_DELAY</th>\n",
       "      <th>DIVERTED</th>\n",
       "      <th>CANCELLED</th>\n",
       "      <th>CANCELLATION_REASON</th>\n",
       "      <th>AIR_SYSTEM_DELAY</th>\n",
       "      <th>SECURITY_DELAY</th>\n",
       "      <th>AIRLINE_DELAY</th>\n",
       "      <th>LATE_AIRCRAFT_DELAY</th>\n",
       "      <th>WEATHER_DELAY</th>\n",
       "      <th>CANCELLATION_REASON_ENC</th>\n",
       "    </tr>\n",
       "  </thead>\n",
       "  <tbody>\n",
       "    <tr>\n",
       "      <th>0</th>\n",
       "      <td>2015</td>\n",
       "      <td>1</td>\n",
       "      <td>1</td>\n",
       "      <td>4</td>\n",
       "      <td>AS</td>\n",
       "      <td>98</td>\n",
       "      <td>N407AS</td>\n",
       "      <td>ANC</td>\n",
       "      <td>SEA</td>\n",
       "      <td>5</td>\n",
       "      <td>...</td>\n",
       "      <td>-22.0</td>\n",
       "      <td>0</td>\n",
       "      <td>0</td>\n",
       "      <td>B</td>\n",
       "      <td>NaN</td>\n",
       "      <td>NaN</td>\n",
       "      <td>NaN</td>\n",
       "      <td>NaN</td>\n",
       "      <td>NaN</td>\n",
       "      <td>1</td>\n",
       "    </tr>\n",
       "    <tr>\n",
       "      <th>1</th>\n",
       "      <td>2015</td>\n",
       "      <td>1</td>\n",
       "      <td>1</td>\n",
       "      <td>4</td>\n",
       "      <td>AA</td>\n",
       "      <td>2336</td>\n",
       "      <td>N3KUAA</td>\n",
       "      <td>LAX</td>\n",
       "      <td>PBI</td>\n",
       "      <td>10</td>\n",
       "      <td>...</td>\n",
       "      <td>-9.0</td>\n",
       "      <td>0</td>\n",
       "      <td>0</td>\n",
       "      <td>B</td>\n",
       "      <td>NaN</td>\n",
       "      <td>NaN</td>\n",
       "      <td>NaN</td>\n",
       "      <td>NaN</td>\n",
       "      <td>NaN</td>\n",
       "      <td>1</td>\n",
       "    </tr>\n",
       "    <tr>\n",
       "      <th>2</th>\n",
       "      <td>2015</td>\n",
       "      <td>1</td>\n",
       "      <td>1</td>\n",
       "      <td>4</td>\n",
       "      <td>US</td>\n",
       "      <td>840</td>\n",
       "      <td>N171US</td>\n",
       "      <td>SFO</td>\n",
       "      <td>CLT</td>\n",
       "      <td>20</td>\n",
       "      <td>...</td>\n",
       "      <td>5.0</td>\n",
       "      <td>0</td>\n",
       "      <td>0</td>\n",
       "      <td>B</td>\n",
       "      <td>NaN</td>\n",
       "      <td>NaN</td>\n",
       "      <td>NaN</td>\n",
       "      <td>NaN</td>\n",
       "      <td>NaN</td>\n",
       "      <td>1</td>\n",
       "    </tr>\n",
       "    <tr>\n",
       "      <th>3</th>\n",
       "      <td>2015</td>\n",
       "      <td>1</td>\n",
       "      <td>1</td>\n",
       "      <td>4</td>\n",
       "      <td>AA</td>\n",
       "      <td>258</td>\n",
       "      <td>N3HYAA</td>\n",
       "      <td>LAX</td>\n",
       "      <td>MIA</td>\n",
       "      <td>20</td>\n",
       "      <td>...</td>\n",
       "      <td>-9.0</td>\n",
       "      <td>0</td>\n",
       "      <td>0</td>\n",
       "      <td>B</td>\n",
       "      <td>NaN</td>\n",
       "      <td>NaN</td>\n",
       "      <td>NaN</td>\n",
       "      <td>NaN</td>\n",
       "      <td>NaN</td>\n",
       "      <td>1</td>\n",
       "    </tr>\n",
       "    <tr>\n",
       "      <th>4</th>\n",
       "      <td>2015</td>\n",
       "      <td>1</td>\n",
       "      <td>1</td>\n",
       "      <td>4</td>\n",
       "      <td>AS</td>\n",
       "      <td>135</td>\n",
       "      <td>N527AS</td>\n",
       "      <td>SEA</td>\n",
       "      <td>ANC</td>\n",
       "      <td>25</td>\n",
       "      <td>...</td>\n",
       "      <td>-21.0</td>\n",
       "      <td>0</td>\n",
       "      <td>0</td>\n",
       "      <td>B</td>\n",
       "      <td>NaN</td>\n",
       "      <td>NaN</td>\n",
       "      <td>NaN</td>\n",
       "      <td>NaN</td>\n",
       "      <td>NaN</td>\n",
       "      <td>1</td>\n",
       "    </tr>\n",
       "    <tr>\n",
       "      <th>...</th>\n",
       "      <td>...</td>\n",
       "      <td>...</td>\n",
       "      <td>...</td>\n",
       "      <td>...</td>\n",
       "      <td>...</td>\n",
       "      <td>...</td>\n",
       "      <td>...</td>\n",
       "      <td>...</td>\n",
       "      <td>...</td>\n",
       "      <td>...</td>\n",
       "      <td>...</td>\n",
       "      <td>...</td>\n",
       "      <td>...</td>\n",
       "      <td>...</td>\n",
       "      <td>...</td>\n",
       "      <td>...</td>\n",
       "      <td>...</td>\n",
       "      <td>...</td>\n",
       "      <td>...</td>\n",
       "      <td>...</td>\n",
       "      <td>...</td>\n",
       "    </tr>\n",
       "    <tr>\n",
       "      <th>5819074</th>\n",
       "      <td>2015</td>\n",
       "      <td>12</td>\n",
       "      <td>31</td>\n",
       "      <td>4</td>\n",
       "      <td>B6</td>\n",
       "      <td>688</td>\n",
       "      <td>N657JB</td>\n",
       "      <td>LAX</td>\n",
       "      <td>BOS</td>\n",
       "      <td>2359</td>\n",
       "      <td>...</td>\n",
       "      <td>-26.0</td>\n",
       "      <td>0</td>\n",
       "      <td>0</td>\n",
       "      <td>B</td>\n",
       "      <td>NaN</td>\n",
       "      <td>NaN</td>\n",
       "      <td>NaN</td>\n",
       "      <td>NaN</td>\n",
       "      <td>NaN</td>\n",
       "      <td>1</td>\n",
       "    </tr>\n",
       "    <tr>\n",
       "      <th>5819075</th>\n",
       "      <td>2015</td>\n",
       "      <td>12</td>\n",
       "      <td>31</td>\n",
       "      <td>4</td>\n",
       "      <td>B6</td>\n",
       "      <td>745</td>\n",
       "      <td>N828JB</td>\n",
       "      <td>JFK</td>\n",
       "      <td>PSE</td>\n",
       "      <td>2359</td>\n",
       "      <td>...</td>\n",
       "      <td>-16.0</td>\n",
       "      <td>0</td>\n",
       "      <td>0</td>\n",
       "      <td>B</td>\n",
       "      <td>NaN</td>\n",
       "      <td>NaN</td>\n",
       "      <td>NaN</td>\n",
       "      <td>NaN</td>\n",
       "      <td>NaN</td>\n",
       "      <td>1</td>\n",
       "    </tr>\n",
       "    <tr>\n",
       "      <th>5819076</th>\n",
       "      <td>2015</td>\n",
       "      <td>12</td>\n",
       "      <td>31</td>\n",
       "      <td>4</td>\n",
       "      <td>B6</td>\n",
       "      <td>1503</td>\n",
       "      <td>N913JB</td>\n",
       "      <td>JFK</td>\n",
       "      <td>SJU</td>\n",
       "      <td>2359</td>\n",
       "      <td>...</td>\n",
       "      <td>-8.0</td>\n",
       "      <td>0</td>\n",
       "      <td>0</td>\n",
       "      <td>B</td>\n",
       "      <td>NaN</td>\n",
       "      <td>NaN</td>\n",
       "      <td>NaN</td>\n",
       "      <td>NaN</td>\n",
       "      <td>NaN</td>\n",
       "      <td>1</td>\n",
       "    </tr>\n",
       "    <tr>\n",
       "      <th>5819077</th>\n",
       "      <td>2015</td>\n",
       "      <td>12</td>\n",
       "      <td>31</td>\n",
       "      <td>4</td>\n",
       "      <td>B6</td>\n",
       "      <td>333</td>\n",
       "      <td>N527JB</td>\n",
       "      <td>MCO</td>\n",
       "      <td>SJU</td>\n",
       "      <td>2359</td>\n",
       "      <td>...</td>\n",
       "      <td>-10.0</td>\n",
       "      <td>0</td>\n",
       "      <td>0</td>\n",
       "      <td>B</td>\n",
       "      <td>NaN</td>\n",
       "      <td>NaN</td>\n",
       "      <td>NaN</td>\n",
       "      <td>NaN</td>\n",
       "      <td>NaN</td>\n",
       "      <td>1</td>\n",
       "    </tr>\n",
       "    <tr>\n",
       "      <th>5819078</th>\n",
       "      <td>2015</td>\n",
       "      <td>12</td>\n",
       "      <td>31</td>\n",
       "      <td>4</td>\n",
       "      <td>B6</td>\n",
       "      <td>839</td>\n",
       "      <td>N534JB</td>\n",
       "      <td>JFK</td>\n",
       "      <td>BQN</td>\n",
       "      <td>2359</td>\n",
       "      <td>...</td>\n",
       "      <td>2.0</td>\n",
       "      <td>0</td>\n",
       "      <td>0</td>\n",
       "      <td>B</td>\n",
       "      <td>NaN</td>\n",
       "      <td>NaN</td>\n",
       "      <td>NaN</td>\n",
       "      <td>NaN</td>\n",
       "      <td>NaN</td>\n",
       "      <td>1</td>\n",
       "    </tr>\n",
       "  </tbody>\n",
       "</table>\n",
       "<p>5819079 rows × 32 columns</p>\n",
       "</div>"
      ],
      "text/plain": [
       "         YEAR  MONTH  DAY  DAY_OF_WEEK AIRLINE  FLIGHT_NUMBER TAIL_NUMBER  \\\n",
       "0        2015      1    1            4      AS             98      N407AS   \n",
       "1        2015      1    1            4      AA           2336      N3KUAA   \n",
       "2        2015      1    1            4      US            840      N171US   \n",
       "3        2015      1    1            4      AA            258      N3HYAA   \n",
       "4        2015      1    1            4      AS            135      N527AS   \n",
       "...       ...    ...  ...          ...     ...            ...         ...   \n",
       "5819074  2015     12   31            4      B6            688      N657JB   \n",
       "5819075  2015     12   31            4      B6            745      N828JB   \n",
       "5819076  2015     12   31            4      B6           1503      N913JB   \n",
       "5819077  2015     12   31            4      B6            333      N527JB   \n",
       "5819078  2015     12   31            4      B6            839      N534JB   \n",
       "\n",
       "        ORIGIN_AIRPORT DESTINATION_AIRPORT  SCHEDULED_DEPARTURE  ...  \\\n",
       "0                  ANC                 SEA                    5  ...   \n",
       "1                  LAX                 PBI                   10  ...   \n",
       "2                  SFO                 CLT                   20  ...   \n",
       "3                  LAX                 MIA                   20  ...   \n",
       "4                  SEA                 ANC                   25  ...   \n",
       "...                ...                 ...                  ...  ...   \n",
       "5819074            LAX                 BOS                 2359  ...   \n",
       "5819075            JFK                 PSE                 2359  ...   \n",
       "5819076            JFK                 SJU                 2359  ...   \n",
       "5819077            MCO                 SJU                 2359  ...   \n",
       "5819078            JFK                 BQN                 2359  ...   \n",
       "\n",
       "         ARRIVAL_DELAY  DIVERTED  CANCELLED  CANCELLATION_REASON  \\\n",
       "0                -22.0         0          0                    B   \n",
       "1                 -9.0         0          0                    B   \n",
       "2                  5.0         0          0                    B   \n",
       "3                 -9.0         0          0                    B   \n",
       "4                -21.0         0          0                    B   \n",
       "...                ...       ...        ...                  ...   \n",
       "5819074          -26.0         0          0                    B   \n",
       "5819075          -16.0         0          0                    B   \n",
       "5819076           -8.0         0          0                    B   \n",
       "5819077          -10.0         0          0                    B   \n",
       "5819078            2.0         0          0                    B   \n",
       "\n",
       "         AIR_SYSTEM_DELAY  SECURITY_DELAY  AIRLINE_DELAY  LATE_AIRCRAFT_DELAY  \\\n",
       "0                     NaN             NaN            NaN                  NaN   \n",
       "1                     NaN             NaN            NaN                  NaN   \n",
       "2                     NaN             NaN            NaN                  NaN   \n",
       "3                     NaN             NaN            NaN                  NaN   \n",
       "4                     NaN             NaN            NaN                  NaN   \n",
       "...                   ...             ...            ...                  ...   \n",
       "5819074               NaN             NaN            NaN                  NaN   \n",
       "5819075               NaN             NaN            NaN                  NaN   \n",
       "5819076               NaN             NaN            NaN                  NaN   \n",
       "5819077               NaN             NaN            NaN                  NaN   \n",
       "5819078               NaN             NaN            NaN                  NaN   \n",
       "\n",
       "         WEATHER_DELAY  CANCELLATION_REASON_ENC  \n",
       "0                  NaN                        1  \n",
       "1                  NaN                        1  \n",
       "2                  NaN                        1  \n",
       "3                  NaN                        1  \n",
       "4                  NaN                        1  \n",
       "...                ...                      ...  \n",
       "5819074            NaN                        1  \n",
       "5819075            NaN                        1  \n",
       "5819076            NaN                        1  \n",
       "5819077            NaN                        1  \n",
       "5819078            NaN                        1  \n",
       "\n",
       "[5819079 rows x 32 columns]"
      ]
     },
     "execution_count": 79,
     "metadata": {},
     "output_type": "execute_result"
    }
   ],
   "source": [
    "airline_flight_data"
   ]
  },
  {
   "cell_type": "code",
   "execution_count": 80,
   "id": "642a7c32-9e7a-4c57-b351-8d76565f2ae5",
   "metadata": {},
   "outputs": [
    {
     "data": {
      "text/html": [
       "<div>\n",
       "<style scoped>\n",
       "    .dataframe tbody tr th:only-of-type {\n",
       "        vertical-align: middle;\n",
       "    }\n",
       "\n",
       "    .dataframe tbody tr th {\n",
       "        vertical-align: top;\n",
       "    }\n",
       "\n",
       "    .dataframe thead th {\n",
       "        text-align: right;\n",
       "    }\n",
       "</style>\n",
       "<table border=\"1\" class=\"dataframe\">\n",
       "  <thead>\n",
       "    <tr style=\"text-align: right;\">\n",
       "      <th></th>\n",
       "      <th>CANCELLATION_REASON</th>\n",
       "      <th>CANCELLATION_REASON_ENC</th>\n",
       "    </tr>\n",
       "  </thead>\n",
       "  <tbody>\n",
       "    <tr>\n",
       "      <th>0</th>\n",
       "      <td>B</td>\n",
       "      <td>1</td>\n",
       "    </tr>\n",
       "    <tr>\n",
       "      <th>1</th>\n",
       "      <td>B</td>\n",
       "      <td>1</td>\n",
       "    </tr>\n",
       "    <tr>\n",
       "      <th>2</th>\n",
       "      <td>B</td>\n",
       "      <td>1</td>\n",
       "    </tr>\n",
       "    <tr>\n",
       "      <th>3</th>\n",
       "      <td>B</td>\n",
       "      <td>1</td>\n",
       "    </tr>\n",
       "    <tr>\n",
       "      <th>4</th>\n",
       "      <td>B</td>\n",
       "      <td>1</td>\n",
       "    </tr>\n",
       "    <tr>\n",
       "      <th>...</th>\n",
       "      <td>...</td>\n",
       "      <td>...</td>\n",
       "    </tr>\n",
       "    <tr>\n",
       "      <th>5819074</th>\n",
       "      <td>B</td>\n",
       "      <td>1</td>\n",
       "    </tr>\n",
       "    <tr>\n",
       "      <th>5819075</th>\n",
       "      <td>B</td>\n",
       "      <td>1</td>\n",
       "    </tr>\n",
       "    <tr>\n",
       "      <th>5819076</th>\n",
       "      <td>B</td>\n",
       "      <td>1</td>\n",
       "    </tr>\n",
       "    <tr>\n",
       "      <th>5819077</th>\n",
       "      <td>B</td>\n",
       "      <td>1</td>\n",
       "    </tr>\n",
       "    <tr>\n",
       "      <th>5819078</th>\n",
       "      <td>B</td>\n",
       "      <td>1</td>\n",
       "    </tr>\n",
       "  </tbody>\n",
       "</table>\n",
       "<p>5819079 rows × 2 columns</p>\n",
       "</div>"
      ],
      "text/plain": [
       "        CANCELLATION_REASON  CANCELLATION_REASON_ENC\n",
       "0                         B                        1\n",
       "1                         B                        1\n",
       "2                         B                        1\n",
       "3                         B                        1\n",
       "4                         B                        1\n",
       "...                     ...                      ...\n",
       "5819074                   B                        1\n",
       "5819075                   B                        1\n",
       "5819076                   B                        1\n",
       "5819077                   B                        1\n",
       "5819078                   B                        1\n",
       "\n",
       "[5819079 rows x 2 columns]"
      ]
     },
     "execution_count": 80,
     "metadata": {},
     "output_type": "execute_result"
    }
   ],
   "source": [
    "airline_flight_data[['CANCELLATION_REASON','CANCELLATION_REASON_ENC']]"
   ]
  },
  {
   "cell_type": "code",
   "execution_count": 81,
   "id": "d89a7e88-c9c9-42c1-b8a0-aadba317ec6f",
   "metadata": {},
   "outputs": [],
   "source": [
    "mapping_dict = dict(zip(range(len(label_encoder.classes_)), label_encoder.classes_))"
   ]
  },
  {
   "cell_type": "code",
   "execution_count": 82,
   "id": "c2dc9512-4796-426d-a92c-451a256cc527",
   "metadata": {},
   "outputs": [
    {
     "data": {
      "text/plain": [
       "{0: 'A', 1: 'B', 2: 'C', 3: 'D'}"
      ]
     },
     "execution_count": 82,
     "metadata": {},
     "output_type": "execute_result"
    }
   ],
   "source": [
    "mapping_dict"
   ]
  },
  {
   "cell_type": "markdown",
   "id": "1223f6c6-68a3-4544-80ba-f73c909ba32a",
   "metadata": {},
   "source": [
    "In the above scenario, the **CANCELLATION_REASON** do not have an order or rank. But, when label encoding is performed, the **CANCELLATION_REASON** are ranked based on the alphabets. Due to this, there is a very high probability that the model captures the relationship between reasons such as A < B < C and so on."
   ]
  },
  {
   "cell_type": "markdown",
   "id": "30ca4014-ed2d-4b71-a0ea-2145cfeebb7e",
   "metadata": {},
   "source": [
    "Let us drop the encoded column for now"
   ]
  },
  {
   "cell_type": "code",
   "execution_count": 85,
   "id": "0dd379d1-e1a7-4fae-9805-0900d4c85531",
   "metadata": {},
   "outputs": [],
   "source": [
    "airline_flight_data.drop('CANCELLATION_REASON_ENC', axis=1, inplace=True)"
   ]
  },
  {
   "cell_type": "markdown",
   "id": "d9c25b5e-90a6-4ef6-8960-b522919331a9",
   "metadata": {},
   "source": [
    "#### One Hot Encoding"
   ]
  },
  {
   "cell_type": "markdown",
   "id": "45bed220-c583-47db-a433-9ab014165867",
   "metadata": {},
   "source": [
    "One-Hot Encoding is another popular technique for treating categorical variables. It simply creates additional features based on the number of unique values in the categorical feature. Every unique value in the category will be added as a feature. One-Hot Encoding is the process of creating dummy variables.\n",
    "\n",
    "In this encoding technique, each category is represented as a one-hot vector."
   ]
  },
  {
   "cell_type": "code",
   "execution_count": 88,
   "id": "b4421a71-37f1-4787-a86b-556ce294b457",
   "metadata": {},
   "outputs": [],
   "source": [
    "from sklearn.preprocessing import OneHotEncoder"
   ]
  },
  {
   "cell_type": "code",
   "execution_count": 89,
   "id": "ce5e9dd5-27cf-484d-9e80-77ace3bb9453",
   "metadata": {},
   "outputs": [],
   "source": [
    "one_hot_encoder = OneHotEncoder()"
   ]
  },
  {
   "cell_type": "code",
   "execution_count": 90,
   "id": "af437327-8fe7-4f00-9a6f-6bd7246206eb",
   "metadata": {},
   "outputs": [],
   "source": [
    "feature_to_encode = airline_flight_data['CANCELLATION_REASON'].values.reshape(-1, 1)\n",
    "encoded_feature = one_hot_encoder.fit_transform(feature_to_encode).toarray()\n",
    "\n",
    "# Get the feature names from the encoder\n",
    "feature_names = one_hot_encoder.get_feature_names_out(['CANCELLATION_REASON'])\n",
    "\n",
    "# Create a DataFrame with the encoded columns\n",
    "encoded_df = pd.DataFrame(encoded_feature, columns=feature_names)\n",
    "\n",
    "# Include the encoded columns to the original data\n",
    "airline_flight_data_enc = pd.concat([airline_flight_data, encoded_df], axis=1)"
   ]
  },
  {
   "cell_type": "code",
   "execution_count": 91,
   "id": "9f63f4ee-6ea5-4393-af9c-fcae7b994695",
   "metadata": {},
   "outputs": [
    {
     "data": {
      "text/plain": [
       "Index(['YEAR', 'MONTH', 'DAY', 'DAY_OF_WEEK', 'AIRLINE', 'FLIGHT_NUMBER',\n",
       "       'TAIL_NUMBER', 'ORIGIN_AIRPORT', 'DESTINATION_AIRPORT',\n",
       "       'SCHEDULED_DEPARTURE', 'DEPARTURE_TIME', 'DEPARTURE_DELAY', 'TAXI_OUT',\n",
       "       'WHEELS_OFF', 'SCHEDULED_TIME', 'ELAPSED_TIME', 'AIR_TIME', 'DISTANCE',\n",
       "       'WHEELS_ON', 'TAXI_IN', 'SCHEDULED_ARRIVAL', 'ARRIVAL_TIME',\n",
       "       'ARRIVAL_DELAY', 'DIVERTED', 'CANCELLED', 'CANCELLATION_REASON',\n",
       "       'AIR_SYSTEM_DELAY', 'SECURITY_DELAY', 'AIRLINE_DELAY',\n",
       "       'LATE_AIRCRAFT_DELAY', 'WEATHER_DELAY', 'CANCELLATION_REASON_A',\n",
       "       'CANCELLATION_REASON_B', 'CANCELLATION_REASON_C',\n",
       "       'CANCELLATION_REASON_D'],\n",
       "      dtype='object')"
      ]
     },
     "execution_count": 91,
     "metadata": {},
     "output_type": "execute_result"
    }
   ],
   "source": [
    "airline_flight_data_enc.columns"
   ]
  },
  {
   "cell_type": "markdown",
   "id": "32a5f49a-13ba-4537-9bce-e516b1c2faa5",
   "metadata": {},
   "source": [
    "We can notice that **'CANCELLATION_REASON_A',\n",
    "       'CANCELLATION_REASON_B', 'CANCELLATION_REASON_C',\n",
    "       'CANCELLATION_REASON_D'** columns are added."
   ]
  },
  {
   "cell_type": "code",
   "execution_count": 93,
   "id": "1f004f47-4100-4929-8567-d9ea99543f6d",
   "metadata": {},
   "outputs": [
    {
     "data": {
      "text/html": [
       "<div>\n",
       "<style scoped>\n",
       "    .dataframe tbody tr th:only-of-type {\n",
       "        vertical-align: middle;\n",
       "    }\n",
       "\n",
       "    .dataframe tbody tr th {\n",
       "        vertical-align: top;\n",
       "    }\n",
       "\n",
       "    .dataframe thead th {\n",
       "        text-align: right;\n",
       "    }\n",
       "</style>\n",
       "<table border=\"1\" class=\"dataframe\">\n",
       "  <thead>\n",
       "    <tr style=\"text-align: right;\">\n",
       "      <th></th>\n",
       "      <th>CANCELLATION_REASON_A</th>\n",
       "      <th>CANCELLATION_REASON_B</th>\n",
       "      <th>CANCELLATION_REASON_C</th>\n",
       "      <th>CANCELLATION_REASON_D</th>\n",
       "      <th>CANCELLATION_REASON</th>\n",
       "    </tr>\n",
       "  </thead>\n",
       "  <tbody>\n",
       "    <tr>\n",
       "      <th>0</th>\n",
       "      <td>0.0</td>\n",
       "      <td>1.0</td>\n",
       "      <td>0.0</td>\n",
       "      <td>0.0</td>\n",
       "      <td>B</td>\n",
       "    </tr>\n",
       "    <tr>\n",
       "      <th>1</th>\n",
       "      <td>0.0</td>\n",
       "      <td>1.0</td>\n",
       "      <td>0.0</td>\n",
       "      <td>0.0</td>\n",
       "      <td>B</td>\n",
       "    </tr>\n",
       "    <tr>\n",
       "      <th>2</th>\n",
       "      <td>0.0</td>\n",
       "      <td>1.0</td>\n",
       "      <td>0.0</td>\n",
       "      <td>0.0</td>\n",
       "      <td>B</td>\n",
       "    </tr>\n",
       "    <tr>\n",
       "      <th>3</th>\n",
       "      <td>0.0</td>\n",
       "      <td>1.0</td>\n",
       "      <td>0.0</td>\n",
       "      <td>0.0</td>\n",
       "      <td>B</td>\n",
       "    </tr>\n",
       "    <tr>\n",
       "      <th>4</th>\n",
       "      <td>0.0</td>\n",
       "      <td>1.0</td>\n",
       "      <td>0.0</td>\n",
       "      <td>0.0</td>\n",
       "      <td>B</td>\n",
       "    </tr>\n",
       "    <tr>\n",
       "      <th>...</th>\n",
       "      <td>...</td>\n",
       "      <td>...</td>\n",
       "      <td>...</td>\n",
       "      <td>...</td>\n",
       "      <td>...</td>\n",
       "    </tr>\n",
       "    <tr>\n",
       "      <th>5819074</th>\n",
       "      <td>0.0</td>\n",
       "      <td>1.0</td>\n",
       "      <td>0.0</td>\n",
       "      <td>0.0</td>\n",
       "      <td>B</td>\n",
       "    </tr>\n",
       "    <tr>\n",
       "      <th>5819075</th>\n",
       "      <td>0.0</td>\n",
       "      <td>1.0</td>\n",
       "      <td>0.0</td>\n",
       "      <td>0.0</td>\n",
       "      <td>B</td>\n",
       "    </tr>\n",
       "    <tr>\n",
       "      <th>5819076</th>\n",
       "      <td>0.0</td>\n",
       "      <td>1.0</td>\n",
       "      <td>0.0</td>\n",
       "      <td>0.0</td>\n",
       "      <td>B</td>\n",
       "    </tr>\n",
       "    <tr>\n",
       "      <th>5819077</th>\n",
       "      <td>0.0</td>\n",
       "      <td>1.0</td>\n",
       "      <td>0.0</td>\n",
       "      <td>0.0</td>\n",
       "      <td>B</td>\n",
       "    </tr>\n",
       "    <tr>\n",
       "      <th>5819078</th>\n",
       "      <td>0.0</td>\n",
       "      <td>1.0</td>\n",
       "      <td>0.0</td>\n",
       "      <td>0.0</td>\n",
       "      <td>B</td>\n",
       "    </tr>\n",
       "  </tbody>\n",
       "</table>\n",
       "<p>5819079 rows × 5 columns</p>\n",
       "</div>"
      ],
      "text/plain": [
       "         CANCELLATION_REASON_A  CANCELLATION_REASON_B  CANCELLATION_REASON_C  \\\n",
       "0                          0.0                    1.0                    0.0   \n",
       "1                          0.0                    1.0                    0.0   \n",
       "2                          0.0                    1.0                    0.0   \n",
       "3                          0.0                    1.0                    0.0   \n",
       "4                          0.0                    1.0                    0.0   \n",
       "...                        ...                    ...                    ...   \n",
       "5819074                    0.0                    1.0                    0.0   \n",
       "5819075                    0.0                    1.0                    0.0   \n",
       "5819076                    0.0                    1.0                    0.0   \n",
       "5819077                    0.0                    1.0                    0.0   \n",
       "5819078                    0.0                    1.0                    0.0   \n",
       "\n",
       "         CANCELLATION_REASON_D CANCELLATION_REASON  \n",
       "0                          0.0                   B  \n",
       "1                          0.0                   B  \n",
       "2                          0.0                   B  \n",
       "3                          0.0                   B  \n",
       "4                          0.0                   B  \n",
       "...                        ...                 ...  \n",
       "5819074                    0.0                   B  \n",
       "5819075                    0.0                   B  \n",
       "5819076                    0.0                   B  \n",
       "5819077                    0.0                   B  \n",
       "5819078                    0.0                   B  \n",
       "\n",
       "[5819079 rows x 5 columns]"
      ]
     },
     "execution_count": 93,
     "metadata": {},
     "output_type": "execute_result"
    }
   ],
   "source": [
    "airline_flight_data_enc[['CANCELLATION_REASON_A',\n",
    "       'CANCELLATION_REASON_B', 'CANCELLATION_REASON_C',\n",
    "       'CANCELLATION_REASON_D', 'CANCELLATION_REASON']]"
   ]
  },
  {
   "cell_type": "markdown",
   "id": "477ba1f7-9bc8-48d4-93b2-2ca2d7f38ba2",
   "metadata": {},
   "source": [
    "#### Note on Label Encoding and One Hot Encoding"
   ]
  },
  {
   "cell_type": "markdown",
   "id": "72b760bd-422b-491c-8e94-fb0b852042db",
   "metadata": {},
   "source": [
    "**Label Encoding:**\n",
    "Label encoding is suitable when your categorical variable is ordinal, meaning that the categories have a natural order or ranking. For example, if you have a variable representing education levels (e.g., high school, bachelor's, master's, Ph.D.), label encoding would be appropriate since these categories have an inherent order.\n",
    "Label encoding is also useful when you have a large number of categorical variables with many unique categories, and you want to avoid the curse of dimensionality that comes with one-hot encoding.  \n",
    "\n",
    "**One-Hot Encoding:**\n",
    "One-hot encoding is preferred when your categorical variable is nominal, meaning that the categories do not have an inherent order or ranking. For example, if you have a variable representing city names (e.g., New York, London, Paris, Tokyo), one-hot encoding would be the appropriate choice since these categories are not ordered.\n",
    "One-hot encoding is also recommended when you are using algorithms that assume that the input data is numeric and that there is no inherent ordering between the categories. Many machine learning algorithms, such as logistic regression, decision trees, and neural networks, work better with one-hot encoded data.\n",
    "However, one-hot encoding can significantly increase the dimensionality of your data, especially if you have categorical variables with many unique categories. This can lead to the curse of dimensionality, which can negatively impact the performance of some machine learning algorithms and increase the computational complexity."
   ]
  },
  {
   "cell_type": "markdown",
   "id": "c2db3943-a71a-4e25-b805-a1e82d33d5db",
   "metadata": {},
   "source": [
    "### EDA and Basic Charts"
   ]
  },
  {
   "cell_type": "code",
   "execution_count": 97,
   "id": "529748d8-09ea-4625-85b9-abc403474875",
   "metadata": {},
   "outputs": [
    {
     "name": "stderr",
     "output_type": "stream",
     "text": [
      "C:\\Anaconda\\Lib\\site-packages\\seaborn\\_oldcore.py:1119: FutureWarning: use_inf_as_na option is deprecated and will be removed in a future version. Convert inf values to NaN before operating instead.\n",
      "  with pd.option_context('mode.use_inf_as_na', True):\n"
     ]
    },
    {
     "data": {
      "image/png": "[encoded data removed]",
      "text/plain": [
       "<Figure size 1000x600 with 1 Axes>"
      ]
     },
     "metadata": {},
     "output_type": "display_data"
    }
   ],
   "source": [
    "# Departure Delay Distribution\n",
    "plt.figure(figsize=(10, 6))\n",
    "sns.histplot(data=airline_flight_data, x='DEPARTURE_DELAY', bins=30, kde=True)\n",
    "plt.title('Distribution of Departure Delays')\n",
    "plt.xlabel('Departure Delay (minutes)')\n",
    "plt.ylabel('Count')\n",
    "plt.show()"
   ]
  },
  {
   "cell_type": "code",
   "execution_count": 98,
   "id": "7e8721e1-ef2e-486f-8071-c02720d14c4f",
   "metadata": {},
   "outputs": [
    {
     "name": "stderr",
     "output_type": "stream",
     "text": [
      "C:\\Anaconda\\Lib\\site-packages\\seaborn\\_oldcore.py:1119: FutureWarning: use_inf_as_na option is deprecated and will be removed in a future version. Convert inf values to NaN before operating instead.\n",
      "  with pd.option_context('mode.use_inf_as_na', True):\n"
     ]
    },
    {
     "data": {
      "image/png": "[encoded data removed]",
      "text/plain": [
       "<Figure size 1000x600 with 1 Axes>"
      ]
     },
     "metadata": {},
     "output_type": "display_data"
    }
   ],
   "source": [
    "plt.figure(figsize=(10, 6))\n",
    "sns.histplot(data=airline_flight_data, x='ARRIVAL_DELAY', bins=30, kde=True)\n",
    "plt.title('Distribution of Arrival Delays')\n",
    "plt.xlabel('Arrival Delay (minutes)')\n",
    "plt.ylabel('Count')\n",
    "plt.show()\n"
   ]
  },
  {
   "cell_type": "code",
   "execution_count": null,
   "id": "f7939439-aa7a-40e2-9610-5aea98fa8a78",
   "metadata": {},
   "outputs": [],
   "source": []
  },
  {
   "cell_type": "code",
   "execution_count": 164,
   "id": "cb5eacf9-6a9b-4f26-ab1a-2622e69b19e2",
   "metadata": {},
   "outputs": [
    {
     "data": {
      "text/plain": [
       "Text(0.5, 1.0, 'Distribution of Delay Reasons')"
      ]
     },
     "execution_count": 164,
     "metadata": {},
     "output_type": "execute_result"
    },
    {
     "data": {
      "image/png": "[encoded data removed]",
      "text/plain": [
       "<Figure size 800x600 with 1 Axes>"
      ]
     },
     "metadata": {},
     "output_type": "display_data"
    }
   ],
   "source": [
    "# Delay Reasons Pie Chart\n",
    "delay_reasons = ['AIR_SYSTEM_DELAY', 'SECURITY_DELAY', 'AIRLINE_DELAY', 'LATE_AIRCRAFT_DELAY', 'WEATHER_DELAY']\n",
    "delay_counts = airline_flight_data[delay_reasons].sum().values\n",
    "\n",
    "plt.figure(figsize=(8, 6))\n",
    "plt.pie(delay_counts, labels=delay_reasons, autopct='%1.1f%%')\n",
    "plt.title('Distribution of Delay Reasons')"
   ]
  },
  {
   "cell_type": "code",
   "execution_count": 165,
   "id": "2d322194-2113-4796-8477-a5f3ef5703ba",
   "metadata": {},
   "outputs": [
    {
     "name": "stderr",
     "output_type": "stream",
     "text": [
      "C:\\Anaconda\\Lib\\site-packages\\seaborn\\_oldcore.py:1119: FutureWarning: use_inf_as_na option is deprecated and will be removed in a future version. Convert inf values to NaN before operating instead.\n",
      "  with pd.option_context('mode.use_inf_as_na', True):\n",
      "C:\\Anaconda\\Lib\\site-packages\\seaborn\\_oldcore.py:1119: FutureWarning: use_inf_as_na option is deprecated and will be removed in a future version. Convert inf values to NaN before operating instead.\n",
      "  with pd.option_context('mode.use_inf_as_na', True):\n"
     ]
    },
    {
     "data": {
      "image/png": "[encoded data removed]",
      "text/plain": [
       "<Figure size 640x480 with 1 Axes>"
      ]
     },
     "metadata": {},
     "output_type": "display_data"
    }
   ],
   "source": [
    "sns.lineplot(data=airline_flight_data, x='MONTH', y='DEPARTURE_DELAY', hue='YEAR', errorbar=None, palette='tab10', linewidth=3)\n",
    "plt.title('Departure Delays by Month and Year')\n",
    "plt.show()"
   ]
  },
  {
   "cell_type": "code",
   "execution_count": null,
   "id": "23c17d31-ce73-49fc-820e-a3ae1918ae9c",
   "metadata": {},
   "outputs": [],
   "source": []
  },
  {
   "cell_type": "code",
   "execution_count": 171,
   "id": "689089e4-1695-4828-9d70-942330ae6cda",
   "metadata": {},
   "outputs": [
    {
     "data": {
      "image/png": "[encoded data removed]",
      "text/plain": [
       "<Figure size 640x480 with 1 Axes>"
      ]
     },
     "metadata": {},
     "output_type": "display_data"
    }
   ],
   "source": [
    "sns.scatterplot(data=airline_flight_data, x='AIRLINE', y='DEPARTURE_DELAY')\n",
    "plt.title('Departure Delays by Airline')\n",
    "plt.show()"
   ]
  },
  {
   "cell_type": "markdown",
   "id": "fed28d4a-8de8-44cc-9c30-6f83118aafb4",
   "metadata": {},
   "source": []
  }
 ],
 "metadata": {
  "kernelspec": {
   "display_name": "Python [conda env:base] *",
   "language": "python",
   "name": "conda-base-py"
  },
  "language_info": {
   "codemirror_mode": {
    "name": "ipython",
    "version": 3
   },
   "file_extension": ".py",
   "mimetype": "text/x-python",
   "name": "python",
   "nbconvert_exporter": "python",
   "pygments_lexer": "ipython3",
   "version": "3.11.7"
  }
 },
 "nbformat": 4,
 "nbformat_minor": 5
}
