{
 "cells": [
  {
   "cell_type": "code",
   "execution_count": 1,
   "id": "590375a2-31bf-46df-88b7-f05845a07a1d",
   "metadata": {},
   "outputs": [
    {
     "data": {
      "text/plain": [
       "8"
      ]
     },
     "execution_count": 1,
     "metadata": {},
     "output_type": "execute_result"
    }
   ],
   "source": [
    "5+3"
   ]
  },
  {
   "cell_type": "code",
   "execution_count": 5,
   "id": "ebff1222-69df-48fb-8122-cae7ab69add9",
   "metadata": {},
   "outputs": [
    {
     "data": {
      "text/plain": [
       "['Hello', 'World', 21, 'R']"
      ]
     },
     "execution_count": 5,
     "metadata": {},
     "output_type": "execute_result"
    }
   ],
   "source": [
    "list_a = [\"Hello\",\"World\",21,'R']\n",
    "list_a"
   ]
  },
  {
   "cell_type": "code",
   "execution_count": 7,
   "id": "f3045a76-def4-4fe3-9b72-3b95192a63e4",
   "metadata": {},
   "outputs": [
    {
     "data": {
      "text/plain": [
       "list"
      ]
     },
     "execution_count": 7,
     "metadata": {},
     "output_type": "execute_result"
    }
   ],
   "source": [
    "type(list_a)"
   ]
  },
  {
   "cell_type": "code",
   "execution_count": 11,
   "id": "4e19c15f-dab1-443e-8a24-eb5c94e13ab1",
   "metadata": {},
   "outputs": [
    {
     "data": {
      "text/plain": [
       "['Hello', 'World', 21, 'R', 'Ribesh', 'Ribesh']"
      ]
     },
     "execution_count": 11,
     "metadata": {},
     "output_type": "execute_result"
    }
   ],
   "source": [
    "list_a.append('Ribesh')\n",
    "list_a"
   ]
  },
  {
   "cell_type": "code",
   "execution_count": 13,
   "id": "bc1201db-fd4f-40eb-a5a6-0d80e9992bfe",
   "metadata": {},
   "outputs": [
    {
     "data": {
      "text/plain": [
       "['The', 'one', 'looking']"
      ]
     },
     "execution_count": 13,
     "metadata": {},
     "output_type": "execute_result"
    }
   ],
   "source": [
    "list_b = [\"The\",\"one\",\"looking\"]\n",
    "list_b"
   ]
  },
  {
   "cell_type": "code",
   "execution_count": 15,
   "id": "e47154ac-78ee-4298-9c0c-1c4d5fc3e30b",
   "metadata": {},
   "outputs": [
    {
     "data": {
      "text/plain": [
       "['Hello', 'World', 21, 'R', 'Ribesh', 'Ribesh', ['The', 'one', 'looking']]"
      ]
     },
     "execution_count": 15,
     "metadata": {},
     "output_type": "execute_result"
    }
   ],
   "source": [
    "list_a.append(list_b)\n",
    "list_a"
   ]
  },
  {
   "cell_type": "code",
   "execution_count": 23,
   "id": "9408095e-d79e-49c9-8a06-719d172dc798",
   "metadata": {},
   "outputs": [
    {
     "data": {
      "text/plain": [
       "['Hello',\n",
       " 'World',\n",
       " 21,\n",
       " 'R',\n",
       " 'Ribesh',\n",
       " 'Ribesh',\n",
       " ['The', 'one', 'looking'],\n",
       " 'The',\n",
       " 'one',\n",
       " 'looking',\n",
       " 'The',\n",
       " 'one',\n",
       " 'looking',\n",
       " 'The',\n",
       " 'one',\n",
       " 'looking',\n",
       " 'The',\n",
       " 'one',\n",
       " 'looking']"
      ]
     },
     "execution_count": 23,
     "metadata": {},
     "output_type": "execute_result"
    }
   ],
   "source": [
    "list_a.extend(list_b)\n",
    "list_a"
   ]
  },
  {
   "cell_type": "code",
   "execution_count": 25,
   "id": "a3c2fb67-b1c3-4a4d-ac83-a1baef719d8e",
   "metadata": {},
   "outputs": [
    {
     "data": {
      "text/plain": [
       "['Hello', 1, 2]"
      ]
     },
     "execution_count": 25,
     "metadata": {},
     "output_type": "execute_result"
    }
   ],
   "source": [
    "iterable_a = [\"Hello\",1,2]\n",
    "iterable_a"
   ]
  },
  {
   "cell_type": "code",
   "execution_count": 27,
   "id": "9d7c426e-30d1-4007-ae20-e43cfefe9cf3",
   "metadata": {},
   "outputs": [
    {
     "ename": "AttributeError",
     "evalue": "'list' object has no attribute 'values'",
     "output_type": "error",
     "traceback": [
      "\u001b[1;31m---------------------------------------------------------------------------\u001b[0m",
      "\u001b[1;31mAttributeError\u001b[0m                            Traceback (most recent call last)",
      "Cell \u001b[1;32mIn[27], line 1\u001b[0m\n\u001b[1;32m----> 1\u001b[0m iterable_a\u001b[38;5;241m.\u001b[39mvalues\n",
      "\u001b[1;31mAttributeError\u001b[0m: 'list' object has no attribute 'values'"
     ]
    }
   ],
   "source": [
    "iterable_a.values"
   ]
  },
  {
   "cell_type": "code",
   "execution_count": 35,
   "id": "27c980f2-54db-4249-8d2a-132fbf1ee20a",
   "metadata": {},
   "outputs": [
    {
     "data": {
      "text/plain": [
       "dict_values(['a', 'b'])"
      ]
     },
     "execution_count": 35,
     "metadata": {},
     "output_type": "execute_result"
    }
   ],
   "source": [
    "iterable_b={1:'a',2:'b'}\n",
    "iterable_b.values()"
   ]
  },
  {
   "cell_type": "code",
   "execution_count": 37,
   "id": "6e1fcace-499f-4abf-831c-56072fe25411",
   "metadata": {},
   "outputs": [
    {
     "data": {
      "text/plain": [
       "['Design', 'Pattern', 'is', 'necessary']"
      ]
     },
     "execution_count": 37,
     "metadata": {},
     "output_type": "execute_result"
    }
   ],
   "source": [
    "list_insert=['Design','Pattern','is','necessary']\n",
    "list_insert"
   ]
  },
  {
   "cell_type": "code",
   "execution_count": 39,
   "id": "ed02d0b3-1a9b-42b9-9dcd-e2e43fe1634d",
   "metadata": {},
   "outputs": [
    {
     "data": {
      "text/plain": [
       "['Design', 'Pattern', 'is', 'very', 'necessary']"
      ]
     },
     "execution_count": 39,
     "metadata": {},
     "output_type": "execute_result"
    }
   ],
   "source": [
    "list_insert.insert(3,'very')\n",
    "list_insert"
   ]
  },
  {
   "cell_type": "code",
   "execution_count": 41,
   "id": "f9756035-4f9e-46ff-801a-7f20becbd111",
   "metadata": {},
   "outputs": [
    {
     "data": {
      "text/plain": [
       "6"
      ]
     },
     "execution_count": 41,
     "metadata": {},
     "output_type": "execute_result"
    }
   ],
   "source": [
    "list_pop = [1,2,3,4,5,6]\n",
    "list_pop.pop()"
   ]
  },
  {
   "cell_type": "code",
   "execution_count": 43,
   "id": "a0e1ebfd-7965-4a80-aa7b-170869921764",
   "metadata": {},
   "outputs": [
    {
     "data": {
      "text/plain": [
       "[1, 2, 3, 4, 5]"
      ]
     },
     "execution_count": 43,
     "metadata": {},
     "output_type": "execute_result"
    }
   ],
   "source": [
    "list_pop"
   ]
  },
  {
   "cell_type": "code",
   "execution_count": 45,
   "id": "280dc51a-b372-4db7-891a-58185b9dfcf3",
   "metadata": {},
   "outputs": [
    {
     "data": {
      "text/plain": [
       "3"
      ]
     },
     "execution_count": 45,
     "metadata": {},
     "output_type": "execute_result"
    }
   ],
   "source": [
    "index = list_pop.index(4)\n",
    "index"
   ]
  },
  {
   "cell_type": "code",
   "execution_count": 47,
   "id": "54163cd9-490d-4127-b6bb-6e0df489745f",
   "metadata": {},
   "outputs": [
    {
     "data": {
      "text/plain": [
       "[1, 2, 3, 5]"
      ]
     },
     "execution_count": 47,
     "metadata": {},
     "output_type": "execute_result"
    }
   ],
   "source": [
    "list_pop.pop(list_pop.index(4))\n",
    "list_pop"
   ]
  },
  {
   "cell_type": "code",
   "execution_count": 51,
   "id": "a11628e3-ac76-482b-a19a-b107d13a87f5",
   "metadata": {},
   "outputs": [
    {
     "data": {
      "text/plain": [
       "['Ribesh', 'Shrestha', 21]"
      ]
     },
     "execution_count": 51,
     "metadata": {},
     "output_type": "execute_result"
    }
   ],
   "source": [
    "list_remove=[21,'Ribesh','Shrestha',21]\n",
    "list_remove\n",
    "list_remove.remove(21)\n",
    "list_remove"
   ]
  },
  {
   "cell_type": "code",
   "execution_count": 55,
   "id": "d007dfad-67c1-48b2-985e-42d513933300",
   "metadata": {},
   "outputs": [
    {
     "data": {
      "text/plain": [
       "[1, 2, 4, 5, 6, 7, 8, 9]"
      ]
     },
     "execution_count": 55,
     "metadata": {},
     "output_type": "execute_result"
    }
   ],
   "source": [
    "list_sort=[9,8,7,6,5,4,1,2]\n",
    "list_sort.sort()\n",
    "list_sort"
   ]
  },
  {
   "cell_type": "code",
   "execution_count": 57,
   "id": "c349f0d4-ea47-47fe-be29-6f65ba170533",
   "metadata": {},
   "outputs": [
    {
     "data": {
      "text/plain": [
       "[9, 8, 7, 6, 5, 4, 2, 1]"
      ]
     },
     "execution_count": 57,
     "metadata": {},
     "output_type": "execute_result"
    }
   ],
   "source": [
    "list_sort.sort(reverse=True)\n",
    "list_sort"
   ]
  },
  {
   "cell_type": "code",
   "execution_count": 59,
   "id": "a74f930c-5b19-43fc-a993-22c96cc1ddb1",
   "metadata": {},
   "outputs": [
    {
     "name": "stdout",
     "output_type": "stream",
     "text": [
      "[9, 8, 7, 6, 5, 4, 2, 1]\n"
     ]
    }
   ],
   "source": [
    "print(list_sort)"
   ]
  },
  {
   "cell_type": "code",
   "execution_count": 61,
   "id": "d6c7ba67-b983-4e35-9fec-5715619b2585",
   "metadata": {},
   "outputs": [
    {
     "name": "stdout",
     "output_type": "stream",
     "text": [
      "Help on list object:\n",
      "\n",
      "class list(object)\n",
      " |  list(iterable=(), /)\n",
      " |  \n",
      " |  Built-in mutable sequence.\n",
      " |  \n",
      " |  If no argument is given, the constructor creates a new empty list.\n",
      " |  The argument must be an iterable if specified.\n",
      " |  \n",
      " |  Methods defined here:\n",
      " |  \n",
      " |  __add__(self, value, /)\n",
      " |      Return self+value.\n",
      " |  \n",
      " |  __contains__(self, key, /)\n",
      " |      Return key in self.\n",
      " |  \n",
      " |  __delitem__(self, key, /)\n",
      " |      Delete self[key].\n",
      " |  \n",
      " |  __eq__(self, value, /)\n",
      " |      Return self==value.\n",
      " |  \n",
      " |  __ge__(self, value, /)\n",
      " |      Return self>=value.\n",
      " |  \n",
      " |  __getattribute__(self, name, /)\n",
      " |      Return getattr(self, name).\n",
      " |  \n",
      " |  __getitem__(...)\n",
      " |      x.__getitem__(y) <==> x[y]\n",
      " |  \n",
      " |  __gt__(self, value, /)\n",
      " |      Return self>value.\n",
      " |  \n",
      " |  __iadd__(self, value, /)\n",
      " |      Implement self+=value.\n",
      " |  \n",
      " |  __imul__(self, value, /)\n",
      " |      Implement self*=value.\n",
      " |  \n",
      " |  __init__(self, /, *args, **kwargs)\n",
      " |      Initialize self.  See help(type(self)) for accurate signature.\n",
      " |  \n",
      " |  __iter__(self, /)\n",
      " |      Implement iter(self).\n",
      " |  \n",
      " |  __le__(self, value, /)\n",
      " |      Return self<=value.\n",
      " |  \n",
      " |  __len__(self, /)\n",
      " |      Return len(self).\n",
      " |  \n",
      " |  __lt__(self, value, /)\n",
      " |      Return self<value.\n",
      " |  \n",
      " |  __mul__(self, value, /)\n",
      " |      Return self*value.\n",
      " |  \n",
      " |  __ne__(self, value, /)\n",
      " |      Return self!=value.\n",
      " |  \n",
      " |  __repr__(self, /)\n",
      " |      Return repr(self).\n",
      " |  \n",
      " |  __reversed__(self, /)\n",
      " |      Return a reverse iterator over the list.\n",
      " |  \n",
      " |  __rmul__(self, value, /)\n",
      " |      Return value*self.\n",
      " |  \n",
      " |  __setitem__(self, key, value, /)\n",
      " |      Set self[key] to value.\n",
      " |  \n",
      " |  __sizeof__(self, /)\n",
      " |      Return the size of the list in memory, in bytes.\n",
      " |  \n",
      " |  append(self, object, /)\n",
      " |      Append object to the end of the list.\n",
      " |  \n",
      " |  clear(self, /)\n",
      " |      Remove all items from list.\n",
      " |  \n",
      " |  copy(self, /)\n",
      " |      Return a shallow copy of the list.\n",
      " |  \n",
      " |  count(self, value, /)\n",
      " |      Return number of occurrences of value.\n",
      " |  \n",
      " |  extend(self, iterable, /)\n",
      " |      Extend list by appending elements from the iterable.\n",
      " |  \n",
      " |  index(self, value, start=0, stop=9223372036854775807, /)\n",
      " |      Return first index of value.\n",
      " |      \n",
      " |      Raises ValueError if the value is not present.\n",
      " |  \n",
      " |  insert(self, index, object, /)\n",
      " |      Insert object before index.\n",
      " |  \n",
      " |  pop(self, index=-1, /)\n",
      " |      Remove and return item at index (default last).\n",
      " |      \n",
      " |      Raises IndexError if list is empty or index is out of range.\n",
      " |  \n",
      " |  remove(self, value, /)\n",
      " |      Remove first occurrence of value.\n",
      " |      \n",
      " |      Raises ValueError if the value is not present.\n",
      " |  \n",
      " |  reverse(self, /)\n",
      " |      Reverse *IN PLACE*.\n",
      " |  \n",
      " |  sort(self, /, *, key=None, reverse=False)\n",
      " |      Sort the list in ascending order and return None.\n",
      " |      \n",
      " |      The sort is in-place (i.e. the list itself is modified) and stable (i.e. the\n",
      " |      order of two equal elements is maintained).\n",
      " |      \n",
      " |      If a key function is given, apply it once to each list item and sort them,\n",
      " |      ascending or descending, according to their function values.\n",
      " |      \n",
      " |      The reverse flag can be set to sort in descending order.\n",
      " |  \n",
      " |  ----------------------------------------------------------------------\n",
      " |  Class methods defined here:\n",
      " |  \n",
      " |  __class_getitem__(...) from builtins.type\n",
      " |      See PEP 585\n",
      " |  \n",
      " |  ----------------------------------------------------------------------\n",
      " |  Static methods defined here:\n",
      " |  \n",
      " |  __new__(*args, **kwargs) from builtins.type\n",
      " |      Create and return a new object.  See help(type) for accurate signature.\n",
      " |  \n",
      " |  ----------------------------------------------------------------------\n",
      " |  Data and other attributes defined here:\n",
      " |  \n",
      " |  __hash__ = None\n",
      "\n"
     ]
    }
   ],
   "source": [
    "help(list_sort)"
   ]
  },
  {
   "cell_type": "code",
   "execution_count": null,
   "id": "d25e449e-895e-4b58-9961-e1d78ebfcf03",
   "metadata": {},
   "outputs": [],
   "source": [
    "list_access =[1,2,3,4,5,6,7,8,9]\n",
    "listaccess"
   ]
  },
  {
   "cell_type": "code",
   "execution_count": 63,
   "id": "e15afb60-066c-41d3-bce4-95e6180953ab",
   "metadata": {},
   "outputs": [
    {
     "name": "stdout",
     "output_type": "stream",
     "text": [
      "Ribesh\n",
      "Python\n",
      "class\n"
     ]
    }
   ],
   "source": [
    "list_for_iteration = [\"Ribesh\",'Python',\"class\"]\n",
    "for item in list_for_iteration:\n",
    "    print(item)"
   ]
  },
  {
   "cell_type": "code",
   "execution_count": 65,
   "id": "a657a87b-e40e-4f82-aab1-f5c643f95d31",
   "metadata": {},
   "outputs": [
    {
     "name": "stdout",
     "output_type": "stream",
     "text": [
      "0 Ribesh\n",
      "1 Python\n",
      "2 class\n"
     ]
    }
   ],
   "source": [
    "for idx, item in enumerate(list_for_iteration):\n",
    "    print(idx,item)"
   ]
  },
  {
   "cell_type": "code",
   "execution_count": 73,
   "id": "99794117-74cf-4994-a90b-c590b1f2cbd0",
   "metadata": {},
   "outputs": [
    {
     "data": {
      "text/plain": [
       "[1, 2, 3, 4, 'a', 'b', 'c', 'd']"
      ]
     },
     "execution_count": 73,
     "metadata": {},
     "output_type": "execute_result"
    }
   ],
   "source": [
    "list_c = [1,2,3,4]\n",
    "list_d =['a','b','c','d']\n",
    "result = list_c+list_d\n",
    "result"
   ]
  },
  {
   "cell_type": "code",
   "execution_count": 79,
   "id": "60363966-3a23-48cf-86e6-98358fce2cc3",
   "metadata": {},
   "outputs": [
    {
     "name": "stdout",
     "output_type": "stream",
     "text": [
      "(1, 'a')\n",
      "(2, 'b')\n",
      "(3, 'c')\n",
      "(4, 'd')\n"
     ]
    }
   ],
   "source": [
    "for items in zip(list_c,list_d):\n",
    "    print (items)"
   ]
  },
  {
   "cell_type": "code",
   "execution_count": 81,
   "id": "c7c17fc1-9d1e-4a54-8d9d-9bb8e09af0b1",
   "metadata": {},
   "outputs": [
    {
     "data": {
      "text/plain": [
       "[1, 2, 3, 3, 4, 4, 5, 5, 6, 7, 8, 9, 8, 7]"
      ]
     },
     "execution_count": 81,
     "metadata": {},
     "output_type": "execute_result"
    }
   ],
   "source": [
    "list_with_duplicates = [1,2,3,3,4,4,5,5,6,7,8,9,8,7]\n",
    "list_with_duplicates"
   ]
  },
  {
   "cell_type": "code",
   "execution_count": 83,
   "id": "209e4296-311d-4fe8-a969-3b12148c42d2",
   "metadata": {},
   "outputs": [
    {
     "data": {
      "text/plain": [
       "{1, 2, 3, 4, 5, 6, 7, 8, 9}"
      ]
     },
     "execution_count": 83,
     "metadata": {},
     "output_type": "execute_result"
    }
   ],
   "source": [
    "list_after_removing_duplicates= set(list_with_duplicates)\n",
    "list_after_removing_duplicates"
   ]
  },
  {
   "cell_type": "code",
   "execution_count": 85,
   "id": "f80ddb23-5def-490e-87d8-e2e8c13c924c",
   "metadata": {},
   "outputs": [
    {
     "data": {
      "text/plain": [
       "set"
      ]
     },
     "execution_count": 85,
     "metadata": {},
     "output_type": "execute_result"
    }
   ],
   "source": [
    "type(list_after_removing_duplicates)"
   ]
  },
  {
   "cell_type": "code",
   "execution_count": 91,
   "id": "660d9687-700e-4ebe-8aac-340bc094308a",
   "metadata": {},
   "outputs": [],
   "source": [
    "nested_list =[[1,2,3],[4,5,6],[7,8]]"
   ]
  },
  {
   "cell_type": "code",
   "execution_count": 93,
   "id": "fcd897a6-2543-421e-91dc-313fd9111d16",
   "metadata": {},
   "outputs": [
    {
     "name": "stdout",
     "output_type": "stream",
     "text": [
      "[1, 2, 3]\n",
      "1\n",
      "2\n",
      "3\n",
      "[4, 5, 6]\n",
      "4\n",
      "5\n",
      "6\n",
      "[7, 8]\n",
      "7\n",
      "8\n"
     ]
    }
   ],
   "source": [
    "for items in nested_list:\n",
    "    print (items)\n",
    "    for item in items:\n",
    "        print(item)"
   ]
  },
  {
   "cell_type": "code",
   "execution_count": 99,
   "id": "a72c0715-87c2-4723-906a-34ccff43256b",
   "metadata": {},
   "outputs": [],
   "source": [
    "test_sentence =\"hello world, ribesh shrestha\""
   ]
  },
  {
   "cell_type": "code",
   "execution_count": 101,
   "id": "c59f5c64-95b0-44c7-bc59-1b4b7773094f",
   "metadata": {},
   "outputs": [
    {
     "name": "stdout",
     "output_type": "stream",
     "text": [
      "hello\n",
      "world,\n",
      "ribesh\n",
      "shrestha\n"
     ]
    }
   ],
   "source": [
    "#get each word in the sentence. To grab each word, we need a split method\n",
    "list_of_first_chars=[]\n",
    "for items in test_sentence.split():\n",
    "    print(items)\n",
    "    list_of_first_chars.append(items[0])"
   ]
  },
  {
   "cell_type": "code",
   "execution_count": 103,
   "id": "0c7d8d3d-bdf6-46c2-93f6-bac81c9ca6c6",
   "metadata": {},
   "outputs": [
    {
     "data": {
      "text/plain": [
       "['h', 'w', 'r', 's']"
      ]
     },
     "execution_count": 103,
     "metadata": {},
     "output_type": "execute_result"
    }
   ],
   "source": [
    "list_of_first_chars"
   ]
  },
  {
   "cell_type": "code",
   "execution_count": 105,
   "id": "ddad0ae2-79a0-49bd-9290-72b7008d0254",
   "metadata": {},
   "outputs": [],
   "source": [
    "#using the comprehension for the above list\n",
    "list_of_first_chars_comp = [items[0] for items in test_sentence.split()]"
   ]
  },
  {
   "cell_type": "code",
   "execution_count": 107,
   "id": "357d5746-9315-497b-a251-bbd78d162b1d",
   "metadata": {},
   "outputs": [
    {
     "data": {
      "text/plain": [
       "['h', 'w', 'r', 's']"
      ]
     },
     "execution_count": 107,
     "metadata": {},
     "output_type": "execute_result"
    }
   ],
   "source": [
    "list_of_first_chars_comp"
   ]
  },
  {
   "cell_type": "code",
   "execution_count": 109,
   "id": "5c18bffd-64b5-4516-b9f3-ea9865745d4a",
   "metadata": {},
   "outputs": [],
   "source": [
    "list_test=[1,2,4,5]"
   ]
  },
  {
   "cell_type": "code",
   "execution_count": 115,
   "id": "56cbf398-de17-4fbe-b8d8-921922f42fff",
   "metadata": {},
   "outputs": [],
   "source": [
    "list_of_even = [items for items in list_test if items%2==0]"
   ]
  },
  {
   "cell_type": "code",
   "execution_count": 117,
   "id": "6e7ff1d6-5183-48ee-a02c-b036cabb16b4",
   "metadata": {},
   "outputs": [
    {
     "data": {
      "text/plain": [
       "[2, 4]"
      ]
     },
     "execution_count": 117,
     "metadata": {},
     "output_type": "execute_result"
    }
   ],
   "source": [
    "list_of_even"
   ]
  },
  {
   "cell_type": "code",
   "execution_count": 119,
   "id": "46b6b961-92e7-4cce-b393-ae10eb3cb3f1",
   "metadata": {},
   "outputs": [],
   "source": [
    "r = [1,2,3,4,5]"
   ]
  },
  {
   "cell_type": "code",
   "execution_count": 127,
   "id": "554f2c18-2a1a-401d-be61-13f61512f7e6",
   "metadata": {},
   "outputs": [
    {
     "data": {
      "text/plain": [
       "[1, 4, 9, 16, 25]"
      ]
     },
     "execution_count": 127,
     "metadata": {},
     "output_type": "execute_result"
    }
   ],
   "source": [
    "square_of_r = [items*items for items in r]\n",
    "square_of_r"
   ]
  },
  {
   "cell_type": "code",
   "execution_count": null,
   "id": "0207989d-3081-4d8a-94ec-c48fadac0abe",
   "metadata": {},
   "outputs": [],
   "source": []
  }
 ],
 "metadata": {
  "kernelspec": {
   "display_name": "Python 3 (ipykernel)",
   "language": "python",
   "name": "python3"
  },
  "language_info": {
   "codemirror_mode": {
    "name": "ipython",
    "version": 3
   },
   "file_extension": ".py",
   "mimetype": "text/x-python",
   "name": "python",
   "nbconvert_exporter": "python",
   "pygments_lexer": "ipython3",
   "version": "3.11.7"
  }
 },
 "nbformat": 4,
 "nbformat_minor": 5
}
