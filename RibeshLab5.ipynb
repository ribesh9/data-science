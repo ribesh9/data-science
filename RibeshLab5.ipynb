{
 "cells": [
  {
   "cell_type": "code",
   "execution_count": 2,
   "id": "55370556-b4b0-4d9a-b339-7e0d41affe4d",
   "metadata": {},
   "outputs": [
    {
     "name": "stdout",
     "output_type": "stream",
     "text": [
      "Collecting mlxtend\n",
      "  Downloading mlxtend-0.23.4-py3-none-any.whl.metadata (7.3 kB)\n",
      "Requirement already satisfied: scipy>=1.2.1 in c:\\anaconda\\lib\\site-packages (from mlxtend) (1.11.4)\n",
      "Requirement already satisfied: numpy>=1.16.2 in c:\\anaconda\\lib\\site-packages (from mlxtend) (1.26.4)\n",
      "Requirement already satisfied: pandas>=0.24.2 in c:\\anaconda\\lib\\site-packages (from mlxtend) (2.1.4)\n",
      "Collecting scikit-learn>=1.3.1 (from mlxtend)\n",
      "  Downloading scikit_learn-1.6.1-cp311-cp311-win_amd64.whl.metadata (15 kB)\n",
      "Requirement already satisfied: matplotlib>=3.0.0 in c:\\anaconda\\lib\\site-packages (from mlxtend) (3.8.0)\n",
      "Requirement already satisfied: joblib>=0.13.2 in c:\\anaconda\\lib\\site-packages (from mlxtend) (1.2.0)\n",
      "Requirement already satisfied: contourpy>=1.0.1 in c:\\anaconda\\lib\\site-packages (from matplotlib>=3.0.0->mlxtend) (1.2.0)\n",
      "Requirement already satisfied: cycler>=0.10 in c:\\anaconda\\lib\\site-packages (from matplotlib>=3.0.0->mlxtend) (0.11.0)\n",
      "Requirement already satisfied: fonttools>=4.22.0 in c:\\anaconda\\lib\\site-packages (from matplotlib>=3.0.0->mlxtend) (4.25.0)\n",
      "Requirement already satisfied: kiwisolver>=1.0.1 in c:\\anaconda\\lib\\site-packages (from matplotlib>=3.0.0->mlxtend) (1.4.4)\n",
      "Requirement already satisfied: packaging>=20.0 in c:\\anaconda\\lib\\site-packages (from matplotlib>=3.0.0->mlxtend) (23.1)\n",
      "Requirement already satisfied: pillow>=6.2.0 in c:\\anaconda\\lib\\site-packages (from matplotlib>=3.0.0->mlxtend) (10.2.0)\n",
      "Requirement already satisfied: pyparsing>=2.3.1 in c:\\anaconda\\lib\\site-packages (from matplotlib>=3.0.0->mlxtend) (3.0.9)\n",
      "Requirement already satisfied: python-dateutil>=2.7 in c:\\anaconda\\lib\\site-packages (from matplotlib>=3.0.0->mlxtend) (2.8.2)\n",
      "Requirement already satisfied: pytz>=2020.1 in c:\\anaconda\\lib\\site-packages (from pandas>=0.24.2->mlxtend) (2023.3.post1)\n",
      "Requirement already satisfied: tzdata>=2022.1 in c:\\anaconda\\lib\\site-packages (from pandas>=0.24.2->mlxtend) (2023.3)\n",
      "Collecting threadpoolctl>=3.1.0 (from scikit-learn>=1.3.1->mlxtend)\n",
      "  Downloading threadpoolctl-3.5.0-py3-none-any.whl.metadata (13 kB)\n",
      "Requirement already satisfied: six>=1.5 in c:\\anaconda\\lib\\site-packages (from python-dateutil>=2.7->matplotlib>=3.0.0->mlxtend) (1.16.0)\n",
      "Downloading mlxtend-0.23.4-py3-none-any.whl (1.4 MB)\n",
      "   ---------------------------------------- 0.0/1.4 MB ? eta -:--:--\n",
      "   ---------------------------------------- 0.0/1.4 MB ? eta -:--:--\n",
      "    --------------------------------------- 0.0/1.4 MB ? eta -:--:--\n",
      "   - -------------------------------------- 0.0/1.4 MB 653.6 kB/s eta 0:00:03\n",
      "   -- ------------------------------------- 0.1/1.4 MB 762.6 kB/s eta 0:00:02\n",
      "   --- ------------------------------------ 0.1/1.4 MB 722.1 kB/s eta 0:00:02\n",
      "   ------ --------------------------------- 0.2/1.4 MB 1.1 MB/s eta 0:00:02\n",
      "   -------- ------------------------------- 0.3/1.4 MB 1.1 MB/s eta 0:00:01\n",
      "   -------------- ------------------------- 0.5/1.4 MB 1.6 MB/s eta 0:00:01\n",
      "   ------------------- -------------------- 0.7/1.4 MB 1.9 MB/s eta 0:00:01\n",
      "   ------------------------------ --------- 1.0/1.4 MB 2.6 MB/s eta 0:00:01\n",
      "   ------------------------------------ --- 1.2/1.4 MB 2.8 MB/s eta 0:00:01\n",
      "   ---------------------------------------- 1.4/1.4 MB 3.0 MB/s eta 0:00:00\n",
      "Downloading scikit_learn-1.6.1-cp311-cp311-win_amd64.whl (11.1 MB)\n",
      "   ---------------------------------------- 0.0/11.1 MB ? eta -:--:--\n",
      "   - -------------------------------------- 0.5/11.1 MB 9.8 MB/s eta 0:00:02\n",
      "   --- ------------------------------------ 0.9/11.1 MB 9.8 MB/s eta 0:00:02\n",
      "   ----- ---------------------------------- 1.5/11.1 MB 10.6 MB/s eta 0:00:01\n",
      "   ------- -------------------------------- 2.1/11.1 MB 12.0 MB/s eta 0:00:01\n",
      "   ---------- ----------------------------- 2.9/11.1 MB 13.0 MB/s eta 0:00:01\n",
      "   ------------ --------------------------- 3.6/11.1 MB 13.5 MB/s eta 0:00:01\n",
      "   --------------- ------------------------ 4.2/11.1 MB 13.6 MB/s eta 0:00:01\n",
      "   ----------------- ---------------------- 5.0/11.1 MB 13.8 MB/s eta 0:00:01\n",
      "   -------------------- ------------------- 5.7/11.1 MB 14.0 MB/s eta 0:00:01\n",
      "   ----------------------- ---------------- 6.4/11.1 MB 14.2 MB/s eta 0:00:01\n",
      "   ------------------------- -------------- 7.2/11.1 MB 14.4 MB/s eta 0:00:01\n",
      "   ---------------------------- ----------- 7.9/11.1 MB 14.4 MB/s eta 0:00:01\n",
      "   ------------------------------ --------- 8.6/11.1 MB 14.4 MB/s eta 0:00:01\n",
      "   --------------------------------- ------ 9.4/11.1 MB 14.6 MB/s eta 0:00:01\n",
      "   ----------------------------------- ---- 10.0/11.1 MB 14.5 MB/s eta 0:00:01\n",
      "   -------------------------------------- - 10.6/11.1 MB 14.9 MB/s eta 0:00:01\n",
      "   ---------------------------------------  11.1/11.1 MB 15.2 MB/s eta 0:00:01\n",
      "   ---------------------------------------  11.1/11.1 MB 15.2 MB/s eta 0:00:01\n",
      "   ---------------------------------------- 11.1/11.1 MB 13.6 MB/s eta 0:00:00\n",
      "Downloading threadpoolctl-3.5.0-py3-none-any.whl (18 kB)\n",
      "Installing collected packages: threadpoolctl, scikit-learn, mlxtend\n",
      "  Attempting uninstall: threadpoolctl\n",
      "    Found existing installation: threadpoolctl 2.2.0\n",
      "    Uninstalling threadpoolctl-2.2.0:\n",
      "      Successfully uninstalled threadpoolctl-2.2.0\n",
      "  Attempting uninstall: scikit-learn\n",
      "    Found existing installation: scikit-learn 1.2.2\n",
      "    Uninstalling scikit-learn-1.2.2:\n",
      "      Successfully uninstalled scikit-learn-1.2.2\n",
      "Successfully installed mlxtend-0.23.4 scikit-learn-1.6.1 threadpoolctl-3.5.0\n"
     ]
    }
   ],
   "source": [
    "!pip install mlxtend"
   ]
  },
  {
   "cell_type": "code",
   "execution_count": null,
   "id": "16ac0f62-b4b8-47fd-a5e5-290aa042df17",
   "metadata": {},
   "outputs": [],
   "source": [
    "import numpy as np \n",
    "import pandas as pd \n",
    "from mlxtend.frequent_patterns import apriori, association_rules "
   ]
  },
  {
   "cell_type": "code",
   "execution_count": null,
   "id": "dd9a6421-f104-4aad-b2bd-dd99da5056fb",
   "metadata": {},
   "outputs": [],
   "source": [
    "cust_data = pd.read_excel('Customer_Shopping_data.xlsx') \n",
    "cust_data.head() \n"
   ]
  },
  {
   "cell_type": "code",
   "execution_count": null,
   "id": "4f2b90c0-ef26-4651-b97f-6641ff02cb2a",
   "metadata": {},
   "outputs": [],
   "source": [
    "# Remove the unnecessary spaces in the description\n",
    "cust_data['Description'] = cust_data['Description'].str.strip() \n",
    "\n",
    "# Dropping the rows without any invoice number \n",
    "cust_data.dropna(axis = 0, subset =['InvoiceNo'], inplace = True) \n",
    "cust_data['InvoiceNo'] = cust_data['InvoiceNo'].astype('str') \n"
   ]
  },
  {
   "cell_type": "code",
   "execution_count": null,
   "id": "078a2098-3455-4c58-b35d-303567672e26",
   "metadata": {},
   "outputs": [],
   "source": [
    "cust_data"
   ]
  },
  {
   "cell_type": "code",
   "execution_count": null,
   "id": "519be50e-abc6-427f-967d-1f2f5409505e",
   "metadata": {},
   "outputs": [],
   "source": [
    "cust_data['Country'].value_counts()"
   ]
  },
  {
   "cell_type": "code",
   "execution_count": null,
   "id": "05d44fd3-1cbf-4b35-8292-ecae0dc4f2d8",
   "metadata": {},
   "outputs": [],
   "source": [
    "# Transactions analysis and association in United Kingdom  \n",
    "\n",
    "cust_data_UK = (cust_data[cust_data['Country'] ==\"United Kingdom\"] \n",
    "\t\t.groupby(['InvoiceNo', 'Description'])['Quantity'] \n",
    "\t\t.sum().unstack().reset_index().fillna(0) \n",
    "\t\t.set_index('InvoiceNo'))"
   ]
  },
  {
   "cell_type": "code",
   "execution_count": null,
   "id": "fe5efc2d-2c16-40c1-8c12-b29e7e856246",
   "metadata": {},
   "outputs": [],
   "source": [
    "cust_data_UK"
   ]
  },
  {
   "cell_type": "code",
   "execution_count": null,
   "id": "6dc47faf-ac5f-4f07-bd17-81be35e6071a",
   "metadata": {},
   "outputs": [],
   "source": [
    "def one_hot_encoding(x): \n",
    "    if(x<= 0): \n",
    "        return 0\n",
    "    if(x>= 1): \n",
    "        return 1"
   ]
  },
  {
   "cell_type": "code",
   "execution_count": null,
   "id": "2f9f99d2-c105-40a8-81a8-f32106ce2432",
   "metadata": {},
   "outputs": [],
   "source": [
    "cust_data_UK_encoded = cust_data_UK.map(one_hot_encoding) "
   ]
  },
  {
   "cell_type": "code",
   "execution_count": null,
   "id": "0d464ec9-22d5-475f-88dc-a40f55538018",
   "metadata": {},
   "outputs": [],
   "source": [
    "cust_data_UK_encoded"
   ]
  },
  {
   "cell_type": "code",
   "execution_count": null,
   "id": "54c126d5-385b-4dbe-b71b-973aedbaff99",
   "metadata": {},
   "outputs": [],
   "source": [
    "# Building the model \n",
    "frq_items = apriori(cust_data_UK_encoded, min_support = 0.01, use_colnames = True) \n",
    "\n",
    "# Collecting the inferred rules in a dataframe \n",
    "rules = association_rules(frq_items, metric =\"lift\", min_threshold = 1) \n",
    "rules = rules.sort_values(['confidence', 'lift'], ascending =[False, False]) "
   ]
  },
  {
   "cell_type": "code",
   "execution_count": null,
   "id": "521c8bbf-15dd-4b71-aa47-007244354959",
   "metadata": {},
   "outputs": [],
   "source": [
    "rules.head()"
   ]
  },
  {
   "cell_type": "code",
   "execution_count": null,
   "id": "73e48e34-8472-4126-a3c9-89a884e071b6",
   "metadata": {},
   "outputs": [],
   "source": [
    "# Experiment with different min_support values\n",
    "for min_sup in [0.01, 0.02, 0.05]:\n",
    "    frq_items = apriori(cust_data_UK_encoded, min_support=min_sup, use_colnames=True)\n",
    "    rules = association_rules(frq_items, metric=\"lift\", min_threshold=1)\n",
    "    print(f\"Number of rules with min_support {min_sup}: {len(rules)}\")"
   ]
  },
  {
   "cell_type": "code",
   "execution_count": null,
   "id": "c16c5056-c9d9-4f35-87af-73f391ba67f2",
   "metadata": {},
   "outputs": [],
   "source": []
  }
 ],
 "metadata": {
  "kernelspec": {
   "display_name": "Python [conda env:base] *",
   "language": "python",
   "name": "conda-base-py"
  },
  "language_info": {
   "codemirror_mode": {
    "name": "ipython",
    "version": 3
   },
   "file_extension": ".py",
   "mimetype": "text/x-python",
   "name": "python",
   "nbconvert_exporter": "python",
   "pygments_lexer": "ipython3",
   "version": "3.11.7"
  }
 },
 "nbformat": 4,
 "nbformat_minor": 5
}
